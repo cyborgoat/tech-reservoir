{
 "cells": [
  {
   "cell_type": "markdown",
   "id": "552f7380-d22a-473b-93a7-7b96712bc1d1",
   "metadata": {},
   "source": [
    "# Implement Bayesian Optimization from Scratch in Python"
   ]
  },
  {
   "cell_type": "markdown",
   "id": "1640f9f5-5241-4891-9d6c-d8dbf0f99b80",
   "metadata": {},
   "source": [
    "Hyperparameter optimization is a challenging problem of finding an input that results in the minimum or maximum cost of a given objective function.\n",
    "\n",
    "Bayesian Optimization provides a principled technique based on Bayes Theorem to direct a search of a global optimization problem that is efficient and effective. It works by building a probabilistic model of the objective function, called the surrogate function, that is then searched efficiently with an acquisition function before candidate samples are chosen for evaluation on the real objective function.\n",
    "\n",
    "Bayesian Optimization is often used in applied machine learning to tune the hyperparameters of a given well-performing model on a validation dataset."
   ]
  },
  {
   "cell_type": "markdown",
   "id": "614e91af-5809-4a58-ae24-2cdb63ca124e",
   "metadata": {},
   "source": [
    "## What is bayesian optimization"
   ]
  },
  {
   "cell_type": "markdown",
   "id": "35e17b62-ae4b-429f-a95d-13e33fba0b45",
   "metadata": {},
   "source": [
    "Bayesian Optimization is an approach that uses Bayes Theorem to direct the search in order to find the minimum or maximum of an objective function.\n",
    "\n",
    "It is an approach that is most useful for objective functions that are complex, noisy, and/or expensive to evaluate."
   ]
  },
  {
   "cell_type": "markdown",
   "id": "c0cadfec-f8d3-4bdc-8485-516ca83c1574",
   "metadata": {},
   "source": [
    "Recall that Bayes Theorem is an approach for calculating the conditional probability of an event:\n",
    "\n",
    "$$P(A|B) = \\frac{P(B|A) * P(A)}{P(B)}$$\n",
    "\n",
    "We can simplify this calculation by removing the normalizing value of P(B) and describe the conditional probability as a proportional quantity. This is useful as we are not interested in calculating a specific conditional probability, but instead in optimizing a quantity.\n",
    "\n",
    "$$P(A|B) = P(B|A) * P(A)$$\n",
    "\n",
    "The conditional probability that we are calculating is referred to generally as the posterior probability; the reverse conditional probability is sometimes referred to as the likelihood, and the marginal probability is referred to as the prior probability; for example:\n",
    "\n",
    "$$posterior = likelihood * prior$$\n",
    "This provides a framework that can be used to quantify the beliefs about an unknown objective function given samples from the domain and their evaluation via the objective function.\n",
    "\n",
    "We can devise specific samples $(x_1, x_2, …, x_n)$ and evaluate them using the objective function f(xi) that returns the cost or outcome for the sample xi. Samples and their outcome are collected sequentially and define our data D, e.g. $D = {x_i, f(x_i), … x_n, f(x_n)}$ and is used to define the prior. The likelihood function is defined as the probability of observing the data given the function $P(D | f)$. This likelihood function will change as more observations are collected.\n",
    "\n",
    "$$P(f|D) = P(D|f) * P(f)$$\n",
    "The posterior represents everything we know about the objective function. It is an approximation of the objective function and can be used to estimate the cost of different candidate samples that we may want to evaluate.\n",
    "\n",
    "In this way, the posterior probability is a surrogate objective function.\n",
    "\n",
    "- **Surrogate Function**: Bayesian approximation of the objective function that can be sampled efficiently.\n",
    "The surrogate function gives us an estimate of the objective function, which can be used to direct future sampling. Sampling involves careful use of the posterior in a function known as the “acquisition” function, e.g. for acquiring more samples. We want to use our belief about the objective function to sample the area of the search space that is most likely to pay off, therefore the acquisition will optimize the conditional probability of locations in the search to generate the next sample.\n",
    "\n",
    "- **Acquisition Function**: Technique by which the posterior is used to select the next sample from the search space.\n",
    "Once additional samples and their evaluation via the objective function f() have been collected, they are added to data D and the posterior is then updated.\n",
    "\n",
    "This process is repeated until the extrema of the objective function is located, a good enough result is located, or resources are exhausted.\n",
    "\n",
    "The Bayesian Optimization algorithm can be summarized as follows:\n",
    "\n",
    "1. Select a Sample by Optimizing the Acquisition Function.\n",
    "2. Evaluate the Sample With the Objective Function.\n",
    "3. Update the Data and, in turn, the Surrogate Function.\n",
    "4. Go To 1."
   ]
  },
  {
   "cell_type": "markdown",
   "id": "68c2cb10-8dda-4281-80c7-af93cb43c70f",
   "metadata": {},
   "source": [
    "## Performing Bayesian Optimization\n",
    "\n",
    "In this section, we will explore how Bayesian Optimization works by developing an implementation from scratch for a simple one-dimensional test function.\n",
    "\n",
    "First, we will define the test problem, then how to model the mapping of inputs to outputs with a surrogate function. Next, we will see how the surrogate function can be searched efficiently with an acquisition function before tying all of these elements together into the Bayesian Optimization procedure."
   ]
  },
  {
   "cell_type": "code",
   "execution_count": 4,
   "id": "82d4107e-cb8a-4c39-aea6-434783464ec9",
   "metadata": {},
   "outputs": [],
   "source": [
    "import numpy as np\n",
    "import math\n",
    "from matplotlib import pyplot"
   ]
  },
  {
   "cell_type": "markdown",
   "id": "649e345e-3b63-424a-936f-c0644180110e",
   "metadata": {},
   "source": [
    "### Problem definition"
   ]
  },
  {
   "cell_type": "markdown",
   "id": "2ab43fb5-f9ff-4fcd-86a8-5bc9f0be7cd7",
   "metadata": {},
   "source": [
    "We will use a multimodal problem with five peaks, calculated as:\n",
    "\n",
    "$$y = x^2 * cos(3 * \\pi * x)^4$$\n"
   ]
  },
  {
   "cell_type": "markdown",
   "id": "c70cc274-ffe6-4a4d-8952-1554c993ea7f",
   "metadata": {},
   "source": [
    "Where x is a real value in the range $[0,1]$."
   ]
  },
  {
   "cell_type": "markdown",
   "id": "8765d407-eede-4336-aaca-4c6f44707075",
   "metadata": {},
   "source": [
    "We will augment this function by adding Gaussian noise with a mean of zero and a standard deviation of 0.1. This will mean that the real evaluation will have a positive or negative random value added to it, making the function challenging to optimize."
   ]
  },
  {
   "cell_type": "markdown",
   "id": "4c0142e4-a811-4f44-9ab4-419d00eed4b9",
   "metadata": {},
   "source": [
    "The objective() function below implements this."
   ]
  },
  {
   "cell_type": "code",
   "execution_count": 5,
   "id": "3d5eab41-4369-4d6d-a92d-0899864dae95",
   "metadata": {},
   "outputs": [],
   "source": [
    "# objective function\n",
    "def objective(x, noise=0.1):\n",
    "    noise = np.random.normal(loc=0, scale=noise)\n",
    "    return (x**2 * math.cos(3 * math.pi * x)**4.0) + noise"
   ]
  },
  {
   "cell_type": "markdown",
   "id": "32a58b2c-9263-4896-aef4-386fecda60f7",
   "metadata": {},
   "source": [
    "We can test this function by first defining a grid-based sample of inputs from 0 to 1 with a step size of 0.01 across the domain."
   ]
  },
  {
   "cell_type": "code",
   "execution_count": 6,
   "id": "22a02fff-0835-4c0d-a2a7-4d62f08e5332",
   "metadata": {},
   "outputs": [],
   "source": [
    "# grid-based sample of the domain [0,1]\n",
    "X = np.arange(0, 1, 0.01)"
   ]
  },
  {
   "cell_type": "markdown",
   "id": "33de4b58-9ab9-4700-9707-ac331022a13f",
   "metadata": {},
   "source": [
    "We can then evaluate these samples using the target function without any noise to see what the real objective function looks like."
   ]
  },
  {
   "cell_type": "code",
   "execution_count": 7,
   "id": "8ae2af58-ad1f-4233-8d36-5c85043f5fa8",
   "metadata": {},
   "outputs": [],
   "source": [
    "# sample the domain without noise\n",
    "y = [objective(x, 0) for x in X]"
   ]
  },
  {
   "cell_type": "markdown",
   "id": "1d7e5957-829b-4d80-b86b-affe11ffd8b8",
   "metadata": {},
   "source": [
    "We can then evaluate these same points with noise to see what the objective function will look like when we are optimizing it."
   ]
  },
  {
   "cell_type": "code",
   "execution_count": 8,
   "id": "9f43da09-0a65-4c0a-804d-d9a025b5fb08",
   "metadata": {},
   "outputs": [],
   "source": [
    "# sample the domain with noise\n",
    "ynoise = [objective(x) for x in X]"
   ]
  },
  {
   "cell_type": "markdown",
   "id": "7133ca69-440e-49ad-bddb-d418741c54a0",
   "metadata": {},
   "source": [
    "We can look at all of the non-noisy objective function values to find the input that resulted in the best score and report it. This will be the optima, in this case, maxima, as we are maximizing the output of the objective function.\n",
    "\n",
    "We would not know this in practice, but for out test problem, it is good to know the real best input and output of the function to see if the Bayesian Optimization algorithm can locate it."
   ]
  },
  {
   "cell_type": "code",
   "execution_count": 9,
   "id": "76192819-0300-42fa-b9f9-529da7245998",
   "metadata": {},
   "outputs": [
    {
     "name": "stdout",
     "output_type": "stream",
     "text": [
      "Optima: x=0.990, y=0.963\n"
     ]
    }
   ],
   "source": [
    "# find best result\n",
    "ix = np.argmax(y)\n",
    "print('Optima: x=%.3f, y=%.3f' % (X[ix], y[ix]))"
   ]
  },
  {
   "cell_type": "markdown",
   "id": "0ad45d16-adb7-4e19-bce9-66a661231efe",
   "metadata": {},
   "source": [
    "Finally, we can create a plot, first showing the noisy evaluation as a scatter plot with input on the x-axis and score on the y-axis, then a line plot of the scores without any noise."
   ]
  },
  {
   "cell_type": "code",
   "execution_count": 10,
   "id": "5eff662f-3b76-4b5b-b363-632e26d26c36",
   "metadata": {},
   "outputs": [
    {
     "data": {
      "image/png": "[encoded data removed]",
      "text/plain": [
       "<Figure size 640x480 with 1 Axes>"
      ]
     },
     "metadata": {},
     "output_type": "display_data"
    }
   ],
   "source": [
    "# plot the points with noise\n",
    "pyplot.scatter(X, ynoise)\n",
    "# plot the points without noise\n",
    "pyplot.plot(X, y)\n",
    "# show the plot\n",
    "pyplot.show()"
   ]
  },
  {
   "cell_type": "markdown",
   "id": "83c531a3-aa39-4a10-ab56-3483e188ef4a",
   "metadata": {},
   "source": [
    "### Surrogate Function"
   ]
  },
  {
   "cell_type": "markdown",
   "id": "2d48680f-8a7b-4874-b719-071291fc1c5b",
   "metadata": {},
   "source": [
    "The surrogate function is a technique used to best approximate the mapping of input examples to an output score.\n",
    "\n",
    "Probabilistically, it summarizes the conditional probability of an objective function $(f)$, given the available data $(D)$ or $P(f|D)$.\n",
    "\n",
    "A number of techniques can be used for this, although the most popular is to treat the problem as a regression predictive modeling problem with the data representing the input and the score representing the output to the model. This is often best modeled using a random forest or a Gaussian Process.\n",
    "\n",
    "A Gaussian Process, or GP, is a model that constructs a joint probability distribution over the variables, assuming a multivariate Gaussian distribution. As such, it is capable of efficient and effective summarization of a large number of functions and smooth transition as more observations are made available to the model.\n",
    "\n",
    "This smooth structure and smooth transition to new functions based on data are desirable properties as we sample the domain, and the multivariate Gaussian basis to the model means that an estimate from the model will be a mean of a distribution with a standard deviation; that will be helpful later in the acquisition function.\n",
    "\n",
    "As such, using a GP regression model is often preferred.\n",
    "\n",
    "We can fit a GP regression model using the GaussianProcessRegressor scikit-learn implementation from a sample of inputs $(X)$ and noisy evaluations from the objective function $(y)$.\n",
    "\n",
    "First, the model must be defined. An important aspect in defining the GP model is the kernel. This controls the shape of the function at specific points based on distance measures between actual data observations. Many different kernel functions can be used, and some may offer better performance for specific datasets.\n",
    "\n",
    "By default, a Radial Basis Function, or RBF, is used that can work well.\n",
    "\n",
    "Once defined, the model can be fit on the training dataset directly by calling the fit() function.\n",
    "\n",
    "The defined model can be fit again at any time with updated data concatenated to the existing data by another call to fit().\n",
    "\n",
    "The model will estimate the cost for one or more samples provided to it.\n",
    "\n",
    "The model is used by calling the predict() function. The result for a given sample will be a mean of the distribution at that point. We can also get the standard deviation of the distribution at that point in the function by specifying the argument return_std=True; for example:\n",
    "\n",
    "This function can result in warnings if the distribution is thin at a given point we are interested in sampling.\n",
    "\n",
    "Therefore, we can silence all of the warnings when making a prediction. The surrogate() function below takes the fit model and one or more samples and returns the mean and standard deviation estimated costs whilst not printing any warnings."
   ]
  },
  {
   "cell_type": "code",
   "execution_count": 12,
   "id": "612ac451-0947-4f5e-a8bb-fce2c2b350fc",
   "metadata": {},
   "outputs": [],
   "source": [
    "from sklearn.gaussian_process import GaussianProcessRegressor\n",
    "from scipy.stats import norm\n",
    "from warnings import catch_warnings\n",
    "from warnings import simplefilter\n",
    "# surrogate or approximation for the objective function\n",
    "def surrogate(model, X):\n",
    "\t# catch any warning generated when making a prediction\n",
    "\twith catch_warnings():\n",
    "\t\t# ignore generated warnings\n",
    "\t\tsimplefilter(\"ignore\")\n",
    "\t\treturn model.predict(X, return_std=True)"
   ]
  },
  {
   "cell_type": "markdown",
   "id": "4feb89f4-4ae8-439c-bef7-6f1bfb3c8dc3",
   "metadata": {},
   "source": [
    "We can call this function any time to estimate the cost of one or more samples, such as when we want to optimize the acquisition function in the next section.\n",
    "\n",
    "For now, it is interesting to see what the surrogate function looks like across the domain after it is trained on a random sample.\n",
    "\n",
    "We can achieve this by first fitting the GP model on a random sample of 100 data points and their real objective function values with noise. We can then plot a scatter plot of these points. Next, we can perform a grid-based sample across the input domain and estimate the cost at each point using the surrogate function and plot the result as a line.\n",
    "\n",
    "We would expect the surrogate function to have a crude approximation of the true non-noisy objective function.\n",
    "\n",
    "The plot() function below creates this plot, given the random data sample of the real noisy objective function and the fit model."
   ]
  },
  {
   "cell_type": "code",
   "execution_count": 13,
   "id": "0c062324-0703-43a8-8d05-f2e192b21259",
   "metadata": {},
   "outputs": [],
   "source": [
    "# plot real observations vs surrogate function\n",
    "def plot(X, y, model):\n",
    "\t# scatter plot of inputs and real objective function\n",
    "\tpyplot.scatter(X, y)\n",
    "\t# line plot of surrogate function across domain\n",
    "\tXsamples = np.asarray(np.arange(0, 1, 0.001))\n",
    "\tXsamples = Xsamples.reshape(len(Xsamples), 1)\n",
    "\tysamples, _ = surrogate(model, Xsamples)\n",
    "\tpyplot.plot(Xsamples, ysamples)\n",
    "\t# show the plot\n",
    "\tpyplot.show()"
   ]
  },
  {
   "cell_type": "code",
   "execution_count": 14,
   "id": "21839df9-b169-48f0-baa7-0f3a0f39451f",
   "metadata": {},
   "outputs": [
    {
     "data": {
      "image/png": "[encoded data removed]",
      "text/plain": [
       "<Figure size 640x480 with 1 Axes>"
      ]
     },
     "metadata": {},
     "output_type": "display_data"
    }
   ],
   "source": [
    "# sample the domain sparsely with noise\n",
    "X = np.random.random(100)\n",
    "y = np.asarray([objective(x) for x in X])\n",
    "# reshape into rows and cols\n",
    "X = X.reshape(len(X), 1)\n",
    "y = y.reshape(len(y), 1)\n",
    "# define the model\n",
    "model = GaussianProcessRegressor()\n",
    "# fit the model\n",
    "model.fit(X, y)\n",
    "# plot the surrogate function\n",
    "plot(X, y, model)"
   ]
  },
  {
   "cell_type": "markdown",
   "id": "134bd564-2ca3-4690-8d08-3a118394f6f3",
   "metadata": {},
   "source": [
    "Running the example first draws the random sample, evaluates it with the noisy objective function, then fits the GP model.\n",
    "\n",
    "The data sample and a grid of points across the domain evaluated via the surrogate function are then plotted as dots and a line respectively.\n",
    "\n",
    "Note: Your results may vary given the stochastic nature of the algorithm or evaluation procedure, or differences in numerical precision. Consider running the example a few times and compare the average outcome.\n",
    "\n",
    "In this case, as we expected, the plot resembles a crude version of the underlying non-noisy objective function, importantly with a peak around 0.9 where we know the true maxima is located."
   ]
  },
  {
   "cell_type": "markdown",
   "id": "3409665a-0c05-4f4a-a2f4-a43f54d97707",
   "metadata": {},
   "source": [
    "### Acquisition Function\n",
    "The surrogate function is used to test a range of candidate samples in the domain.\n",
    "\n",
    "From these results, one or more candidates can be selected and evaluated with the real, and in normal practice, computationally expensive cost function.\n",
    "\n",
    "This involves two pieces: the search strategy used to navigate the domain in response to the surrogate function and the acquisition function that is used to interpret and score the response from the surrogate function.\n",
    "\n",
    "A simple search strategy, such as a random sample or grid-based sample, can be used, although it is more common to use a local search strategy, such as the popular BFGS algorithm. In this case, we will use a random search or random sample of the domain in order to keep the example simple.\n",
    "\n",
    "This involves first drawing a random sample of candidate samples from the domain, evaluating them with the acquisition function, then maximizing the acquisition function or choosing the candidate sample that gives the best score. The opt_acquisition() function below implements this."
   ]
  },
  {
   "cell_type": "code",
   "execution_count": 15,
   "id": "f61bc899-b64c-418c-b0ad-da9c56b128bf",
   "metadata": {},
   "outputs": [],
   "source": [
    "# optimize the acquisition function\n",
    "def opt_acquisition(X, y, model):\n",
    "\t# random search, generate random samples\n",
    "\tXsamples = np.random.random(100)\n",
    "\tXsamples = Xsamples.reshape(len(Xsamples), 1)\n",
    "\t# calculate the acquisition function for each sample\n",
    "\tscores = acquisition(X, Xsamples, model)\n",
    "\t# locate the index of the largest scores\n",
    "\tix = np.argmax(scores)\n",
    "\treturn Xsamples[ix, 0]"
   ]
  },
  {
   "cell_type": "markdown",
   "id": "0bcde71b-62cd-4517-bf22-b34c8cb8c587",
   "metadata": {},
   "source": [
    "The acquisition function is responsible for scoring or estimating the likelihood that a given candidate sample (input) is worth evaluating with the real objective function.\n",
    "\n",
    "We could just use the surrogate score directly. Alternately, given that we have chosen a Gaussian Process model as the surrogate function, we can use the probabilistic information from this model in the acquisition function to calculate the probability that a given sample is worth evaluating.\n",
    "\n",
    "There are many different types of probabilistic acquisition functions that can be used, each providing a different trade-off for how exploitative (greedy) and explorative they are.\n",
    "\n",
    "Three common examples include:\n",
    "\n",
    "Probability of Improvement (PI).\n",
    "Expected Improvement (EI).\n",
    "Lower Confidence Bound (LCB).\n",
    "The Probability of Improvement method is the simplest, whereas the Expected Improvement method is the most commonly used.\n",
    "\n",
    "In this case, we will use the simpler Probability of Improvement method, which is calculated as the normal cumulative probability of the normalized expected improvement, calculated as follows:\n",
    "\n",
    "$$PI = cdf\\left(\\frac{\\mu – best_\\mu}{stdev}\\right)$$\n",
    "Where PI is the probability of improvement, cdf() is the normal cumulative distribution function, mu is the mean of the surrogate function for a given sample x, stdev is the standard deviation of the surrogate function for a given sample x, and best_mu is the mean of the surrogate function for the best sample found so far.\n",
    "\n",
    "We can add a very small number to the standard deviation to avoid a divide by zero error.\n",
    "\n",
    "The acquisition() function below implements this given the current training dataset of input samples, an array of new candidate samples, and the fit GP model.\n",
    "\n"
   ]
  },
  {
   "cell_type": "code",
   "execution_count": 16,
   "id": "5f120772-178d-4f3a-809d-fafe851adc32",
   "metadata": {},
   "outputs": [],
   "source": [
    "# probability of improvement acquisition function\n",
    "def acquisition(X, Xsamples, model):\n",
    "    # calculate the best surrogate score found so far\n",
    "    yhat, _ = surrogate(model, X)\n",
    "    best = max(yhat)\n",
    "    # calculate mean and stdev via surrogate function\n",
    "    mu, std = surrogate(model, Xsamples)\n",
    "    mu = mu[0]\n",
    "    # calculate the probability of improvement\n",
    "    probs = norm.cdf((mu - best) / (std+1E-9))\n",
    "    return probs"
   ]
  },
  {
   "cell_type": "markdown",
   "id": "89459104-2df2-419c-89dc-0d53b31bc5ea",
   "metadata": {},
   "source": [
    "### Complete Bayesian Optimization Algorithm\n",
    "We can tie all of this together into the Bayesian Optimization algorithm.\n",
    "\n",
    "The main algorithm involves cycles of selecting candidate samples, evaluating them with the objective function, then updating the GP model."
   ]
  },
  {
   "cell_type": "code",
   "execution_count": 18,
   "id": "e7a6719d-7ce0-4d8c-b192-e178e2a3ef18",
   "metadata": {},
   "outputs": [
    {
     "name": "stdout",
     "output_type": "stream",
     "text": [
      ">x=0.730, f()=0.184289, actual=0.121\n",
      ">x=0.111, f()=-0.027583, actual=-0.074\n",
      ">x=0.552, f()=0.143937, actual=0.110\n",
      ">x=0.018, f()=-0.027990, actual=-0.092\n",
      ">x=0.183, f()=0.037242, actual=-0.161\n",
      ">x=0.314, f()=0.044528, actual=0.119\n",
      ">x=0.501, f()=0.092083, actual=0.225\n",
      ">x=0.324, f()=0.048285, actual=-0.028\n",
      ">x=0.633, f()=0.213960, actual=0.444\n",
      ">x=0.833, f()=0.037535, actual=0.032\n",
      ">x=0.147, f()=-0.003670, actual=-0.089\n",
      ">x=0.411, f()=0.042961, actual=-0.146\n",
      ">x=0.548, f()=0.146983, actual=-0.004\n",
      ">x=0.701, f()=0.214302, actual=0.516\n",
      ">x=0.645, f()=0.234407, actual=0.408\n",
      ">x=0.200, f()=0.037665, actual=-0.150\n",
      ">x=0.376, f()=0.021204, actual=0.031\n",
      ">x=0.939, f()=0.347035, actual=0.487\n",
      ">x=0.188, f()=0.021515, actual=-0.043\n",
      ">x=0.451, f()=0.047320, actual=0.122\n",
      ">x=0.652, f()=0.240299, actual=0.486\n",
      ">x=0.504, f()=0.101579, actual=0.052\n",
      ">x=0.891, f()=0.077599, actual=0.159\n",
      ">x=0.113, f()=-0.047501, actual=0.014\n",
      ">x=0.809, f()=0.078588, actual=-0.019\n",
      ">x=0.804, f()=0.082505, actual=-0.117\n",
      ">x=0.720, f()=0.210055, actual=0.337\n",
      ">x=0.644, f()=0.246607, actual=0.387\n",
      ">x=0.835, f()=0.037425, actual=-0.014\n",
      ">x=0.824, f()=0.047995, actual=0.195\n",
      ">x=0.579, f()=0.198570, actual=-0.076\n",
      ">x=0.726, f()=0.211711, actual=0.029\n",
      ">x=0.958, f()=0.575847, actual=0.698\n",
      ">x=0.615, f()=0.223985, actual=0.126\n",
      ">x=0.069, f()=-0.075717, actual=-0.082\n",
      ">x=0.655, f()=0.239788, actual=0.375\n",
      ">x=0.922, f()=0.236106, actual=0.206\n",
      ">x=0.920, f()=0.216895, actual=0.267\n",
      ">x=0.526, f()=0.123479, actual=-0.031\n",
      ">x=0.902, f()=0.127254, actual=0.198\n",
      ">x=0.157, f()=0.000214, actual=0.126\n",
      ">x=0.522, f()=0.113745, actual=0.074\n",
      ">x=0.435, f()=0.027304, actual=0.019\n",
      ">x=0.247, f()=0.044864, actual=0.162\n",
      ">x=0.361, f()=0.016949, actual=-0.012\n",
      ">x=0.665, f()=0.242741, actual=0.393\n",
      ">x=0.685, f()=0.243052, actual=0.477\n",
      ">x=0.305, f()=0.033370, actual=0.002\n",
      ">x=0.714, f()=0.228777, actual=0.421\n",
      ">x=0.041, f()=-0.074117, actual=-0.018\n",
      ">x=0.520, f()=0.109454, actual=0.024\n",
      ">x=0.700, f()=0.247236, actual=0.245\n",
      ">x=0.163, f()=0.016365, actual=-0.038\n",
      ">x=0.252, f()=0.048665, actual=-0.190\n",
      ">x=0.543, f()=0.141004, actual=0.093\n",
      ">x=0.155, f()=0.001009, actual=0.021\n",
      ">x=0.617, f()=0.232950, actual=0.279\n",
      ">x=0.611, f()=0.227659, actual=0.102\n",
      ">x=0.846, f()=0.040546, actual=-0.000\n",
      ">x=0.396, f()=0.003627, actual=0.030\n",
      ">x=0.868, f()=0.041979, actual=-0.078\n",
      ">x=0.367, f()=0.004547, actual=0.197\n",
      ">x=0.157, f()=0.002728, actual=0.075\n",
      ">x=0.955, f()=0.546076, actual=0.721\n",
      ">x=0.368, f()=0.010627, actual=0.206\n",
      ">x=0.112, f()=-0.042221, actual=-0.035\n",
      ">x=0.364, f()=0.018361, actual=0.104\n",
      ">x=0.606, f()=0.219331, actual=0.069\n",
      ">x=0.081, f()=-0.069628, actual=0.017\n",
      ">x=0.710, f()=0.230911, actual=0.244\n",
      ">x=0.604, f()=0.214127, actual=0.149\n",
      ">x=0.008, f()=0.004511, actual=0.225\n",
      ">x=0.022, f()=-0.001628, actual=-0.060\n",
      ">x=0.264, f()=0.051658, actual=0.199\n",
      ">x=0.675, f()=0.248820, actual=0.458\n",
      ">x=0.172, f()=0.022201, actual=-0.138\n",
      ">x=0.114, f()=-0.045593, actual=-0.075\n",
      ">x=0.320, f()=0.038862, actual=0.245\n",
      ">x=0.907, f()=0.140820, actual=0.082\n",
      ">x=0.309, f()=0.049870, actual=0.161\n",
      ">x=0.096, f()=-0.066524, actual=0.065\n",
      ">x=0.863, f()=0.036767, actual=-0.112\n",
      ">x=0.564, f()=0.165869, actual=0.089\n",
      ">x=0.585, f()=0.191013, actual=0.245\n",
      ">x=0.567, f()=0.169804, actual=0.209\n",
      ">x=0.937, f()=0.350444, actual=0.275\n",
      ">x=0.022, f()=-0.004667, actual=-0.186\n",
      ">x=0.982, f()=1.012612, actual=0.915\n",
      ">x=0.181, f()=0.030780, actual=-0.143\n",
      ">x=0.655, f()=0.251000, actual=0.394\n",
      ">x=0.860, f()=0.030138, actual=0.008\n",
      ">x=0.536, f()=0.130837, actual=0.076\n",
      ">x=0.458, f()=0.047884, actual=-0.065\n",
      ">x=0.155, f()=0.000599, actual=-0.071\n",
      ">x=0.128, f()=-0.034013, actual=0.021\n",
      ">x=0.802, f()=0.095861, actual=0.115\n",
      ">x=0.013, f()=0.007652, actual=0.040\n",
      ">x=0.597, f()=0.207478, actual=0.113\n",
      ">x=0.481, f()=0.062518, actual=-0.028\n",
      ">x=0.031, f()=-0.041620, actual=0.012\n"
     ]
    }
   ],
   "source": [
    "# perform the optimization process\n",
    "for i in range(100):\n",
    "    # select the next point to sample\n",
    "    x = opt_acquisition(X, y, model)\n",
    "    # sample the point\n",
    "    actual = objective(x)\n",
    "    # summarize the finding for our own reporting\n",
    "    est, _ = surrogate(model, [[x]])\n",
    "    print('>x=%.3f, f()=%3f, actual=%.3f' % (x, est, actual))\n",
    "    # add the data to the dataset\n",
    "    X = np.vstack((X, [[x]]))\n",
    "    y = np.vstack((y, [[actual]]))\n",
    "    # update the model\n",
    "    model.fit(X, y)"
   ]
  },
  {
   "cell_type": "code",
   "execution_count": 19,
   "id": "52e91608-8d7e-4331-8e02-d7990ed13990",
   "metadata": {},
   "outputs": [
    {
     "data": {
      "image/png": "[encoded data removed]",
      "text/plain": [
       "<Figure size 640x480 with 1 Axes>"
      ]
     },
     "metadata": {},
     "output_type": "display_data"
    },
    {
     "name": "stdout",
     "output_type": "stream",
     "text": [
      ">x=0.102, f()=0.060782, actual=0.292\n",
      ">x=0.873, f()=0.413320, actual=0.536\n",
      ">x=0.843, f()=0.320122, actual=-0.048\n",
      ">x=0.891, f()=0.448285, actual=0.706\n",
      ">x=0.616, f()=0.048923, actual=-0.051\n",
      ">x=0.908, f()=0.495629, actual=0.960\n",
      ">x=0.412, f()=0.067312, actual=0.280\n",
      ">x=0.285, f()=-0.008690, actual=-0.125\n",
      ">x=0.700, f()=-0.003496, actual=0.538\n",
      ">x=0.181, f()=0.035102, actual=-0.093\n",
      ">x=0.535, f()=0.113524, actual=0.173\n",
      ">x=0.856, f()=0.385614, actual=0.141\n",
      ">x=0.899, f()=0.497756, actual=0.802\n",
      ">x=0.494, f()=0.121846, actual=0.208\n",
      ">x=0.500, f()=0.126240, actual=0.464\n",
      ">x=0.426, f()=0.097669, actual=-0.106\n",
      ">x=0.048, f()=0.038228, actual=-0.114\n",
      ">x=0.245, f()=-0.017675, actual=0.092\n",
      ">x=0.036, f()=-0.008618, actual=0.219\n",
      ">x=0.413, f()=0.077691, actual=0.046\n",
      ">x=0.363, f()=0.028979, actual=0.002\n",
      ">x=0.993, f()=-0.013223, actual=0.096\n",
      ">x=0.296, f()=-0.014537, actual=0.116\n",
      ">x=0.867, f()=0.421545, actual=0.147\n",
      ">x=0.845, f()=0.326493, actual=0.056\n",
      ">x=0.556, f()=0.121482, actual=-0.011\n",
      ">x=0.548, f()=0.120033, actual=0.203\n",
      ">x=0.468, f()=0.118300, actual=-0.023\n",
      ">x=0.947, f()=0.467160, actual=0.005\n",
      ">x=0.545, f()=0.117027, actual=0.213\n",
      ">x=0.460, f()=0.109356, actual=-0.071\n",
      ">x=0.751, f()=0.062237, actual=-0.161\n",
      ">x=0.886, f()=0.441458, actual=0.736\n",
      ">x=0.669, f()=0.024387, actual=0.202\n",
      ">x=0.719, f()=0.027609, actual=0.433\n",
      ">x=0.526, f()=0.124191, actual=0.123\n",
      ">x=0.730, f()=0.053802, actual=0.383\n",
      ">x=0.117, f()=0.069610, actual=-0.013\n",
      ">x=0.793, f()=0.174898, actual=-0.029\n",
      ">x=0.987, f()=0.089204, actual=-0.091\n",
      ">x=0.869, f()=0.404888, actual=0.289\n",
      ">x=0.291, f()=-0.008808, actual=0.114\n",
      ">x=0.724, f()=0.056033, actual=0.366\n",
      ">x=0.614, f()=0.094872, actual=-0.089\n",
      ">x=0.263, f()=-0.000120, actual=-0.035\n",
      ">x=0.279, f()=-0.003329, actual=-0.074\n",
      ">x=0.215, f()=0.013397, actual=-0.218\n",
      ">x=0.144, f()=0.045242, actual=0.085\n",
      ">x=0.221, f()=0.000772, actual=0.103\n",
      ">x=0.940, f()=0.453159, actual=0.357\n",
      ">x=0.494, f()=0.116112, actual=0.399\n",
      ">x=0.143, f()=0.051072, actual=0.133\n",
      ">x=0.292, f()=-0.009600, actual=0.121\n",
      ">x=0.318, f()=0.002592, actual=0.230\n",
      ">x=0.361, f()=0.034088, actual=0.040\n",
      ">x=0.129, f()=0.061100, actual=0.273\n",
      ">x=0.319, f()=0.008888, actual=-0.109\n",
      ">x=0.822, f()=0.253926, actual=-0.143\n",
      ">x=0.813, f()=0.212151, actual=-0.094\n",
      ">x=0.872, f()=0.389619, actual=0.481\n",
      ">x=0.428, f()=0.085890, actual=-0.023\n",
      ">x=0.426, f()=0.080767, actual=0.117\n",
      ">x=0.653, f()=0.063082, actual=0.191\n",
      ">x=0.282, f()=-0.004093, actual=0.084\n",
      ">x=0.696, f()=0.047089, actual=0.387\n",
      ">x=0.116, f()=0.076937, actual=0.073\n",
      ">x=0.151, f()=0.066439, actual=0.139\n",
      ">x=0.340, f()=0.012395, actual=-0.039\n",
      ">x=0.419, f()=0.072641, actual=-0.076\n",
      ">x=0.320, f()=0.000990, actual=0.136\n",
      ">x=0.810, f()=0.200875, actual=0.070\n",
      ">x=0.941, f()=0.441891, actual=0.326\n",
      ">x=0.220, f()=0.027666, actual=-0.025\n",
      ">x=0.119, f()=0.078761, actual=0.188\n",
      ">x=0.540, f()=0.135637, actual=0.053\n",
      ">x=0.319, f()=0.002785, actual=-0.071\n",
      ">x=0.388, f()=0.042080, actual=0.006\n",
      ">x=0.004, f()=-0.029607, actual=0.047\n",
      ">x=0.912, f()=0.466112, actual=0.577\n",
      ">x=0.551, f()=0.131960, actual=0.011\n",
      ">x=0.171, f()=0.060013, actual=-0.005\n",
      ">x=0.089, f()=0.076066, actual=-0.049\n",
      ">x=0.228, f()=0.020313, actual=0.108\n",
      ">x=0.703, f()=0.056496, actual=0.374\n",
      ">x=0.655, f()=0.082705, actual=-0.122\n",
      ">x=0.986, f()=0.087849, actual=-0.330\n",
      ">x=0.492, f()=0.117150, actual=0.278\n",
      ">x=0.118, f()=0.074553, actual=0.025\n",
      ">x=0.612, f()=0.104128, actual=-0.086\n",
      ">x=0.166, f()=0.057389, actual=-0.065\n",
      ">x=0.138, f()=0.064748, actual=0.211\n",
      ">x=0.356, f()=0.020701, actual=-0.119\n",
      ">x=0.387, f()=0.039661, actual=-0.060\n",
      ">x=0.746, f()=0.079150, actual=0.031\n",
      ">x=0.942, f()=0.426472, actual=0.311\n",
      ">x=0.614, f()=0.097847, actual=0.085\n",
      ">x=0.842, f()=0.298019, actual=0.010\n",
      ">x=0.032, f()=0.029685, actual=0.024\n",
      ">x=0.167, f()=0.058235, actual=0.048\n",
      ">x=0.558, f()=0.125632, actual=0.080\n"
     ]
    },
    {
     "data": {
      "image/png": "[encoded data removed]",
      "text/plain": [
       "<Figure size 640x480 with 1 Axes>"
      ]
     },
     "metadata": {},
     "output_type": "display_data"
    },
    {
     "name": "stdout",
     "output_type": "stream",
     "text": [
      "Best Result: x=0.908, y=0.960\n"
     ]
    }
   ],
   "source": [
    "# example of bayesian optimization for a 1d function from scratch\n",
    "from math import sin\n",
    "from math import pi\n",
    "from numpy import arange\n",
    "from numpy import vstack\n",
    "from numpy import argmax\n",
    "from numpy import asarray\n",
    "from numpy.random import normal\n",
    "from numpy.random import random\n",
    "from scipy.stats import norm\n",
    "from sklearn.gaussian_process import GaussianProcessRegressor\n",
    "from warnings import catch_warnings\n",
    "from warnings import simplefilter\n",
    "from matplotlib import pyplot\n",
    "\n",
    "# objective function\n",
    "def objective(x, noise=0.1):\n",
    "    noise = normal(loc=0, scale=noise)\n",
    "    return (x**2 * sin(5 * pi * x)**6.0) + noise\n",
    "\n",
    "# surrogate or approximation for the objective function\n",
    "def surrogate(model, X):\n",
    "    # catch any warning generated when making a prediction\n",
    "    with catch_warnings():\n",
    "        # ignore generated warnings\n",
    "        simplefilter(\"ignore\")\n",
    "        return model.predict(X, return_std=True)\n",
    "\n",
    "# probability of improvement acquisition function\n",
    "def acquisition(X, Xsamples, model):\n",
    "    # calculate the best surrogate score found so far\n",
    "    yhat, _ = surrogate(model, X)\n",
    "    best = max(yhat)\n",
    "    # calculate mean and stdev via surrogate function\n",
    "    mu, std = surrogate(model, Xsamples)\n",
    "    mu = mu[0]\n",
    "    # calculate the probability of improvement\n",
    "    probs = norm.cdf((mu - best) / (std+1E-9))\n",
    "    return probs\n",
    "\n",
    "# optimize the acquisition function\n",
    "def opt_acquisition(X, y, model):\n",
    "    # random search, generate random samples\n",
    "    Xsamples = random(100)\n",
    "    Xsamples = Xsamples.reshape(len(Xsamples), 1)\n",
    "    # calculate the acquisition function for each sample\n",
    "    scores = acquisition(X, Xsamples, model)\n",
    "    # locate the index of the largest scores\n",
    "    ix = argmax(scores)\n",
    "    return Xsamples[ix, 0]\n",
    "\n",
    "# plot real observations vs surrogate function\n",
    "def plot(X, y, model):\n",
    "    # scatter plot of inputs and real objective function\n",
    "    pyplot.scatter(X, y)\n",
    "    # line plot of surrogate function across domain\n",
    "    Xsamples = asarray(arange(0, 1, 0.001))\n",
    "    Xsamples = Xsamples.reshape(len(Xsamples), 1)\n",
    "    ysamples, _ = surrogate(model, Xsamples)\n",
    "    pyplot.plot(Xsamples, ysamples)\n",
    "    # show the plot\n",
    "    pyplot.show()\n",
    "\n",
    "# sample the domain sparsely with noise\n",
    "X = random(100)\n",
    "y = asarray([objective(x) for x in X])\n",
    "# reshape into rows and cols\n",
    "X = X.reshape(len(X), 1)\n",
    "y = y.reshape(len(y), 1)\n",
    "# define the model\n",
    "model = GaussianProcessRegressor()\n",
    "# fit the model\n",
    "model.fit(X, y)\n",
    "# plot before hand\n",
    "plot(X, y, model)\n",
    "# perform the optimization process\n",
    "for i in range(100):\n",
    "    # select the next point to sample\n",
    "    x = opt_acquisition(X, y, model)\n",
    "    # sample the point\n",
    "    actual = objective(x)\n",
    "    # summarize the finding\n",
    "    est, _ = surrogate(model, [[x]])\n",
    "    print('>x=%.3f, f()=%3f, actual=%.3f' % (x, est, actual))\n",
    "    # add the data to the dataset\n",
    "    X = vstack((X, [[x]]))\n",
    "    y = vstack((y, [[actual]]))\n",
    "    # update the model\n",
    "    model.fit(X, y)\n",
    "\n",
    "# plot all samples and the final surrogate function\n",
    "plot(X, y, model)\n",
    "# best result\n",
    "ix = argmax(y)\n",
    "print('Best Result: x=%.3f, y=%.3f' % (X[ix], y[ix]))"
   ]
  },
  {
   "cell_type": "markdown",
   "id": "8d75e1b7-1229-45c4-88a1-58e7ce2cfc37",
   "metadata": {},
   "source": [
    "## Hyperparameter Tuning With Bayesian Optimization\n",
    "\n",
    "It can be a useful exercise to implement Bayesian Optimization to learn how it works.\n",
    "\n",
    "In practice, when using Bayesian Optimization on a project, it is a good idea to use a standard implementation provided in an open-source library. This is to both avoid bugs and to leverage a wider range of configuration options and speed improvements.\n",
    "\n",
    "Two popular libraries for Bayesian Optimization include Scikit-Optimize and HyperOpt. In machine learning, these libraries are often used to tune the hyperparameters of algorithms.\n",
    "\n",
    "Hyperparameter tuning is a good fit for Bayesian Optimization because the evaluation function is computationally expensive (e.g. training models for each set of hyperparameters) and noisy (e.g. noise in training data and stochastic learning algorithms).\n",
    "\n",
    "In this section, we will take a brief look at how to use the Scikit-Optimize library to optimize the hyperparameters of a k-nearest neighbor classifier for a simple test classification problem. This will provide a useful template that you can use on your own projects.\n",
    "\n",
    "The Scikit-Optimize project is designed to provide access to Bayesian Optimization for applications that use SciPy and NumPy, or applications that use scikit-learn machine learning algorithms."
   ]
  },
  {
   "cell_type": "code",
   "execution_count": 20,
   "id": "9ababea0-a977-40fd-8ae2-dc4ee0833829",
   "metadata": {},
   "outputs": [
    {
     "name": "stdout",
     "output_type": "stream",
     "text": [
      "Looking in indexes: https://pypi.tuna.tsinghua.edu.cn/simple\n",
      "Requirement already satisfied: scikit-optimize in /Users/junxiaoguo/opt/anaconda3/envs/ml/lib/python3.10/site-packages (0.9.0)\n",
      "Requirement already satisfied: joblib>=0.11 in /Users/junxiaoguo/opt/anaconda3/envs/ml/lib/python3.10/site-packages (from scikit-optimize) (1.1.1)\n",
      "Requirement already satisfied: numpy>=1.13.3 in /Users/junxiaoguo/opt/anaconda3/envs/ml/lib/python3.10/site-packages (from scikit-optimize) (1.23.5)\n",
      "Requirement already satisfied: pyaml>=16.9 in /Users/junxiaoguo/opt/anaconda3/envs/ml/lib/python3.10/site-packages (from scikit-optimize) (21.10.1)\n",
      "Requirement already satisfied: scikit-learn>=0.20.0 in /Users/junxiaoguo/opt/anaconda3/envs/ml/lib/python3.10/site-packages (from scikit-optimize) (1.2.1)\n",
      "Requirement already satisfied: scipy>=0.19.1 in /Users/junxiaoguo/opt/anaconda3/envs/ml/lib/python3.10/site-packages (from scikit-optimize) (1.10.0)\n",
      "Requirement already satisfied: PyYAML in /Users/junxiaoguo/opt/anaconda3/envs/ml/lib/python3.10/site-packages (from pyaml>=16.9->scikit-optimize) (6.0)\n",
      "Requirement already satisfied: threadpoolctl>=2.0.0 in /Users/junxiaoguo/opt/anaconda3/envs/ml/lib/python3.10/site-packages (from scikit-learn>=0.20.0->scikit-optimize) (2.2.0)\n"
     ]
    }
   ],
   "source": [
    "!pip install scikit-optimize"
   ]
  },
  {
   "cell_type": "code",
   "execution_count": 21,
   "id": "5bd85ef2-86ae-4c9e-9c56-d943ec8d44b5",
   "metadata": {},
   "outputs": [
    {
     "name": "stderr",
     "output_type": "stream",
     "text": [
      "/Users/junxiaoguo/opt/anaconda3/envs/ml/lib/python3.10/site-packages/skopt/optimizer/optimizer.py:449: UserWarning: The objective has been evaluated at this point before.\n",
      "  warnings.warn(\"The objective has been evaluated \"\n",
      "/Users/junxiaoguo/opt/anaconda3/envs/ml/lib/python3.10/site-packages/skopt/optimizer/optimizer.py:449: UserWarning: The objective has been evaluated at this point before.\n",
      "  warnings.warn(\"The objective has been evaluated \"\n",
      "/Users/junxiaoguo/opt/anaconda3/envs/ml/lib/python3.10/site-packages/skopt/optimizer/optimizer.py:449: UserWarning: The objective has been evaluated at this point before.\n",
      "  warnings.warn(\"The objective has been evaluated \"\n",
      "/Users/junxiaoguo/opt/anaconda3/envs/ml/lib/python3.10/site-packages/skopt/optimizer/optimizer.py:449: UserWarning: The objective has been evaluated at this point before.\n",
      "  warnings.warn(\"The objective has been evaluated \"\n",
      "/Users/junxiaoguo/opt/anaconda3/envs/ml/lib/python3.10/site-packages/skopt/optimizer/optimizer.py:449: UserWarning: The objective has been evaluated at this point before.\n",
      "  warnings.warn(\"The objective has been evaluated \"\n",
      "/Users/junxiaoguo/opt/anaconda3/envs/ml/lib/python3.10/site-packages/skopt/optimizer/optimizer.py:449: UserWarning: The objective has been evaluated at this point before.\n",
      "  warnings.warn(\"The objective has been evaluated \"\n",
      "/Users/junxiaoguo/opt/anaconda3/envs/ml/lib/python3.10/site-packages/skopt/optimizer/optimizer.py:449: UserWarning: The objective has been evaluated at this point before.\n",
      "  warnings.warn(\"The objective has been evaluated \"\n",
      "/Users/junxiaoguo/opt/anaconda3/envs/ml/lib/python3.10/site-packages/skopt/optimizer/optimizer.py:449: UserWarning: The objective has been evaluated at this point before.\n",
      "  warnings.warn(\"The objective has been evaluated \"\n",
      "/Users/junxiaoguo/opt/anaconda3/envs/ml/lib/python3.10/site-packages/skopt/optimizer/optimizer.py:449: UserWarning: The objective has been evaluated at this point before.\n",
      "  warnings.warn(\"The objective has been evaluated \"\n",
      "/Users/junxiaoguo/opt/anaconda3/envs/ml/lib/python3.10/site-packages/skopt/optimizer/optimizer.py:449: UserWarning: The objective has been evaluated at this point before.\n",
      "  warnings.warn(\"The objective has been evaluated \"\n",
      "/Users/junxiaoguo/opt/anaconda3/envs/ml/lib/python3.10/site-packages/skopt/optimizer/optimizer.py:449: UserWarning: The objective has been evaluated at this point before.\n",
      "  warnings.warn(\"The objective has been evaluated \"\n",
      "/Users/junxiaoguo/opt/anaconda3/envs/ml/lib/python3.10/site-packages/skopt/optimizer/optimizer.py:449: UserWarning: The objective has been evaluated at this point before.\n",
      "  warnings.warn(\"The objective has been evaluated \"\n",
      "/Users/junxiaoguo/opt/anaconda3/envs/ml/lib/python3.10/site-packages/skopt/optimizer/optimizer.py:449: UserWarning: The objective has been evaluated at this point before.\n",
      "  warnings.warn(\"The objective has been evaluated \"\n",
      "/Users/junxiaoguo/opt/anaconda3/envs/ml/lib/python3.10/site-packages/skopt/optimizer/optimizer.py:449: UserWarning: The objective has been evaluated at this point before.\n",
      "  warnings.warn(\"The objective has been evaluated \"\n",
      "/Users/junxiaoguo/opt/anaconda3/envs/ml/lib/python3.10/site-packages/skopt/optimizer/optimizer.py:449: UserWarning: The objective has been evaluated at this point before.\n",
      "  warnings.warn(\"The objective has been evaluated \"\n",
      "/Users/junxiaoguo/opt/anaconda3/envs/ml/lib/python3.10/site-packages/skopt/optimizer/optimizer.py:449: UserWarning: The objective has been evaluated at this point before.\n",
      "  warnings.warn(\"The objective has been evaluated \"\n",
      "/Users/junxiaoguo/opt/anaconda3/envs/ml/lib/python3.10/site-packages/skopt/optimizer/optimizer.py:449: UserWarning: The objective has been evaluated at this point before.\n",
      "  warnings.warn(\"The objective has been evaluated \"\n",
      "/Users/junxiaoguo/opt/anaconda3/envs/ml/lib/python3.10/site-packages/skopt/optimizer/optimizer.py:449: UserWarning: The objective has been evaluated at this point before.\n",
      "  warnings.warn(\"The objective has been evaluated \"\n",
      "/Users/junxiaoguo/opt/anaconda3/envs/ml/lib/python3.10/site-packages/skopt/optimizer/optimizer.py:449: UserWarning: The objective has been evaluated at this point before.\n",
      "  warnings.warn(\"The objective has been evaluated \"\n",
      "/Users/junxiaoguo/opt/anaconda3/envs/ml/lib/python3.10/site-packages/skopt/optimizer/optimizer.py:449: UserWarning: The objective has been evaluated at this point before.\n",
      "  warnings.warn(\"The objective has been evaluated \"\n",
      "/Users/junxiaoguo/opt/anaconda3/envs/ml/lib/python3.10/site-packages/skopt/optimizer/optimizer.py:449: UserWarning: The objective has been evaluated at this point before.\n",
      "  warnings.warn(\"The objective has been evaluated \"\n",
      "/Users/junxiaoguo/opt/anaconda3/envs/ml/lib/python3.10/site-packages/skopt/optimizer/optimizer.py:449: UserWarning: The objective has been evaluated at this point before.\n",
      "  warnings.warn(\"The objective has been evaluated \"\n",
      "/Users/junxiaoguo/opt/anaconda3/envs/ml/lib/python3.10/site-packages/skopt/optimizer/optimizer.py:449: UserWarning: The objective has been evaluated at this point before.\n",
      "  warnings.warn(\"The objective has been evaluated \"\n",
      "/Users/junxiaoguo/opt/anaconda3/envs/ml/lib/python3.10/site-packages/skopt/optimizer/optimizer.py:449: UserWarning: The objective has been evaluated at this point before.\n",
      "  warnings.warn(\"The objective has been evaluated \"\n",
      "/Users/junxiaoguo/opt/anaconda3/envs/ml/lib/python3.10/site-packages/skopt/optimizer/optimizer.py:449: UserWarning: The objective has been evaluated at this point before.\n",
      "  warnings.warn(\"The objective has been evaluated \"\n",
      "/Users/junxiaoguo/opt/anaconda3/envs/ml/lib/python3.10/site-packages/skopt/optimizer/optimizer.py:449: UserWarning: The objective has been evaluated at this point before.\n",
      "  warnings.warn(\"The objective has been evaluated \"\n",
      "/Users/junxiaoguo/opt/anaconda3/envs/ml/lib/python3.10/site-packages/skopt/optimizer/optimizer.py:449: UserWarning: The objective has been evaluated at this point before.\n",
      "  warnings.warn(\"The objective has been evaluated \"\n",
      "/Users/junxiaoguo/opt/anaconda3/envs/ml/lib/python3.10/site-packages/skopt/optimizer/optimizer.py:449: UserWarning: The objective has been evaluated at this point before.\n",
      "  warnings.warn(\"The objective has been evaluated \"\n",
      "/Users/junxiaoguo/opt/anaconda3/envs/ml/lib/python3.10/site-packages/skopt/optimizer/optimizer.py:449: UserWarning: The objective has been evaluated at this point before.\n",
      "  warnings.warn(\"The objective has been evaluated \"\n",
      "/Users/junxiaoguo/opt/anaconda3/envs/ml/lib/python3.10/site-packages/skopt/optimizer/optimizer.py:449: UserWarning: The objective has been evaluated at this point before.\n",
      "  warnings.warn(\"The objective has been evaluated \"\n",
      "/Users/junxiaoguo/opt/anaconda3/envs/ml/lib/python3.10/site-packages/skopt/optimizer/optimizer.py:449: UserWarning: The objective has been evaluated at this point before.\n",
      "  warnings.warn(\"The objective has been evaluated \"\n",
      "/Users/junxiaoguo/opt/anaconda3/envs/ml/lib/python3.10/site-packages/skopt/optimizer/optimizer.py:449: UserWarning: The objective has been evaluated at this point before.\n",
      "  warnings.warn(\"The objective has been evaluated \"\n",
      "/Users/junxiaoguo/opt/anaconda3/envs/ml/lib/python3.10/site-packages/skopt/optimizer/optimizer.py:449: UserWarning: The objective has been evaluated at this point before.\n",
      "  warnings.warn(\"The objective has been evaluated \"\n",
      "/Users/junxiaoguo/opt/anaconda3/envs/ml/lib/python3.10/site-packages/skopt/optimizer/optimizer.py:449: UserWarning: The objective has been evaluated at this point before.\n",
      "  warnings.warn(\"The objective has been evaluated \"\n",
      "/Users/junxiaoguo/opt/anaconda3/envs/ml/lib/python3.10/site-packages/skopt/optimizer/optimizer.py:449: UserWarning: The objective has been evaluated at this point before.\n",
      "  warnings.warn(\"The objective has been evaluated \"\n",
      "/Users/junxiaoguo/opt/anaconda3/envs/ml/lib/python3.10/site-packages/skopt/optimizer/optimizer.py:449: UserWarning: The objective has been evaluated at this point before.\n",
      "  warnings.warn(\"The objective has been evaluated \"\n",
      "/Users/junxiaoguo/opt/anaconda3/envs/ml/lib/python3.10/site-packages/skopt/optimizer/optimizer.py:449: UserWarning: The objective has been evaluated at this point before.\n",
      "  warnings.warn(\"The objective has been evaluated \"\n",
      "/Users/junxiaoguo/opt/anaconda3/envs/ml/lib/python3.10/site-packages/skopt/optimizer/optimizer.py:449: UserWarning: The objective has been evaluated at this point before.\n",
      "  warnings.warn(\"The objective has been evaluated \"\n",
      "/Users/junxiaoguo/opt/anaconda3/envs/ml/lib/python3.10/site-packages/skopt/optimizer/optimizer.py:449: UserWarning: The objective has been evaluated at this point before.\n",
      "  warnings.warn(\"The objective has been evaluated \"\n",
      "/Users/junxiaoguo/opt/anaconda3/envs/ml/lib/python3.10/site-packages/skopt/optimizer/optimizer.py:449: UserWarning: The objective has been evaluated at this point before.\n",
      "  warnings.warn(\"The objective has been evaluated \"\n",
      "/Users/junxiaoguo/opt/anaconda3/envs/ml/lib/python3.10/site-packages/skopt/optimizer/optimizer.py:449: UserWarning: The objective has been evaluated at this point before.\n",
      "  warnings.warn(\"The objective has been evaluated \"\n",
      "/Users/junxiaoguo/opt/anaconda3/envs/ml/lib/python3.10/site-packages/skopt/optimizer/optimizer.py:449: UserWarning: The objective has been evaluated at this point before.\n",
      "  warnings.warn(\"The objective has been evaluated \"\n",
      "/Users/junxiaoguo/opt/anaconda3/envs/ml/lib/python3.10/site-packages/skopt/optimizer/optimizer.py:449: UserWarning: The objective has been evaluated at this point before.\n",
      "  warnings.warn(\"The objective has been evaluated \"\n",
      "/Users/junxiaoguo/opt/anaconda3/envs/ml/lib/python3.10/site-packages/skopt/optimizer/optimizer.py:449: UserWarning: The objective has been evaluated at this point before.\n",
      "  warnings.warn(\"The objective has been evaluated \"\n",
      "/Users/junxiaoguo/opt/anaconda3/envs/ml/lib/python3.10/site-packages/skopt/optimizer/optimizer.py:449: UserWarning: The objective has been evaluated at this point before.\n",
      "  warnings.warn(\"The objective has been evaluated \"\n",
      "/Users/junxiaoguo/opt/anaconda3/envs/ml/lib/python3.10/site-packages/skopt/optimizer/optimizer.py:449: UserWarning: The objective has been evaluated at this point before.\n",
      "  warnings.warn(\"The objective has been evaluated \"\n",
      "/Users/junxiaoguo/opt/anaconda3/envs/ml/lib/python3.10/site-packages/skopt/optimizer/optimizer.py:449: UserWarning: The objective has been evaluated at this point before.\n",
      "  warnings.warn(\"The objective has been evaluated \"\n",
      "/Users/junxiaoguo/opt/anaconda3/envs/ml/lib/python3.10/site-packages/skopt/optimizer/optimizer.py:449: UserWarning: The objective has been evaluated at this point before.\n",
      "  warnings.warn(\"The objective has been evaluated \"\n",
      "/Users/junxiaoguo/opt/anaconda3/envs/ml/lib/python3.10/site-packages/skopt/optimizer/optimizer.py:449: UserWarning: The objective has been evaluated at this point before.\n",
      "  warnings.warn(\"The objective has been evaluated \"\n",
      "/Users/junxiaoguo/opt/anaconda3/envs/ml/lib/python3.10/site-packages/skopt/optimizer/optimizer.py:449: UserWarning: The objective has been evaluated at this point before.\n",
      "  warnings.warn(\"The objective has been evaluated \"\n",
      "/Users/junxiaoguo/opt/anaconda3/envs/ml/lib/python3.10/site-packages/skopt/optimizer/optimizer.py:449: UserWarning: The objective has been evaluated at this point before.\n",
      "  warnings.warn(\"The objective has been evaluated \"\n",
      "/Users/junxiaoguo/opt/anaconda3/envs/ml/lib/python3.10/site-packages/skopt/optimizer/optimizer.py:449: UserWarning: The objective has been evaluated at this point before.\n",
      "  warnings.warn(\"The objective has been evaluated \"\n",
      "/Users/junxiaoguo/opt/anaconda3/envs/ml/lib/python3.10/site-packages/skopt/optimizer/optimizer.py:449: UserWarning: The objective has been evaluated at this point before.\n",
      "  warnings.warn(\"The objective has been evaluated \"\n",
      "/Users/junxiaoguo/opt/anaconda3/envs/ml/lib/python3.10/site-packages/skopt/optimizer/optimizer.py:449: UserWarning: The objective has been evaluated at this point before.\n",
      "  warnings.warn(\"The objective has been evaluated \"\n",
      "/Users/junxiaoguo/opt/anaconda3/envs/ml/lib/python3.10/site-packages/skopt/optimizer/optimizer.py:449: UserWarning: The objective has been evaluated at this point before.\n",
      "  warnings.warn(\"The objective has been evaluated \"\n",
      "/Users/junxiaoguo/opt/anaconda3/envs/ml/lib/python3.10/site-packages/skopt/optimizer/optimizer.py:449: UserWarning: The objective has been evaluated at this point before.\n",
      "  warnings.warn(\"The objective has been evaluated \"\n",
      "/Users/junxiaoguo/opt/anaconda3/envs/ml/lib/python3.10/site-packages/skopt/optimizer/optimizer.py:449: UserWarning: The objective has been evaluated at this point before.\n",
      "  warnings.warn(\"The objective has been evaluated \"\n",
      "/Users/junxiaoguo/opt/anaconda3/envs/ml/lib/python3.10/site-packages/skopt/optimizer/optimizer.py:449: UserWarning: The objective has been evaluated at this point before.\n",
      "  warnings.warn(\"The objective has been evaluated \"\n",
      "/Users/junxiaoguo/opt/anaconda3/envs/ml/lib/python3.10/site-packages/skopt/optimizer/optimizer.py:449: UserWarning: The objective has been evaluated at this point before.\n",
      "  warnings.warn(\"The objective has been evaluated \"\n",
      "/Users/junxiaoguo/opt/anaconda3/envs/ml/lib/python3.10/site-packages/skopt/optimizer/optimizer.py:449: UserWarning: The objective has been evaluated at this point before.\n",
      "  warnings.warn(\"The objective has been evaluated \"\n",
      "/Users/junxiaoguo/opt/anaconda3/envs/ml/lib/python3.10/site-packages/skopt/optimizer/optimizer.py:449: UserWarning: The objective has been evaluated at this point before.\n",
      "  warnings.warn(\"The objective has been evaluated \"\n",
      "/Users/junxiaoguo/opt/anaconda3/envs/ml/lib/python3.10/site-packages/skopt/optimizer/optimizer.py:449: UserWarning: The objective has been evaluated at this point before.\n",
      "  warnings.warn(\"The objective has been evaluated \"\n",
      "/Users/junxiaoguo/opt/anaconda3/envs/ml/lib/python3.10/site-packages/skopt/optimizer/optimizer.py:449: UserWarning: The objective has been evaluated at this point before.\n",
      "  warnings.warn(\"The objective has been evaluated \"\n",
      "/Users/junxiaoguo/opt/anaconda3/envs/ml/lib/python3.10/site-packages/skopt/optimizer/optimizer.py:449: UserWarning: The objective has been evaluated at this point before.\n",
      "  warnings.warn(\"The objective has been evaluated \"\n",
      "/Users/junxiaoguo/opt/anaconda3/envs/ml/lib/python3.10/site-packages/skopt/optimizer/optimizer.py:449: UserWarning: The objective has been evaluated at this point before.\n",
      "  warnings.warn(\"The objective has been evaluated \"\n",
      "/Users/junxiaoguo/opt/anaconda3/envs/ml/lib/python3.10/site-packages/skopt/optimizer/optimizer.py:449: UserWarning: The objective has been evaluated at this point before.\n",
      "  warnings.warn(\"The objective has been evaluated \"\n",
      "/Users/junxiaoguo/opt/anaconda3/envs/ml/lib/python3.10/site-packages/skopt/optimizer/optimizer.py:449: UserWarning: The objective has been evaluated at this point before.\n",
      "  warnings.warn(\"The objective has been evaluated \"\n",
      "/Users/junxiaoguo/opt/anaconda3/envs/ml/lib/python3.10/site-packages/skopt/optimizer/optimizer.py:449: UserWarning: The objective has been evaluated at this point before.\n",
      "  warnings.warn(\"The objective has been evaluated \"\n",
      "/Users/junxiaoguo/opt/anaconda3/envs/ml/lib/python3.10/site-packages/skopt/optimizer/optimizer.py:449: UserWarning: The objective has been evaluated at this point before.\n",
      "  warnings.warn(\"The objective has been evaluated \"\n",
      "/Users/junxiaoguo/opt/anaconda3/envs/ml/lib/python3.10/site-packages/skopt/optimizer/optimizer.py:449: UserWarning: The objective has been evaluated at this point before.\n",
      "  warnings.warn(\"The objective has been evaluated \"\n",
      "/Users/junxiaoguo/opt/anaconda3/envs/ml/lib/python3.10/site-packages/skopt/optimizer/optimizer.py:449: UserWarning: The objective has been evaluated at this point before.\n",
      "  warnings.warn(\"The objective has been evaluated \"\n",
      "/Users/junxiaoguo/opt/anaconda3/envs/ml/lib/python3.10/site-packages/skopt/optimizer/optimizer.py:449: UserWarning: The objective has been evaluated at this point before.\n",
      "  warnings.warn(\"The objective has been evaluated \"\n",
      "/Users/junxiaoguo/opt/anaconda3/envs/ml/lib/python3.10/site-packages/skopt/optimizer/optimizer.py:449: UserWarning: The objective has been evaluated at this point before.\n",
      "  warnings.warn(\"The objective has been evaluated \"\n",
      "/Users/junxiaoguo/opt/anaconda3/envs/ml/lib/python3.10/site-packages/skopt/optimizer/optimizer.py:449: UserWarning: The objective has been evaluated at this point before.\n",
      "  warnings.warn(\"The objective has been evaluated \"\n",
      "/Users/junxiaoguo/opt/anaconda3/envs/ml/lib/python3.10/site-packages/skopt/optimizer/optimizer.py:449: UserWarning: The objective has been evaluated at this point before.\n",
      "  warnings.warn(\"The objective has been evaluated \"\n",
      "/Users/junxiaoguo/opt/anaconda3/envs/ml/lib/python3.10/site-packages/skopt/optimizer/optimizer.py:449: UserWarning: The objective has been evaluated at this point before.\n",
      "  warnings.warn(\"The objective has been evaluated \"\n",
      "/Users/junxiaoguo/opt/anaconda3/envs/ml/lib/python3.10/site-packages/skopt/optimizer/optimizer.py:449: UserWarning: The objective has been evaluated at this point before.\n",
      "  warnings.warn(\"The objective has been evaluated \"\n",
      "/Users/junxiaoguo/opt/anaconda3/envs/ml/lib/python3.10/site-packages/skopt/optimizer/optimizer.py:449: UserWarning: The objective has been evaluated at this point before.\n",
      "  warnings.warn(\"The objective has been evaluated \"\n",
      "/Users/junxiaoguo/opt/anaconda3/envs/ml/lib/python3.10/site-packages/skopt/optimizer/optimizer.py:449: UserWarning: The objective has been evaluated at this point before.\n",
      "  warnings.warn(\"The objective has been evaluated \"\n",
      "/Users/junxiaoguo/opt/anaconda3/envs/ml/lib/python3.10/site-packages/skopt/optimizer/optimizer.py:449: UserWarning: The objective has been evaluated at this point before.\n",
      "  warnings.warn(\"The objective has been evaluated \"\n",
      "/Users/junxiaoguo/opt/anaconda3/envs/ml/lib/python3.10/site-packages/skopt/optimizer/optimizer.py:449: UserWarning: The objective has been evaluated at this point before.\n",
      "  warnings.warn(\"The objective has been evaluated \"\n",
      "/Users/junxiaoguo/opt/anaconda3/envs/ml/lib/python3.10/site-packages/skopt/optimizer/optimizer.py:449: UserWarning: The objective has been evaluated at this point before.\n",
      "  warnings.warn(\"The objective has been evaluated \"\n",
      "/Users/junxiaoguo/opt/anaconda3/envs/ml/lib/python3.10/site-packages/skopt/optimizer/optimizer.py:449: UserWarning: The objective has been evaluated at this point before.\n",
      "  warnings.warn(\"The objective has been evaluated \"\n",
      "/Users/junxiaoguo/opt/anaconda3/envs/ml/lib/python3.10/site-packages/skopt/optimizer/optimizer.py:449: UserWarning: The objective has been evaluated at this point before.\n",
      "  warnings.warn(\"The objective has been evaluated \"\n",
      "/Users/junxiaoguo/opt/anaconda3/envs/ml/lib/python3.10/site-packages/skopt/optimizer/optimizer.py:449: UserWarning: The objective has been evaluated at this point before.\n",
      "  warnings.warn(\"The objective has been evaluated \"\n",
      "/Users/junxiaoguo/opt/anaconda3/envs/ml/lib/python3.10/site-packages/skopt/optimizer/optimizer.py:449: UserWarning: The objective has been evaluated at this point before.\n",
      "  warnings.warn(\"The objective has been evaluated \"\n",
      "/Users/junxiaoguo/opt/anaconda3/envs/ml/lib/python3.10/site-packages/skopt/optimizer/optimizer.py:449: UserWarning: The objective has been evaluated at this point before.\n",
      "  warnings.warn(\"The objective has been evaluated \"\n"
     ]
    },
    {
     "name": "stdout",
     "output_type": "stream",
     "text": [
      "Best Accuracy: 0.976\n",
      "Best Parameters: n_neighbors=5, p=2\n"
     ]
    }
   ],
   "source": [
    "# example of bayesian optimization with scikit-optimize\n",
    "from numpy import mean\n",
    "from sklearn.datasets import make_blobs\n",
    "from sklearn.model_selection import cross_val_score\n",
    "from sklearn.neighbors import KNeighborsClassifier\n",
    "from skopt.space import Integer\n",
    "from skopt.utils import use_named_args\n",
    "from skopt import gp_minimize\n",
    "\n",
    "# generate 2d classification dataset\n",
    "X, y = make_blobs(n_samples=500, centers=3, n_features=2)\n",
    "# define the model\n",
    "model = KNeighborsClassifier()\n",
    "# define the space of hyperparameters to search\n",
    "search_space = [Integer(1, 5, name='n_neighbors'), Integer(1, 2, name='p')]\n",
    "\n",
    "# define the function used to evaluate a given configuration\n",
    "@use_named_args(search_space)\n",
    "def evaluate_model(**params):\n",
    "\t# something\n",
    "\tmodel.set_params(**params)\n",
    "\t# calculate 5-fold cross validation\n",
    "\tresult = cross_val_score(model, X, y, cv=5, n_jobs=-1, scoring='accuracy')\n",
    "\t# calculate the mean of the scores\n",
    "\testimate = mean(result)\n",
    "\treturn 1.0 - estimate\n",
    "\n",
    "# perform optimization\n",
    "result = gp_minimize(evaluate_model, search_space)\n",
    "# summarizing finding:\n",
    "print('Best Accuracy: %.3f' % (1.0 - result.fun))\n",
    "print('Best Parameters: n_neighbors=%d, p=%d' % (result.x[0], result.x[1]))"
   ]
  },
  {
   "cell_type": "markdown",
   "id": "ace40a61-fc2f-442a-a322-a8c57fa11b1c",
   "metadata": {},
   "source": [
    "Running the example executes the hyperparameter tuning using Bayesian Optimization."
   ]
  },
  {
   "cell_type": "code",
   "execution_count": null,
   "id": "3821d519-5fa2-4f7f-bb8e-89c392ec84aa",
   "metadata": {},
   "outputs": [],
   "source": []
  }
 ],
 "metadata": {
  "kernelspec": {
   "display_name": "research",
   "language": "python",
   "name": "python3"
  },
  "language_info": {
   "codemirror_mode": {
    "name": "ipython",
    "version": 3
   },
   "file_extension": ".py",
   "mimetype": "text/x-python",
   "name": "python",
   "nbconvert_exporter": "python",
   "pygments_lexer": "ipython3",
   "version": "3.10.8"
  },
  "vscode": {
   "interpreter": {
    "hash": "790cb1737f5a89434f0995660dfce20e18b4a746a3fe380e89503d1bf8344808"
   }
  }
 },
 "nbformat": 4,
 "nbformat_minor": 5
}
