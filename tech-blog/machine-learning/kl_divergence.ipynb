{
 "cells": [
  {
   "cell_type": "markdown",
   "id": "55ed507e-d263-402c-a7df-a5abc3c0d2ea",
   "metadata": {},
   "source": [
    "# KL Divergence\n",
    "\n",
    "KL divergence or relative entropy is a measure of how one probability distribution is different from a reference probability distribution."
   ]
  },
  {
   "cell_type": "markdown",
   "id": "01928e0a",
   "metadata": {},
   "source": [
    "## Core concept\n",
    "\n",
    "> Calculate the distance between two probability distributions"
   ]
  },
  {
   "cell_type": "markdown",
   "id": "1b666a78",
   "metadata": {},
   "source": [
    "## Log Likelihood Ratio\n",
    "\n",
    "Let's say we have data $X={x_1,x_2,...,x_n}$, with two different distributions $p_\\theta$ and $q_\\phi$, and we want to calculate the difference between these two distributions for $x_i$, they most straightforward way could be:\n",
    "\n",
    "$$p_\\theta(x_i) - p_\\phi(x_i)$$\n",
    "\n",
    "If we take a log on both distributions (which prevents from rounding zero), the formula goes to:\n",
    "\n",
    "$$log{p_\\theta(x_i)} - \\log{p_\\phi(x_i)}$$\n",
    "\n",
    "to represent this formula in another way,\n",
    "\n",
    "$$\\log{\\left[\\frac{p_\\theta(x_i)}{{p_\\phi(x_i)}}\\right]}$$\n",
    "\n",
    "which is called the `Log Likelihood Ratio`.\n",
    "\n"
   ]
  },
  {
   "cell_type": "markdown",
   "id": "afa27269",
   "metadata": {},
   "source": [
    "## Expected Value\n",
    "\n",
    "Before we go to any further, let's think about what we are truly looking for: **A number which represents the average difference between two distributions.**\n",
    "\n",
    "Since we are dealing with random variables, there is no such term for \"average\", but `Expected Value` instead.\n",
    "\n",
    "The expected value for `discrete random variable` is: \n",
    "\n",
    "$$\\mathbb{E}_{p_\\theta}\\left[h\\left(X\\right)\\right] = \\sum_{i=1}^{\\inf}{h\\left(x_i\\right)}{p_\\theta}\\left(x_i\\right)$$\n",
    "\n",
    "> This is also called as weight average of instances of random variables.\n",
    "\n",
    "for `continuous random variable`, the formula become:\n",
    "\n",
    "$$\\mathbb{E}_{p_\\theta}\\left[h\\left(X\\right)\\right] = \\int_\\mathbb{R}{h\\left(x_i\\right)}{p_\\theta}\\left(x_i\\right)$$"
   ]
  },
  {
   "cell_type": "markdown",
   "id": "9329daed-8e36-4ac0-bbc5-7e1211ce6bc6",
   "metadata": {},
   "source": [
    "## Formula\n",
    "\n",
    "If we look closer, the `Log Likelihood Ratio` is just a function of random variable, since we are looking for the \"average\" difference between two distributions, we apply the weight $p_\\theta$ and the formula becomes:\n",
    "\n",
    "For distributions P and Q of a `continuous random variable`, the Kullback-Leibler divergence is computed as an integral:\n",
    "$$D_{KL}\\left(P \\parallel Q\\right) = \\int{p\\left(x\\right)\\log{\\left[\\frac{p\\left(x\\right)}{q\\left(x\\right)}\\right]}}dx$$\n",
    "\n",
    "if P and Q represent the probability distribution of a `discrete random variable`, the Kullback-Leibler divergence is calculated as a summation:\n",
    "\n",
    "$$D_{KL}\\left(P \\parallel Q\\right) = \\sum{p\\left(i\\right)\\log{\\left[\\frac{p_i\\left(x\\right)}{q_i\\left(x\\right)}\\right]}} $$"
   ]
  },
  {
   "cell_type": "markdown",
   "id": "e7bc8376-91bf-4995-893b-d8ec6ad4fcf7",
   "metadata": {},
   "source": [
    "## Example: Calculating KL Divergence in Python"
   ]
  },
  {
   "cell_type": "markdown",
   "id": "df9e9c3d-db95-401e-9139-e8e5aca04187",
   "metadata": {},
   "source": [
    "We can make the KL divergence concrete with a worked example.\n",
    "\n",
    "Consider a random variable with three events as different colors. We may have two different probability distributions for this variable; for example:"
   ]
  },
  {
   "cell_type": "code",
   "execution_count": 2,
   "id": "d925e63d",
   "metadata": {},
   "outputs": [],
   "source": [
    "...\n",
    "# define distributions\n",
    "events = ['red', 'green', 'blue']\n",
    "p = [0.10, 0.40, 0.50]\n",
    "q = [0.80, 0.15, 0.05]"
   ]
  },
  {
   "cell_type": "markdown",
   "id": "dfa7ae35-0404-4e02-aec3-b2a020988eb8",
   "metadata": {},
   "source": [
    "We can plot a bar chart of these probabilities to compare them directly as probability histograms.\n",
    "\n",
    "The complete example is listed below."
   ]
  },
  {
   "cell_type": "code",
   "execution_count": 4,
   "id": "0b2a4ae8-bbad-4f8f-96df-994ffc86e17f",
   "metadata": {},
   "outputs": [
    {
     "name": "stdout",
     "output_type": "stream",
     "text": [
      "P=1.000 Q=1.000\n"
     ]
    },
    {
     "data": {
      "image/png": "[encoded data removed]",
      "text/plain": [
       "<Figure size 640x480 with 2 Axes>"
      ]
     },
     "metadata": {},
     "output_type": "display_data"
    }
   ],
   "source": [
    "# plot of distributions\n",
    "from matplotlib import pyplot\n",
    "# define distributions\n",
    "events = ['red', 'green', 'blue']\n",
    "p = [0.10, 0.40, 0.50]\n",
    "q = [0.80, 0.15, 0.05]\n",
    "print('P=%.3f Q=%.3f' % (sum(p), sum(q)))\n",
    "# plot first distribution\n",
    "pyplot.subplot(2,1,1)\n",
    "pyplot.bar(events, p)\n",
    "# plot second distribution\n",
    "pyplot.subplot(2,1,2)\n",
    "pyplot.bar(events, q)\n",
    "# show the plot\n",
    "pyplot.show()"
   ]
  },
  {
   "cell_type": "markdown",
   "id": "53b817ea-198f-461b-9298-d67c6bef0a19",
   "metadata": {},
   "source": [
    "Running the example creates a histogram for each probability distribution, allowing the probabilities for each event to be directly compared.\n",
    "\n",
    "We can see that indeed the distributions are different.\n",
    "\n"
   ]
  },
  {
   "cell_type": "markdown",
   "id": "28018e06-ba68-46a3-8007-937d2aa632e8",
   "metadata": {},
   "source": [
    "Next, we can develop a function to calculate the KL divergence between the two distributions.\n",
    "\n",
    "We will use log base-2 to ensure the result has units in bits.\n",
    "\n",
    "We can then use this function to calculate the KL divergence of P from Q, as well as the reverse, Q from P.\n"
   ]
  },
  {
   "cell_type": "code",
   "execution_count": 11,
   "id": "c07ff271-367e-4459-b87a-ba17c9cc059e",
   "metadata": {},
   "outputs": [
    {
     "name": "stdout",
     "output_type": "stream",
     "text": [
      "KL(P || Q): 1.927 bits\n",
      "KL(Q || P): 2.022 bits\n"
     ]
    }
   ],
   "source": [
    "# example of calculating the kl divergence between two mass functions\n",
    "from math import log2\n",
    "\n",
    "# calculate the kl divergence\n",
    "def kl_divergence(p, q):\n",
    "\treturn sum(p[i] * log2(p[i]/q[i]) for i in range(len(p)))\n",
    "\n",
    "# define distributions\n",
    "p = [0.10, 0.40, 0.50]\n",
    "q = [0.80, 0.15, 0.05]\n",
    "# calculate (P || Q)\n",
    "kl_pq = kl_divergence(p, q)\n",
    "print('KL(P || Q): %.3f bits' % kl_pq)\n",
    "# calculate (Q || P)\n",
    "kl_qp = kl_divergence(q, p)\n",
    "print('KL(Q || P): %.3f bits' % kl_qp)"
   ]
  }
 ],
 "metadata": {
  "kernelspec": {
   "display_name": "Python 3 (ipykernel)",
   "language": "python",
   "name": "python3"
  },
  "language_info": {
   "codemirror_mode": {
    "name": "ipython",
    "version": 3
   },
   "file_extension": ".py",
   "mimetype": "text/x-python",
   "name": "python",
   "nbconvert_exporter": "python",
   "pygments_lexer": "ipython3",
   "version": "3.10.8"
  },
  "vscode": {
   "interpreter": {
    "hash": "790cb1737f5a89434f0995660dfce20e18b4a746a3fe380e89503d1bf8344808"
   }
  }
 },
 "nbformat": 4,
 "nbformat_minor": 5
}
