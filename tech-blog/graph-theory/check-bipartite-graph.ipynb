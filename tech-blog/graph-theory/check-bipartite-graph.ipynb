{
 "cells": [
  {
   "cell_type": "markdown",
   "id": "f13f1543-243a-4a3a-aba1-427aaa1bdebc",
   "metadata": {},
   "source": [
    "# Check if a graph is Bipartite\n",
    "\n",
    "A Bipartite Graph is a graph whose vertices can be divided into two independent sets, $U$ and $V$ such that every edge $(u, v)$ either connects a vertex from $U$ to $V$ or from $V$ to $U$. In other words, for every edge $(u, v)$, either $u$ belongs to $U$ and $v$ to $V$, or $u$ belongs to $V$ and $v$ to $U$,also, there is no edge that connects vertices of same set.\n",
    "\n",
    "![bipartite-graph](./images/BipartiteGraph_1000.svg \"Bipartite Graph\")\n",
    "\n",
    "The algorithm to check for the bipartiteness of a graph is like creating a fascinating canvas of colors. \n",
    "1. We have an array called color\\[\\] which stores 0 or 1 for every node. \n",
    "2. Then we call the function DFS to traverse the graph starting from any node. \n",
    "3. For each node visited, we assign !color\\[v\\] to color\\[u\\] if u has not been visited before. \n",
    "4. We then call DFS again to visit nodes connected to u. If at any point, the color of u is equal to the color of v, then the node is not bipartite. \n",
    "5. Finally, we modify the DFS function such that it returns a boolean value at the end.\n",
    "\n",
    "\n",
    "Let's define a graph as an 2D array, where graph\\[u\\] is an array of nodes that node u is adjacent to.\n",
    "\n",
    "Below is the implementation of the above approach: "
   ]
  },
  {
   "cell_type": "code",
   "execution_count": 7,
   "id": "8a39e941-545c-4439-8d43-bb6e8474860f",
   "metadata": {
    "tags": []
   },
   "outputs": [],
   "source": [
    "from typing import List\n",
    "def is_bipartite(graph: List[List[int]]) -> bool:\n",
    "        UNCOLORED,RED,BLUE = 0,1,2\n",
    "        n = len(graph)\n",
    "        status = [UNCOLORED] * n\n",
    "        valid = True\n",
    "\n",
    "        def dfs(node:int, color:int):\n",
    "            nonlocal valid\n",
    "            status[node] = color\n",
    "            neighbor_color = (RED if color==BLUE else BLUE)\n",
    "            for neighbor in graph[node]:\n",
    "                if status[neighbor] == UNCOLORED:\n",
    "                    dfs(neighbor,neighbor_color)\n",
    "                    if valid == False:\n",
    "                        return \n",
    "                elif status[neighbor] != neighbor_color:\n",
    "                    valid = False\n",
    "                    return\n",
    "\n",
    "        for i in range(n):\n",
    "            if status[i] == UNCOLORED:\n",
    "                dfs(i,RED)\n",
    "                if not valid:\n",
    "                    break\n",
    "\n",
    "        return valid\n"
   ]
  },
  {
   "cell_type": "code",
   "execution_count": 8,
   "id": "f01c2e4b-3cc4-4e18-85f3-54630b9652a2",
   "metadata": {
    "tags": []
   },
   "outputs": [
    {
     "name": "stdout",
     "output_type": "stream",
     "text": [
      "False\n"
     ]
    }
   ],
   "source": [
    "graph = [[1,2,3],[0,2],[0,1,3],[0,2]]\n",
    "result = is_bipartite(graph)\n",
    "print(result)"
   ]
  },
  {
   "cell_type": "code",
   "execution_count": 9,
   "id": "540e3775-b7c0-4f45-bb12-3ca238cca514",
   "metadata": {
    "tags": []
   },
   "outputs": [
    {
     "name": "stdout",
     "output_type": "stream",
     "text": [
      "True\n"
     ]
    }
   ],
   "source": [
    "graph = [[1,3],[0,2],[1,3],[0,2]]\n",
    "result = is_bipartite(graph)\n",
    "print(result)"
   ]
  },
  {
   "cell_type": "code",
   "execution_count": null,
   "id": "5be36d00-9a86-4fe0-8b1c-02c6797665f9",
   "metadata": {},
   "outputs": [],
   "source": []
  }
 ],
 "metadata": {
  "kernelspec": {
   "display_name": "Python 3 (ipykernel)",
   "language": "python",
   "name": "python3"
  },
  "language_info": {
   "codemirror_mode": {
    "name": "ipython",
    "version": 3
   },
   "file_extension": ".py",
   "mimetype": "text/x-python",
   "name": "python",
   "nbconvert_exporter": "python",
   "pygments_lexer": "ipython3",
   "version": "3.10.9"
  }
 },
 "nbformat": 4,
 "nbformat_minor": 5
}
