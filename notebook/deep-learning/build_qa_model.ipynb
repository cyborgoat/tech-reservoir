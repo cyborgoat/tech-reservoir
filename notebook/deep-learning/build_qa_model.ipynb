{
 "cells": [
  {
   "cell_type": "markdown",
   "id": "f8a61dcd-4219-48d4-a66d-77c3cb53882f",
   "metadata": {},
   "source": [
    "# Build a simple Question Answering model\n",
    "\n",
    "This article inroduces SQuAD dataset and how to use this dataset to perform a simple question answering system using BERT, and use different metrics to determine how does the model performs."
   ]
  },
  {
   "cell_type": "markdown",
   "id": "902e37da-1fdb-4f6d-b286-250f1a732b17",
   "metadata": {},
   "source": [
    "## SQuAD 2.0 Dataset\n",
    "The SQuAD (Stanford Question and Answering Dataset) is a hugely popular dataset containing question and answer pairs scraped from Wikipedia, covering topics ranging from Beyonce, to Physics. As one of the most comprehensive Q&A datasets available, it's only natural that we will be making use of it. So let's explore it.\n",
    "\n",
    "First, we'll need to download the data. There are two JSON files that we are interested in - train and dev, which we can downloaded from http. Here we will be storing the SQuAD data in the `data/squad` directory, so we must check if this already exists and if not create the directory."
   ]
  },
  {
   "cell_type": "code",
   "execution_count": 12,
   "id": "5012d726-8424-4e15-a3c1-fb3a097c6f8a",
   "metadata": {
    "tags": []
   },
   "outputs": [],
   "source": [
    "import os\n",
    "\n",
    "squad_dir = './data/squad'\n",
    "\n",
    "if not os.path.exists(squad_dir):\n",
    "    os.mkdir(squad_dir)"
   ]
  },
  {
   "cell_type": "code",
   "execution_count": 13,
   "id": "edf7c9d1-6edb-4c80-b74d-bac430622e6c",
   "metadata": {
    "tags": []
   },
   "outputs": [],
   "source": [
    "url = 'https://rajpurkar.github.io/SQuAD-explorer/dataset/'\n",
    "files = ['train-v2.0.json', 'dev-v2.0.json']"
   ]
  },
  {
   "cell_type": "code",
   "execution_count": 15,
   "id": "097e4452-da9e-41fa-89d8-8588d6796dc8",
   "metadata": {
    "tags": []
   },
   "outputs": [],
   "source": [
    "# Download data to local machine\n",
    "import requests\n",
    "\n",
    "for file in files:\n",
    "    res = requests.get(url+file)\n",
    "    # write to file in chunks\n",
    "    with open(os.path.join(squad_dir, file), 'wb') as f:\n",
    "        for chunk in res.iter_content(chunk_size=40):\n",
    "            f.write(chunk)"
   ]
  },
  {
   "cell_type": "code",
   "execution_count": 17,
   "id": "58de2987-dd3c-4c09-928b-286ee313d8db",
   "metadata": {
    "tags": []
   },
   "outputs": [],
   "source": [
    "\n",
    "import json\n",
    "\n",
    "with open(os.path.join(squad_dir, 'train-v2.0.json'), 'rb') as f:\n",
    "    squad = json.load(f)"
   ]
  },
  {
   "cell_type": "markdown",
   "id": "a983ff56-18b9-43f4-9e35-67443bee93dc",
   "metadata": {},
   "source": [
    "The JSON structure contains a top-level 'data' key which contains a list of groups, where each group is a topic, such as Beyonce, Chopin, or Matter. We can take a look at the first and last groups respectively."
   ]
  },
  {
   "cell_type": "code",
   "execution_count": 19,
   "id": "2b72619f-be60-4663-9fe8-3c80aee1243d",
   "metadata": {
    "tags": []
   },
   "outputs": [],
   "source": [
    "# squad['data'][0]"
   ]
  },
  {
   "cell_type": "code",
   "execution_count": 20,
   "id": "8fb3a8f0-dcb7-4556-b779-dc5a6933802b",
   "metadata": {
    "tags": []
   },
   "outputs": [
    {
     "data": {
      "text/plain": [
       "{'qas': [{'plausible_answers': [{'text': 'ordinary matter composed of atoms',\n",
       "     'answer_start': 50}],\n",
       "   'question': 'What did the term matter include after the 20th century?',\n",
       "   'id': '5a7db48670df9f001a87505f',\n",
       "   'answers': [],\n",
       "   'is_impossible': True},\n",
       "  {'plausible_answers': [{'text': 'matter', 'answer_start': 59}],\n",
       "   'question': 'What are atoms composed of?',\n",
       "   'id': '5a7db48670df9f001a875060',\n",
       "   'answers': [],\n",
       "   'is_impossible': True},\n",
       "  {'plausible_answers': [{'text': 'light or sound', 'answer_start': 128}],\n",
       "   'question': 'What are two examples of matter?',\n",
       "   'id': '5a7db48670df9f001a875061',\n",
       "   'answers': [],\n",
       "   'is_impossible': True},\n",
       "  {'plausible_answers': [{'text': \"its (possibly massless) constituents' motion and interaction energies\",\n",
       "     'answer_start': 315}],\n",
       "   'question': \"What can an object's mass not come from?\",\n",
       "   'id': '5a7db48670df9f001a875062',\n",
       "   'answers': [],\n",
       "   'is_impossible': True},\n",
       "  {'plausible_answers': [{'text': 'fundamental', 'answer_start': 449}],\n",
       "   'question': 'Matter is currently considered to be what kind of concept?',\n",
       "   'id': '5a7db48670df9f001a875063',\n",
       "   'answers': [],\n",
       "   'is_impossible': True}],\n",
       " 'context': \"Before the 20th century, the term matter included ordinary matter composed of atoms and excluded other energy phenomena such as light or sound. This concept of matter may be generalized from atoms to include any objects having mass even when at rest, but this is ill-defined because an object's mass can arise from its (possibly massless) constituents' motion and interaction energies. Thus, matter does not have a universal definition, nor is it a fundamental concept in physics today. Matter is also used loosely as a general term for the substance that makes up all observable physical objects.\"}"
      ]
     },
     "execution_count": 20,
     "metadata": {},
     "output_type": "execute_result"
    }
   ],
   "source": [
    "squad['data'][-1]['paragraphs'][0]"
   ]
  },
  {
   "cell_type": "markdown",
   "id": "60ef1111-b5f2-4200-91e4-a63afab67f77",
   "metadata": {},
   "source": [
    "If we compare the first entry on Beyonce and the second on Matter, we can see that we sometimes return our answers in the `answers` key, and sometimes in the `plausible_answers` key. So when processing this data we will need to consider some additional logic to deal with this."
   ]
  },
  {
   "cell_type": "markdown",
   "id": "d65d79de-721f-4c72-a9ee-e3da0ce3e961",
   "metadata": {},
   "source": [
    "Secondly, for all samples, we need to iterate through multiple levels. On the highest level we have groups, which is where our topics like 'Beyonce' and 'Matter' belong. At the next layer we have paragraphs, and in the next we have our question-answer pairs, this structure looks like this:"
   ]
  },
  {
   "cell_type": "markdown",
   "id": "ebb574d2-74fd-4a46-91d2-33b71af50c0b",
   "metadata": {},
   "source": [
    "We'll work through parsing this data into a cleaner format that we will be using in later notebooks. We need to create a format that consists of a list of dictionaries where each dictionary contains a single question, answer, and context."
   ]
  },
  {
   "cell_type": "code",
   "execution_count": 21,
   "id": "014d67b2-935f-4e3c-9416-e1a6e11c9869",
   "metadata": {
    "tags": []
   },
   "outputs": [],
   "source": [
    "# initialize list where we will place all of our data\n",
    "new_squad = []\n",
    "\n",
    "# we need to loop through groups -> paragraphs -> qa_pairs\n",
    "for group in squad['data']:\n",
    "    for paragraph in group['paragraphs']:\n",
    "        # we pull out the context from here\n",
    "        context = paragraph['context']\n",
    "        for qa_pair in paragraph['qas']:\n",
    "            # we pull out the question\n",
    "            question = qa_pair['question']\n",
    "            # now the logic to check if we have 'answers' or 'plausible_answers'\n",
    "            if 'answers' in qa_pair.keys() and len(qa_pair['answers']) > 0:\n",
    "                answer = qa_pair['answers'][0]['text']\n",
    "            elif 'plausible_answers' in qa_pair.keys() and len(qa_pair['plausible_answers']) > 0:\n",
    "                answer = qa_pair['plausible_answers'][0]['text']\n",
    "            else:\n",
    "                # this shouldn't happen, but just in case we just set answer = None\n",
    "                answer = None\n",
    "            # append dictionary sample to parsed squad\n",
    "            new_squad.append({\n",
    "                'question': question,\n",
    "                'answer': answer,\n",
    "                'context': context\n",
    "            })"
   ]
  },
  {
   "cell_type": "code",
   "execution_count": 22,
   "id": "0ca60b6f-b860-40c3-93d4-86352b1cb399",
   "metadata": {
    "tags": []
   },
   "outputs": [
    {
     "data": {
      "text/plain": [
       "([{'question': 'When did Beyonce start becoming popular?',\n",
       "   'answer': 'in the late 1990s',\n",
       "   'context': 'Beyoncé Giselle Knowles-Carter (/biːˈjɒnseɪ/ bee-YON-say) (born September 4, 1981) is an American singer, songwriter, record producer and actress. Born and raised in Houston, Texas, she performed in various singing and dancing competitions as a child, and rose to fame in the late 1990s as lead singer of R&B girl-group Destiny\\'s Child. Managed by her father, Mathew Knowles, the group became one of the world\\'s best-selling girl groups of all time. Their hiatus saw the release of Beyoncé\\'s debut album, Dangerously in Love (2003), which established her as a solo artist worldwide, earned five Grammy Awards and featured the Billboard Hot 100 number-one singles \"Crazy in Love\" and \"Baby Boy\".'},\n",
       "  {'question': 'What areas did Beyonce compete in when she was growing up?',\n",
       "   'answer': 'singing and dancing',\n",
       "   'context': 'Beyoncé Giselle Knowles-Carter (/biːˈjɒnseɪ/ bee-YON-say) (born September 4, 1981) is an American singer, songwriter, record producer and actress. Born and raised in Houston, Texas, she performed in various singing and dancing competitions as a child, and rose to fame in the late 1990s as lead singer of R&B girl-group Destiny\\'s Child. Managed by her father, Mathew Knowles, the group became one of the world\\'s best-selling girl groups of all time. Their hiatus saw the release of Beyoncé\\'s debut album, Dangerously in Love (2003), which established her as a solo artist worldwide, earned five Grammy Awards and featured the Billboard Hot 100 number-one singles \"Crazy in Love\" and \"Baby Boy\".'}],\n",
       " [{'question': 'Matter usually does not need to be used in conjunction with what?',\n",
       "   'answer': 'a specifying modifier',\n",
       "   'context': 'The term \"matter\" is used throughout physics in a bewildering variety of contexts: for example, one refers to \"condensed matter physics\", \"elementary matter\", \"partonic\" matter, \"dark\" matter, \"anti\"-matter, \"strange\" matter, and \"nuclear\" matter. In discussions of matter and antimatter, normal matter has been referred to by Alfvén as koinomatter (Gk. common matter). It is fair to say that in physics, there is no broad consensus as to a general definition of matter, and the term \"matter\" usually is used in conjunction with a specifying modifier.'},\n",
       "  {'question': 'What field of study has a variety of unusual contexts?',\n",
       "   'answer': 'physics',\n",
       "   'context': 'The term \"matter\" is used throughout physics in a bewildering variety of contexts: for example, one refers to \"condensed matter physics\", \"elementary matter\", \"partonic\" matter, \"dark\" matter, \"anti\"-matter, \"strange\" matter, and \"nuclear\" matter. In discussions of matter and antimatter, normal matter has been referred to by Alfvén as koinomatter (Gk. common matter). It is fair to say that in physics, there is no broad consensus as to a general definition of matter, and the term \"matter\" usually is used in conjunction with a specifying modifier.'}])"
      ]
     },
     "execution_count": 22,
     "metadata": {},
     "output_type": "execute_result"
    }
   ],
   "source": [
    "new_squad[:2], new_squad[-2:]"
   ]
  },
  {
   "cell_type": "code",
   "execution_count": 23,
   "id": "43da10b2-cb53-4910-8087-8c9ff02d4eff",
   "metadata": {
    "tags": []
   },
   "outputs": [],
   "source": [
    "with open(os.path.join(squad_dir, 'train.json'), 'w') as f:\n",
    "    json.dump(new_squad, f)"
   ]
  },
  {
   "cell_type": "markdown",
   "id": "190d08bf-360d-4720-8d68-77927ecbbef1",
   "metadata": {},
   "source": [
    "Then we do the same for our development data"
   ]
  },
  {
   "cell_type": "code",
   "execution_count": 24,
   "id": "29118d04-b39a-429c-a583-e8027cc64b4b",
   "metadata": {
    "tags": []
   },
   "outputs": [],
   "source": [
    "import os\n",
    "import json\n",
    "\n",
    "with open(os.path.join(squad_dir, 'dev-v2.0.json'), 'rb') as f:\n",
    "    squad = json.load(f)"
   ]
  },
  {
   "cell_type": "code",
   "execution_count": 25,
   "id": "8c77f349-f0e7-46d4-a747-0cd257babadd",
   "metadata": {
    "tags": []
   },
   "outputs": [
    {
     "data": {
      "text/plain": [
       "{'qas': [{'question': 'In what country is Normandy located?',\n",
       "   'id': '56ddde6b9a695914005b9628',\n",
       "   'answers': [{'text': 'France', 'answer_start': 159},\n",
       "    {'text': 'France', 'answer_start': 159},\n",
       "    {'text': 'France', 'answer_start': 159},\n",
       "    {'text': 'France', 'answer_start': 159}],\n",
       "   'is_impossible': False},\n",
       "  {'question': 'When were the Normans in Normandy?',\n",
       "   'id': '56ddde6b9a695914005b9629',\n",
       "   'answers': [{'text': '10th and 11th centuries', 'answer_start': 94},\n",
       "    {'text': 'in the 10th and 11th centuries', 'answer_start': 87},\n",
       "    {'text': '10th and 11th centuries', 'answer_start': 94},\n",
       "    {'text': '10th and 11th centuries', 'answer_start': 94}],\n",
       "   'is_impossible': False},\n",
       "  {'question': 'From which countries did the Norse originate?',\n",
       "   'id': '56ddde6b9a695914005b962a',\n",
       "   'answers': [{'text': 'Denmark, Iceland and Norway', 'answer_start': 256},\n",
       "    {'text': 'Denmark, Iceland and Norway', 'answer_start': 256},\n",
       "    {'text': 'Denmark, Iceland and Norway', 'answer_start': 256},\n",
       "    {'text': 'Denmark, Iceland and Norway', 'answer_start': 256}],\n",
       "   'is_impossible': False},\n",
       "  {'question': 'Who was the Norse leader?',\n",
       "   'id': '56ddde6b9a695914005b962b',\n",
       "   'answers': [{'text': 'Rollo', 'answer_start': 308},\n",
       "    {'text': 'Rollo', 'answer_start': 308},\n",
       "    {'text': 'Rollo', 'answer_start': 308},\n",
       "    {'text': 'Rollo', 'answer_start': 308}],\n",
       "   'is_impossible': False},\n",
       "  {'question': 'What century did the Normans first gain their separate identity?',\n",
       "   'id': '56ddde6b9a695914005b962c',\n",
       "   'answers': [{'text': '10th century', 'answer_start': 671},\n",
       "    {'text': 'the first half of the 10th century', 'answer_start': 649},\n",
       "    {'text': '10th', 'answer_start': 671},\n",
       "    {'text': '10th', 'answer_start': 671}],\n",
       "   'is_impossible': False},\n",
       "  {'plausible_answers': [{'text': 'Normans', 'answer_start': 4}],\n",
       "   'question': \"Who gave their name to Normandy in the 1000's and 1100's\",\n",
       "   'id': '5ad39d53604f3c001a3fe8d1',\n",
       "   'answers': [],\n",
       "   'is_impossible': True},\n",
       "  {'plausible_answers': [{'text': 'Normandy', 'answer_start': 137}],\n",
       "   'question': 'What is France a region of?',\n",
       "   'id': '5ad39d53604f3c001a3fe8d2',\n",
       "   'answers': [],\n",
       "   'is_impossible': True},\n",
       "  {'plausible_answers': [{'text': 'Rollo', 'answer_start': 308}],\n",
       "   'question': 'Who did King Charles III swear fealty to?',\n",
       "   'id': '5ad39d53604f3c001a3fe8d3',\n",
       "   'answers': [],\n",
       "   'is_impossible': True},\n",
       "  {'plausible_answers': [{'text': '10th century', 'answer_start': 671}],\n",
       "   'question': 'When did the Frankish identity emerge?',\n",
       "   'id': '5ad39d53604f3c001a3fe8d4',\n",
       "   'answers': [],\n",
       "   'is_impossible': True}],\n",
       " 'context': 'The Normans (Norman: Nourmands; French: Normands; Latin: Normanni) were the people who in the 10th and 11th centuries gave their name to Normandy, a region in France. They were descended from Norse (\"Norman\" comes from \"Norseman\") raiders and pirates from Denmark, Iceland and Norway who, under their leader Rollo, agreed to swear fealty to King Charles III of West Francia. Through generations of assimilation and mixing with the native Frankish and Roman-Gaulish populations, their descendants would gradually merge with the Carolingian-based cultures of West Francia. The distinct cultural and ethnic identity of the Normans emerged initially in the first half of the 10th century, and it continued to evolve over the succeeding centuries.'}"
      ]
     },
     "execution_count": 25,
     "metadata": {},
     "output_type": "execute_result"
    }
   ],
   "source": [
    "squad['data'][0]['paragraphs'][0]"
   ]
  },
  {
   "cell_type": "code",
   "execution_count": 26,
   "id": "e9bf8729-775d-48c6-befc-5bd3a74e7537",
   "metadata": {
    "tags": []
   },
   "outputs": [
    {
     "data": {
      "text/plain": [
       "{'qas': [{'question': 'What concept did philosophers in antiquity use to study simple machines?',\n",
       "   'id': '573735e8c3c5551400e51e71',\n",
       "   'answers': [{'text': 'force', 'answer_start': 46},\n",
       "    {'text': 'force', 'answer_start': 46},\n",
       "    {'text': 'the concept of force', 'answer_start': 31},\n",
       "    {'text': 'the concept of force', 'answer_start': 31},\n",
       "    {'text': 'force', 'answer_start': 46},\n",
       "    {'text': 'force', 'answer_start': 46}],\n",
       "   'is_impossible': False},\n",
       "  {'question': 'What was the belief that maintaining motion required force?',\n",
       "   'id': '573735e8c3c5551400e51e72',\n",
       "   'answers': [{'text': 'fundamental error', 'answer_start': 387},\n",
       "    {'text': 'A fundamental error', 'answer_start': 385},\n",
       "    {'text': 'A fundamental error', 'answer_start': 385},\n",
       "    {'text': 'A fundamental error', 'answer_start': 385},\n",
       "    {'text': 'A fundamental error', 'answer_start': 385},\n",
       "    {'text': 'A fundamental error', 'answer_start': 385}],\n",
       "   'is_impossible': False},\n",
       "  {'question': 'Who had mathmatical insite?',\n",
       "   'id': '573735e8c3c5551400e51e73',\n",
       "   'answers': [{'text': 'Sir Isaac Newton', 'answer_start': 654},\n",
       "    {'text': 'Sir Isaac Newton', 'answer_start': 654},\n",
       "    {'text': 'Sir Isaac Newton', 'answer_start': 654},\n",
       "    {'text': 'Sir Isaac Newton', 'answer_start': 654},\n",
       "    {'text': 'Sir Isaac Newton', 'answer_start': 654},\n",
       "    {'text': 'Sir Isaac Newton', 'answer_start': 654}],\n",
       "   'is_impossible': False},\n",
       "  {'question': \"How long did it take to improve on Sir Isaac Newton's laws of motion?\",\n",
       "   'id': '573735e8c3c5551400e51e74',\n",
       "   'answers': [{'text': 'nearly three hundred years', 'answer_start': 727},\n",
       "    {'text': 'nearly three hundred years', 'answer_start': 727},\n",
       "    {'text': 'nearly three hundred years', 'answer_start': 727},\n",
       "    {'text': 'nearly three hundred years', 'answer_start': 727},\n",
       "    {'text': 'nearly three hundred years', 'answer_start': 727},\n",
       "    {'text': 'three hundred years', 'answer_start': 734}],\n",
       "   'is_impossible': False},\n",
       "  {'question': 'Who develped the theory of relativity?',\n",
       "   'id': '573735e8c3c5551400e51e75',\n",
       "   'answers': [{'text': 'Einstein', 'answer_start': 782},\n",
       "    {'text': 'Einstein', 'answer_start': 782},\n",
       "    {'text': 'Einstein', 'answer_start': 782},\n",
       "    {'text': 'Einstein', 'answer_start': 782},\n",
       "    {'text': 'Einstein', 'answer_start': 782},\n",
       "    {'text': 'Einstein', 'answer_start': 782}],\n",
       "   'is_impossible': False},\n",
       "  {'plausible_answers': [{'text': 'Philosophers', 'answer_start': 0}],\n",
       "   'question': 'Who used the concept of antiquity in the study of stationary and moving objects?',\n",
       "   'id': '5ad25efad7d075001a428f56',\n",
       "   'answers': [],\n",
       "   'is_impossible': True},\n",
       "  {'plausible_answers': [{'text': 'motion', 'answer_start': 377}],\n",
       "   'question': 'Something that is considered a non fundamental error is the belief that a force is required to maintain what?',\n",
       "   'id': '5ad25efad7d075001a428f57',\n",
       "   'answers': [],\n",
       "   'is_impossible': True},\n",
       "  {'plausible_answers': [{'text': 'Galileo Galilei and Sir Isaac Newton',\n",
       "     'answer_start': 585}],\n",
       "   'question': 'Most of the previous understandings about motion and force were corrected by whom?',\n",
       "   'id': '5ad25efad7d075001a428f58',\n",
       "   'answers': [],\n",
       "   'is_impossible': True},\n",
       "  {'plausible_answers': [{'text': 'motion and force', 'answer_start': 539}],\n",
       "   'question': 'Sir Galileo Galilei corrected the previous misunderstandings about what?',\n",
       "   'id': '5ad25efad7d075001a428f59',\n",
       "   'answers': [],\n",
       "   'is_impossible': True},\n",
       "  {'plausible_answers': [{'text': 'Sir Isaac Newton', 'answer_start': 654}],\n",
       "   'question': 'Who formulated the laws of motion that were not improved-on for nearly three thousand years?',\n",
       "   'id': '5ad25efad7d075001a428f5a',\n",
       "   'answers': [],\n",
       "   'is_impossible': True}],\n",
       " 'context': 'Philosophers in antiquity used the concept of force in the study of stationary and moving objects and simple machines, but thinkers such as Aristotle and Archimedes retained fundamental errors in understanding force. In part this was due to an incomplete understanding of the sometimes non-obvious force of friction, and a consequently inadequate view of the nature of natural motion. A fundamental error was the belief that a force is required to maintain motion, even at a constant velocity. Most of the previous misunderstandings about motion and force were eventually corrected by Galileo Galilei and Sir Isaac Newton. With his mathematical insight, Sir Isaac Newton formulated laws of motion that were not improved-on for nearly three hundred years. By the early 20th century, Einstein developed a theory of relativity that correctly predicted the action of forces on objects with increasing momenta near the speed of light, and also provided insight into the forces produced by gravitation and inertia.'}"
      ]
     },
     "execution_count": 26,
     "metadata": {},
     "output_type": "execute_result"
    }
   ],
   "source": [
    "squad['data'][-1]['paragraphs'][0]"
   ]
  },
  {
   "cell_type": "code",
   "execution_count": 27,
   "id": "20b037f2-e64a-4a05-b683-41fbeb709945",
   "metadata": {
    "tags": []
   },
   "outputs": [],
   "source": [
    "# initialize list where we will place all of our data\n",
    "new_squad = []\n",
    "\n",
    "# we need to loop through groups -> paragraphs -> qa_pairs\n",
    "for group in squad['data']:\n",
    "    for paragraph in group['paragraphs']:\n",
    "        # we pull out the context from here\n",
    "        context = paragraph['context']\n",
    "        for qa_pair in paragraph['qas']:\n",
    "            # we pull out the question\n",
    "            question = qa_pair['question']\n",
    "            # now the logic to check if we have 'answers' or 'plausible_answers'\n",
    "            if 'answers' in qa_pair.keys() and len(qa_pair['answers']) > 0:\n",
    "                answer_list = qa_pair['answers']\n",
    "            elif 'plausible_answers' in qa_pair.keys() and len(qa_pair['plausible_answers']) > 0:\n",
    "                answer_list = qa_pair['plausible_answers']\n",
    "            else:\n",
    "                # this shouldn't happen, but just in case we just set answer = []\n",
    "                answer_list = []\n",
    "            # we want to pull our the 'text' of each answer in our list of answers\n",
    "            answer_list = [item['text'] for item in answer_list]\n",
    "            # we can remove duplicate answers by converting our list to a set, and then back to a list\n",
    "            answer_list = list(set(answer_list))\n",
    "            # we iterate through each unique answer in the answer_list\n",
    "            for answer in answer_list:\n",
    "                # append dictionary sample to parsed squad\n",
    "                new_squad.append({\n",
    "                    'question': question,\n",
    "                    'answer': answer,\n",
    "                    'context': context\n",
    "                })"
   ]
  },
  {
   "cell_type": "code",
   "execution_count": 28,
   "id": "e20e9555-b922-4be8-90c2-b7cbb9eb3ad9",
   "metadata": {
    "tags": []
   },
   "outputs": [
    {
     "data": {
      "text/plain": [
       "([{'question': 'In what country is Normandy located?',\n",
       "   'answer': 'France',\n",
       "   'context': 'The Normans (Norman: Nourmands; French: Normands; Latin: Normanni) were the people who in the 10th and 11th centuries gave their name to Normandy, a region in France. They were descended from Norse (\"Norman\" comes from \"Norseman\") raiders and pirates from Denmark, Iceland and Norway who, under their leader Rollo, agreed to swear fealty to King Charles III of West Francia. Through generations of assimilation and mixing with the native Frankish and Roman-Gaulish populations, their descendants would gradually merge with the Carolingian-based cultures of West Francia. The distinct cultural and ethnic identity of the Normans emerged initially in the first half of the 10th century, and it continued to evolve over the succeeding centuries.'},\n",
       "  {'question': 'When were the Normans in Normandy?',\n",
       "   'answer': '10th and 11th centuries',\n",
       "   'context': 'The Normans (Norman: Nourmands; French: Normands; Latin: Normanni) were the people who in the 10th and 11th centuries gave their name to Normandy, a region in France. They were descended from Norse (\"Norman\" comes from \"Norseman\") raiders and pirates from Denmark, Iceland and Norway who, under their leader Rollo, agreed to swear fealty to King Charles III of West Francia. Through generations of assimilation and mixing with the native Frankish and Roman-Gaulish populations, their descendants would gradually merge with the Carolingian-based cultures of West Francia. The distinct cultural and ethnic identity of the Normans emerged initially in the first half of the 10th century, and it continued to evolve over the succeeding centuries.'},\n",
       "  {'question': 'When were the Normans in Normandy?',\n",
       "   'answer': 'in the 10th and 11th centuries',\n",
       "   'context': 'The Normans (Norman: Nourmands; French: Normands; Latin: Normanni) were the people who in the 10th and 11th centuries gave their name to Normandy, a region in France. They were descended from Norse (\"Norman\" comes from \"Norseman\") raiders and pirates from Denmark, Iceland and Norway who, under their leader Rollo, agreed to swear fealty to King Charles III of West Francia. Through generations of assimilation and mixing with the native Frankish and Roman-Gaulish populations, their descendants would gradually merge with the Carolingian-based cultures of West Francia. The distinct cultural and ethnic identity of the Normans emerged initially in the first half of the 10th century, and it continued to evolve over the succeeding centuries.'}],\n",
       " [{'question': 'What force leads to a commonly used unit of mass?',\n",
       "   'answer': 'kilogram-force',\n",
       "   'context': 'The pound-force has a metric counterpart, less commonly used than the newton: the kilogram-force (kgf) (sometimes kilopond), is the force exerted by standard gravity on one kilogram of mass. The kilogram-force leads to an alternate, but rarely used unit of mass: the metric slug (sometimes mug or hyl) is that mass that accelerates at 1 m·s−2 when subjected to a force of 1 kgf. The kilogram-force is not a part of the modern SI system, and is generally deprecated; however it still sees use for some purposes as expressing aircraft weight, jet thrust, bicycle spoke tension, torque wrench settings and engine output torque. Other arcane units of force include the sthène, which is equivalent to 1000 N, and the kip, which is equivalent to 1000 lbf.'},\n",
       "  {'question': 'What force is part of the modern SI system?',\n",
       "   'answer': 'kilogram-force',\n",
       "   'context': 'The pound-force has a metric counterpart, less commonly used than the newton: the kilogram-force (kgf) (sometimes kilopond), is the force exerted by standard gravity on one kilogram of mass. The kilogram-force leads to an alternate, but rarely used unit of mass: the metric slug (sometimes mug or hyl) is that mass that accelerates at 1 m·s−2 when subjected to a force of 1 kgf. The kilogram-force is not a part of the modern SI system, and is generally deprecated; however it still sees use for some purposes as expressing aircraft weight, jet thrust, bicycle spoke tension, torque wrench settings and engine output torque. Other arcane units of force include the sthène, which is equivalent to 1000 N, and the kip, which is equivalent to 1000 lbf.'}])"
      ]
     },
     "execution_count": 28,
     "metadata": {},
     "output_type": "execute_result"
    }
   ],
   "source": [
    "new_squad[:3], new_squad[-2:]"
   ]
  },
  {
   "cell_type": "code",
   "execution_count": 29,
   "id": "296f9e68-e487-4b79-8341-b0b1ce9b8874",
   "metadata": {
    "tags": []
   },
   "outputs": [],
   "source": [
    "with open(os.path.join(squad_dir, 'dev.json'), 'w') as f:\n",
    "    json.dump(new_squad, f)"
   ]
  },
  {
   "cell_type": "markdown",
   "id": "2575a44f-c38a-4c9b-a9a9-a7e7e2bbc9dc",
   "metadata": {},
   "source": [
    "## Establish our QA Model\n",
    "For our QA model we will setup a simple question-answering pipeline using HuggingFace transformers and a pretrained BERT model. We will be testing it on our SQuAD data so let's load that first."
   ]
  },
  {
   "cell_type": "code",
   "execution_count": 16,
   "id": "f983c7c4-0a23-46b7-95a1-af20c3a930b9",
   "metadata": {
    "tags": []
   },
   "outputs": [],
   "source": [
    "import json\n",
    "\n",
    "with open('data/squad/dev.json', 'r') as f:\n",
    "    squad = json.load(f)"
   ]
  },
  {
   "cell_type": "code",
   "execution_count": 21,
   "id": "b88eb4cb-b291-4401-9f9d-9fa3d5d7f619",
   "metadata": {
    "tags": []
   },
   "outputs": [],
   "source": [
    "from transformers import BertTokenizer, BertForQuestionAnswering\n",
    "proxies={'http': 'http://127.0.0.1:7890', 'https': 'http://127.0.0.1:7890'}\n",
    "modelname = 'deepset/bert-base-cased-squad2'\n",
    "# tokenizer = BertTokenizer.from_pretrained(modelname,proxies=proxies)\n",
    "# model = BertForQuestionAnswering.from_pretrained(modelname,proxies=proxies)\n",
    "tokenizer = BertTokenizer.from_pretrained(modelname)\n",
    "model = BertForQuestionAnswering.from_pretrained(modelname)"
   ]
  },
  {
   "cell_type": "markdown",
   "id": "1d9e4461-9598-4272-8732-62076bfca696",
   "metadata": {},
   "source": [
    "Transformers comes with a useful class called pipeline which allows us to setup easy to use pipelines for common architectures.\n",
    "\n",
    "One of those pipelines is the question-answering pipeline which allows us to feed a dictionary containing a `question` and `context` and return an answer. Which we initialize like so:"
   ]
  },
  {
   "cell_type": "code",
   "execution_count": 22,
   "id": "90f7e092-edd5-4d08-845b-e955bfe2b62d",
   "metadata": {
    "tags": []
   },
   "outputs": [],
   "source": [
    "from transformers import pipeline\n",
    "\n",
    "qa = pipeline('question-answering', model=model, tokenizer=tokenizer)"
   ]
  },
  {
   "cell_type": "code",
   "execution_count": 23,
   "id": "95195d4a-46a9-435a-97e7-ace1feb97b38",
   "metadata": {
    "tags": []
   },
   "outputs": [
    {
     "data": {
      "text/plain": [
       "[{'question': 'In what country is Normandy located?',\n",
       "  'answer': 'France',\n",
       "  'context': 'The Normans (Norman: Nourmands; French: Normands; Latin: Normanni) were the people who in the 10th and 11th centuries gave their name to Normandy, a region in France. They were descended from Norse (\"Norman\" comes from \"Norseman\") raiders and pirates from Denmark, Iceland and Norway who, under their leader Rollo, agreed to swear fealty to King Charles III of West Francia. Through generations of assimilation and mixing with the native Frankish and Roman-Gaulish populations, their descendants would gradually merge with the Carolingian-based cultures of West Francia. The distinct cultural and ethnic identity of the Normans emerged initially in the first half of the 10th century, and it continued to evolve over the succeeding centuries.'},\n",
       " {'question': 'When were the Normans in Normandy?',\n",
       "  'answer': '10th and 11th centuries',\n",
       "  'context': 'The Normans (Norman: Nourmands; French: Normands; Latin: Normanni) were the people who in the 10th and 11th centuries gave their name to Normandy, a region in France. They were descended from Norse (\"Norman\" comes from \"Norseman\") raiders and pirates from Denmark, Iceland and Norway who, under their leader Rollo, agreed to swear fealty to King Charles III of West Francia. Through generations of assimilation and mixing with the native Frankish and Roman-Gaulish populations, their descendants would gradually merge with the Carolingian-based cultures of West Francia. The distinct cultural and ethnic identity of the Normans emerged initially in the first half of the 10th century, and it continued to evolve over the succeeding centuries.'}]"
      ]
     },
     "execution_count": 23,
     "metadata": {},
     "output_type": "execute_result"
    }
   ],
   "source": [
    "squad[:2]"
   ]
  },
  {
   "cell_type": "code",
   "execution_count": 24,
   "id": "3d258c82-7964-4445-97a2-fe69b9f253f0",
   "metadata": {
    "tags": []
   },
   "outputs": [],
   "source": [
    "# we will intialize a list for answers\n",
    "answers = []\n",
    "\n",
    "for pair in squad[:5]:\n",
    "    # pass in our question and context to return an answer\n",
    "    ans = qa({\n",
    "        'question': pair['question'],\n",
    "        'context': pair['context']\n",
    "    })\n",
    "    # append predicted answer and real to answers list\n",
    "    answers.append({\n",
    "        'predicted': ans['answer'],\n",
    "        'true': pair['answer']\n",
    "    })"
   ]
  },
  {
   "cell_type": "code",
   "execution_count": 26,
   "id": "616fbed7-e33f-4897-8f29-8faf203955f8",
   "metadata": {
    "tags": []
   },
   "outputs": [
    {
     "data": {
      "text/plain": [
       "[{'predicted': 'France.', 'true': 'France'},\n",
       " {'predicted': '10th and 11th centuries', 'true': '10th and 11th centuries'},\n",
       " {'predicted': '10th and 11th centuries',\n",
       "  'true': 'in the 10th and 11th centuries'},\n",
       " {'predicted': 'Denmark, Iceland and Norway',\n",
       "  'true': 'Denmark, Iceland and Norway'},\n",
       " {'predicted': 'Rollo,', 'true': 'Rollo'}]"
      ]
     },
     "execution_count": 26,
     "metadata": {},
     "output_type": "execute_result"
    }
   ],
   "source": [
    "answers"
   ]
  }
 ],
 "metadata": {
  "kernelspec": {
   "display_name": "Python 3 (ipykernel)",
   "language": "python",
   "name": "python3"
  },
  "language_info": {
   "codemirror_mode": {
    "name": "ipython",
    "version": 3
   },
   "file_extension": ".py",
   "mimetype": "text/x-python",
   "name": "python",
   "nbconvert_exporter": "python",
   "pygments_lexer": "ipython3",
   "version": "3.10.9"
  }
 },
 "nbformat": 4,
 "nbformat_minor": 5
}
