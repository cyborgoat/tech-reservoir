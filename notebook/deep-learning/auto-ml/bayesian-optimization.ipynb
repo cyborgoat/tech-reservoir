{
 "cells": [
  {
   "cell_type": "markdown",
   "id": "552f7380-d22a-473b-93a7-7b96712bc1d1",
   "metadata": {},
   "source": [
    "# Implement Bayesian Optimization from Scratch in Python"
   ]
  },
  {
   "cell_type": "markdown",
   "id": "1640f9f5-5241-4891-9d6c-d8dbf0f99b80",
   "metadata": {},
   "source": [
    "Hyperparameter optimization is a challenging problem of finding an input that results in the minimum or maximum cost of a given objective function.\n",
    "\n",
    "Bayesian Optimization provides a principled technique based on Bayes Theorem to direct a search of a global optimization problem that is efficient and effective. It works by building a probabilistic model of the objective function, called the surrogate function, that is then searched efficiently with an acquisition function before candidate samples are chosen for evaluation on the real objective function.\n",
    "\n",
    "Bayesian Optimization is often used in applied machine learning to tune the hyperparameters of a given well-performing model on a validation dataset."
   ]
  },
  {
   "cell_type": "markdown",
   "id": "614e91af-5809-4a58-ae24-2cdb63ca124e",
   "metadata": {},
   "source": [
    "## What is bayesian optimization"
   ]
  },
  {
   "cell_type": "markdown",
   "id": "35e17b62-ae4b-429f-a95d-13e33fba0b45",
   "metadata": {},
   "source": [
    "Bayesian Optimization is an approach that uses Bayes Theorem to direct the search in order to find the minimum or maximum of an objective function.\n",
    "\n",
    "It is an approach that is most useful for objective functions that are complex, noisy, and/or expensive to evaluate."
   ]
  },
  {
   "cell_type": "markdown",
   "id": "c0cadfec-f8d3-4bdc-8485-516ca83c1574",
   "metadata": {},
   "source": [
    "Recall that Bayes Theorem is an approach for calculating the conditional probability of an event:\n",
    "\n",
    "$$P(A|B) = \\frac{P(B|A) * P(A)}{P(B)}$$\n",
    "\n",
    "We can simplify this calculation by removing the normalizing value of P(B) and describe the conditional probability as a proportional quantity. This is useful as we are not interested in calculating a specific conditional probability, but instead in optimizing a quantity.\n",
    "\n",
    "$$P(A|B) = P(B|A) * P(A)$$\n",
    "\n",
    "The conditional probability that we are calculating is referred to generally as the posterior probability; the reverse conditional probability is sometimes referred to as the likelihood, and the marginal probability is referred to as the prior probability; for example:\n",
    "\n",
    "$$posterior = likelihood * prior$$\n",
    "This provides a framework that can be used to quantify the beliefs about an unknown objective function given samples from the domain and their evaluation via the objective function.\n",
    "\n",
    "We can devise specific samples $(x_1, x_2, …, x_n)$ and evaluate them using the objective function f(xi) that returns the cost or outcome for the sample xi. Samples and their outcome are collected sequentially and define our data D, e.g. $D = {x_i, f(x_i), … x_n, f(x_n)}$ and is used to define the prior. The likelihood function is defined as the probability of observing the data given the function $P(D | f)$. This likelihood function will change as more observations are collected.\n",
    "\n",
    "$$P(f|D) = P(D|f) * P(f)$$\n",
    "The posterior represents everything we know about the objective function. It is an approximation of the objective function and can be used to estimate the cost of different candidate samples that we may want to evaluate.\n",
    "\n",
    "In this way, the posterior probability is a surrogate objective function.\n",
    "\n",
    "- **Surrogate Function**: Bayesian approximation of the objective function that can be sampled efficiently.\n",
    "The surrogate function gives us an estimate of the objective function, which can be used to direct future sampling. Sampling involves careful use of the posterior in a function known as the “acquisition” function, e.g. for acquiring more samples. We want to use our belief about the objective function to sample the area of the search space that is most likely to pay off, therefore the acquisition will optimize the conditional probability of locations in the search to generate the next sample.\n",
    "\n",
    "- **Acquisition Function**: Technique by which the posterior is used to select the next sample from the search space.\n",
    "Once additional samples and their evaluation via the objective function f() have been collected, they are added to data D and the posterior is then updated.\n",
    "\n",
    "This process is repeated until the extrema of the objective function is located, a good enough result is located, or resources are exhausted.\n",
    "\n",
    "The Bayesian Optimization algorithm can be summarized as follows:\n",
    "\n",
    "1. Select a Sample by Optimizing the Acquisition Function.\n",
    "2. Evaluate the Sample With the Objective Function.\n",
    "3. Update the Data and, in turn, the Surrogate Function.\n",
    "4. Go To 1."
   ]
  },
  {
   "cell_type": "markdown",
   "id": "68c2cb10-8dda-4281-80c7-af93cb43c70f",
   "metadata": {},
   "source": [
    "## Performing Bayesian Optimization\n",
    "\n",
    "In this section, we will explore how Bayesian Optimization works by developing an implementation from scratch for a simple one-dimensional test function.\n",
    "\n",
    "First, we will define the test problem, then how to model the mapping of inputs to outputs with a surrogate function. Next, we will see how the surrogate function can be searched efficiently with an acquisition function before tying all of these elements together into the Bayesian Optimization procedure."
   ]
  },
  {
   "cell_type": "code",
   "execution_count": 1,
   "id": "82d4107e-cb8a-4c39-aea6-434783464ec9",
   "metadata": {},
   "outputs": [],
   "source": [
    "import numpy as np\n",
    "import math\n",
    "from matplotlib import pyplot"
   ]
  },
  {
   "cell_type": "markdown",
   "id": "649e345e-3b63-424a-936f-c0644180110e",
   "metadata": {},
   "source": [
    "### Problem definition"
   ]
  },
  {
   "cell_type": "markdown",
   "id": "2ab43fb5-f9ff-4fcd-86a8-5bc9f0be7cd7",
   "metadata": {},
   "source": [
    "We will use a multimodal problem with five peaks, calculated as:\n",
    "\n",
    "$$y = x^2 * sin(5 * \\pi * x)^6$$\n"
   ]
  },
  {
   "cell_type": "markdown",
   "id": "c70cc274-ffe6-4a4d-8952-1554c993ea7f",
   "metadata": {},
   "source": [
    "Where x is a real value in the range $[0,1]$."
   ]
  },
  {
   "cell_type": "markdown",
   "id": "8765d407-eede-4336-aaca-4c6f44707075",
   "metadata": {},
   "source": [
    "We will augment this function by adding Gaussian noise with a mean of zero and a standard deviation of 0.1. This will mean that the real evaluation will have a positive or negative random value added to it, making the function challenging to optimize."
   ]
  },
  {
   "cell_type": "markdown",
   "id": "4c0142e4-a811-4f44-9ab4-419d00eed4b9",
   "metadata": {},
   "source": [
    "The objective() function below implements this."
   ]
  },
  {
   "cell_type": "code",
   "execution_count": 2,
   "id": "3d5eab41-4369-4d6d-a92d-0899864dae95",
   "metadata": {},
   "outputs": [],
   "source": [
    "# objective function\n",
    "def objective(x, noise=0.1):\n",
    "    noise = np.random.normal(loc=0, scale=noise)\n",
    "    return (x**2 * math.sin(5 * math.pi * x)**6.0) + noise"
   ]
  },
  {
   "cell_type": "markdown",
   "id": "32a58b2c-9263-4896-aef4-386fecda60f7",
   "metadata": {},
   "source": [
    "We can test this function by first defining a grid-based sample of inputs from 0 to 1 with a step size of 0.01 across the domain."
   ]
  },
  {
   "cell_type": "code",
   "execution_count": 3,
   "id": "22a02fff-0835-4c0d-a2a7-4d62f08e5332",
   "metadata": {},
   "outputs": [],
   "source": [
    "# grid-based sample of the domain [0,1]\n",
    "X = np.arange(0, 1, 0.01)"
   ]
  },
  {
   "cell_type": "markdown",
   "id": "33de4b58-9ab9-4700-9707-ac331022a13f",
   "metadata": {},
   "source": [
    "We can then evaluate these samples using the target function without any noise to see what the real objective function looks like."
   ]
  },
  {
   "cell_type": "code",
   "execution_count": 4,
   "id": "8ae2af58-ad1f-4233-8d36-5c85043f5fa8",
   "metadata": {},
   "outputs": [],
   "source": [
    "# sample the domain without noise\n",
    "y = [objective(x, 0) for x in X]"
   ]
  },
  {
   "cell_type": "markdown",
   "id": "1d7e5957-829b-4d80-b86b-affe11ffd8b8",
   "metadata": {},
   "source": [
    "We can then evaluate these same points with noise to see what the objective function will look like when we are optimizing it."
   ]
  },
  {
   "cell_type": "code",
   "execution_count": 5,
   "id": "9f43da09-0a65-4c0a-804d-d9a025b5fb08",
   "metadata": {},
   "outputs": [],
   "source": [
    "# sample the domain with noise\n",
    "ynoise = [objective(x) for x in X]"
   ]
  },
  {
   "cell_type": "markdown",
   "id": "7133ca69-440e-49ad-bddb-d418741c54a0",
   "metadata": {},
   "source": [
    "We can look at all of the non-noisy objective function values to find the input that resulted in the best score and report it. This will be the optima, in this case, maxima, as we are maximizing the output of the objective function.\n",
    "\n",
    "We would not know this in practice, but for out test problem, it is good to know the real best input and output of the function to see if the Bayesian Optimization algorithm can locate it."
   ]
  },
  {
   "cell_type": "code",
   "execution_count": 6,
   "id": "76192819-0300-42fa-b9f9-529da7245998",
   "metadata": {},
   "outputs": [
    {
     "name": "stdout",
     "output_type": "stream",
     "text": [
      "Optima: x=0.900, y=0.810\n"
     ]
    }
   ],
   "source": [
    "# find best result\n",
    "ix = np.argmax(y)\n",
    "print('Optima: x=%.3f, y=%.3f' % (X[ix], y[ix]))"
   ]
  },
  {
   "cell_type": "markdown",
   "id": "0ad45d16-adb7-4e19-bce9-66a661231efe",
   "metadata": {},
   "source": [
    "Finally, we can create a plot, first showing the noisy evaluation as a scatter plot with input on the x-axis and score on the y-axis, then a line plot of the scores without any noise."
   ]
  },
  {
   "cell_type": "code",
   "execution_count": 7,
   "id": "5eff662f-3b76-4b5b-b363-632e26d26c36",
   "metadata": {},
   "outputs": [
    {
     "data": {
      "image/png": "[encoded data removed]",
      "text/plain": [
       "<Figure size 640x480 with 1 Axes>"
      ]
     },
     "metadata": {},
     "output_type": "display_data"
    }
   ],
   "source": [
    "# plot the points with noise\n",
    "pyplot.scatter(X, ynoise)\n",
    "# plot the points without noise\n",
    "pyplot.plot(X, y)\n",
    "# show the plot\n",
    "pyplot.show()"
   ]
  },
  {
   "cell_type": "markdown",
   "id": "83c531a3-aa39-4a10-ab56-3483e188ef4a",
   "metadata": {},
   "source": [
    "### Surrogate Function"
   ]
  },
  {
   "cell_type": "markdown",
   "id": "2d48680f-8a7b-4874-b719-071291fc1c5b",
   "metadata": {},
   "source": [
    "The surrogate function is a technique used to best approximate the mapping of input examples to an output score.\n",
    "\n",
    "Probabilistically, it summarizes the conditional probability of an objective function $(f)$, given the available data $(D)$ or $P(f|D)$.\n",
    "\n",
    "A number of techniques can be used for this, although the most popular is to treat the problem as a regression predictive modeling problem with the data representing the input and the score representing the output to the model. This is often best modeled using a random forest or a Gaussian Process.\n",
    "\n",
    "A Gaussian Process, or GP, is a model that constructs a joint probability distribution over the variables, assuming a multivariate Gaussian distribution. As such, it is capable of efficient and effective summarization of a large number of functions and smooth transition as more observations are made available to the model.\n",
    "\n",
    "This smooth structure and smooth transition to new functions based on data are desirable properties as we sample the domain, and the multivariate Gaussian basis to the model means that an estimate from the model will be a mean of a distribution with a standard deviation; that will be helpful later in the acquisition function.\n",
    "\n",
    "As such, using a GP regression model is often preferred.\n",
    "\n",
    "We can fit a GP regression model using the GaussianProcessRegressor scikit-learn implementation from a sample of inputs $(X)$ and noisy evaluations from the objective function $(y)$.\n",
    "\n",
    "First, the model must be defined. An important aspect in defining the GP model is the kernel. This controls the shape of the function at specific points based on distance measures between actual data observations. Many different kernel functions can be used, and some may offer better performance for specific datasets.\n",
    "\n",
    "By default, a Radial Basis Function, or RBF, is used that can work well.\n",
    "\n"
   ]
  },
  {
   "cell_type": "code",
   "execution_count": 28,
   "id": "c150420c-887c-4a5c-b6c9-c2d76858fad9",
   "metadata": {},
   "outputs": [],
   "source": [
    "from sklearn.gaussian_process import GaussianProcessRegressor\n",
    "from scipy.stats import norm"
   ]
  },
  {
   "cell_type": "markdown",
   "id": "99c7f0b6-4cf2-4844-9627-1b09a6689bf7",
   "metadata": {},
   "source": [
    "Once defined, the model can be fit on the training dataset directly by calling the fit() function.\n",
    "\n",
    "The defined model can be fit again at any time with updated data concatenated to the existing data by another call to fit()."
   ]
  },
  {
   "cell_type": "markdown",
   "id": "23b62bf5-49ba-4dc7-a9b8-653b8f558a3b",
   "metadata": {},
   "source": [
    "The model will estimate the cost for one or more samples provided to it.\n",
    "\n",
    "The model is used by calling the predict() function. The result for a given sample will be a mean of the distribution at that point. We can also get the standard deviation of the distribution at that point in the function by specifying the argument return_std=True; for example:"
   ]
  },
  {
   "cell_type": "markdown",
   "id": "aa67deb5-4450-4707-a431-55fc6bb52bea",
   "metadata": {},
   "source": [
    "This function can result in warnings if the distribution is thin at a given point we are interested in sampling.\n",
    "\n",
    "Therefore, we can silence all of the warnings when making a prediction. The surrogate() function below takes the fit model and one or more samples and returns the mean and standard deviation estimated costs whilst not printing any warnings."
   ]
  },
  {
   "cell_type": "code",
   "execution_count": 29,
   "id": "612ac451-0947-4f5e-a8bb-fce2c2b350fc",
   "metadata": {},
   "outputs": [],
   "source": [
    "from warnings import catch_warnings\n",
    "from warnings import simplefilter\n",
    "# surrogate or approximation for the objective function\n",
    "def surrogate(model, X):\n",
    "\t# catch any warning generated when making a prediction\n",
    "\twith catch_warnings():\n",
    "\t\t# ignore generated warnings\n",
    "\t\tsimplefilter(\"ignore\")\n",
    "\t\treturn model.predict(X, return_std=True)"
   ]
  },
  {
   "cell_type": "markdown",
   "id": "4feb89f4-4ae8-439c-bef7-6f1bfb3c8dc3",
   "metadata": {},
   "source": [
    "We can call this function any time to estimate the cost of one or more samples, such as when we want to optimize the acquisition function in the next section.\n",
    "\n",
    "For now, it is interesting to see what the surrogate function looks like across the domain after it is trained on a random sample.\n",
    "\n",
    "We can achieve this by first fitting the GP model on a random sample of 100 data points and their real objective function values with noise. We can then plot a scatter plot of these points. Next, we can perform a grid-based sample across the input domain and estimate the cost at each point using the surrogate function and plot the result as a line.\n",
    "\n",
    "We would expect the surrogate function to have a crude approximation of the true non-noisy objective function.\n",
    "\n",
    "The plot() function below creates this plot, given the random data sample of the real noisy objective function and the fit model."
   ]
  },
  {
   "cell_type": "code",
   "execution_count": 30,
   "id": "0c062324-0703-43a8-8d05-f2e192b21259",
   "metadata": {},
   "outputs": [],
   "source": [
    "# plot real observations vs surrogate function\n",
    "def plot(X, y, model):\n",
    "\t# scatter plot of inputs and real objective function\n",
    "\tpyplot.scatter(X, y)\n",
    "\t# line plot of surrogate function across domain\n",
    "\tXsamples = np.asarray(np.arange(0, 1, 0.001))\n",
    "\tXsamples = Xsamples.reshape(len(Xsamples), 1)\n",
    "\tysamples, _ = surrogate(model, Xsamples)\n",
    "\tpyplot.plot(Xsamples, ysamples)\n",
    "\t# show the plot\n",
    "\tpyplot.show()"
   ]
  },
  {
   "cell_type": "code",
   "execution_count": 31,
   "id": "21839df9-b169-48f0-baa7-0f3a0f39451f",
   "metadata": {},
   "outputs": [
    {
     "data": {
      "image/png": "[encoded data removed]",
      "text/plain": [
       "<Figure size 640x480 with 1 Axes>"
      ]
     },
     "metadata": {},
     "output_type": "display_data"
    }
   ],
   "source": [
    "# sample the domain sparsely with noise\n",
    "X = np.random.random(100)\n",
    "y = np.asarray([objective(x) for x in X])\n",
    "# reshape into rows and cols\n",
    "X = X.reshape(len(X), 1)\n",
    "y = y.reshape(len(y), 1)\n",
    "# define the model\n",
    "model = GaussianProcessRegressor()\n",
    "# fit the model\n",
    "model.fit(X, y)\n",
    "# plot the surrogate function\n",
    "plot(X, y, model)"
   ]
  },
  {
   "cell_type": "markdown",
   "id": "134bd564-2ca3-4690-8d08-3a118394f6f3",
   "metadata": {},
   "source": [
    "Running the example first draws the random sample, evaluates it with the noisy objective function, then fits the GP model.\n",
    "\n",
    "The data sample and a grid of points across the domain evaluated via the surrogate function are then plotted as dots and a line respectively.\n",
    "\n",
    "Note: Your results may vary given the stochastic nature of the algorithm or evaluation procedure, or differences in numerical precision. Consider running the example a few times and compare the average outcome.\n",
    "\n",
    "In this case, as we expected, the plot resembles a crude version of the underlying non-noisy objective function, importantly with a peak around 0.9 where we know the true maxima is located."
   ]
  },
  {
   "cell_type": "markdown",
   "id": "3409665a-0c05-4f4a-a2f4-a43f54d97707",
   "metadata": {},
   "source": [
    "### Acquisition Function\n",
    "The surrogate function is used to test a range of candidate samples in the domain.\n",
    "\n",
    "From these results, one or more candidates can be selected and evaluated with the real, and in normal practice, computationally expensive cost function.\n",
    "\n",
    "This involves two pieces: the search strategy used to navigate the domain in response to the surrogate function and the acquisition function that is used to interpret and score the response from the surrogate function.\n",
    "\n",
    "A simple search strategy, such as a random sample or grid-based sample, can be used, although it is more common to use a local search strategy, such as the popular BFGS algorithm. In this case, we will use a random search or random sample of the domain in order to keep the example simple.\n",
    "\n",
    "This involves first drawing a random sample of candidate samples from the domain, evaluating them with the acquisition function, then maximizing the acquisition function or choosing the candidate sample that gives the best score. The opt_acquisition() function below implements this."
   ]
  },
  {
   "cell_type": "code",
   "execution_count": 32,
   "id": "f61bc899-b64c-418c-b0ad-da9c56b128bf",
   "metadata": {},
   "outputs": [],
   "source": [
    "# optimize the acquisition function\n",
    "def opt_acquisition(X, y, model):\n",
    "\t# random search, generate random samples\n",
    "\tXsamples = np.random.random(100)\n",
    "\tXsamples = Xsamples.reshape(len(Xsamples), 1)\n",
    "\t# calculate the acquisition function for each sample\n",
    "\tscores = acquisition(X, Xsamples, model)\n",
    "\t# locate the index of the largest scores\n",
    "\tix = np.argmax(scores)\n",
    "\treturn Xsamples[ix, 0]"
   ]
  },
  {
   "cell_type": "markdown",
   "id": "0bcde71b-62cd-4517-bf22-b34c8cb8c587",
   "metadata": {},
   "source": [
    "The acquisition function is responsible for scoring or estimating the likelihood that a given candidate sample (input) is worth evaluating with the real objective function.\n",
    "\n",
    "We could just use the surrogate score directly. Alternately, given that we have chosen a Gaussian Process model as the surrogate function, we can use the probabilistic information from this model in the acquisition function to calculate the probability that a given sample is worth evaluating.\n",
    "\n",
    "There are many different types of probabilistic acquisition functions that can be used, each providing a different trade-off for how exploitative (greedy) and explorative they are.\n",
    "\n",
    "Three common examples include:\n",
    "\n",
    "Probability of Improvement (PI).\n",
    "Expected Improvement (EI).\n",
    "Lower Confidence Bound (LCB).\n",
    "The Probability of Improvement method is the simplest, whereas the Expected Improvement method is the most commonly used.\n",
    "\n",
    "In this case, we will use the simpler Probability of Improvement method, which is calculated as the normal cumulative probability of the normalized expected improvement, calculated as follows:\n",
    "\n",
    "$$PI = cdf\\left(\\frac{\\mu – best_\\mu}{stdev}\\right)$$\n",
    "Where PI is the probability of improvement, cdf() is the normal cumulative distribution function, mu is the mean of the surrogate function for a given sample x, stdev is the standard deviation of the surrogate function for a given sample x, and best_mu is the mean of the surrogate function for the best sample found so far.\n",
    "\n",
    "We can add a very small number to the standard deviation to avoid a divide by zero error.\n",
    "\n",
    "The acquisition() function below implements this given the current training dataset of input samples, an array of new candidate samples, and the fit GP model.\n",
    "\n"
   ]
  },
  {
   "cell_type": "code",
   "execution_count": 35,
   "id": "5f120772-178d-4f3a-809d-fafe851adc32",
   "metadata": {},
   "outputs": [],
   "source": [
    "# probability of improvement acquisition function\n",
    "def acquisition(X, Xsamples, model):\n",
    "    # calculate the best surrogate score found so far\n",
    "    yhat, _ = surrogate(model, X)\n",
    "    best = max(yhat)\n",
    "    # calculate mean and stdev via surrogate function\n",
    "    mu, std = surrogate(model, Xsamples)\n",
    "    mu = mu[0]\n",
    "    # calculate the probability of improvement\n",
    "    probs = norm.cdf((mu - best) / (std+1E-9))\n",
    "    return probs"
   ]
  },
  {
   "cell_type": "markdown",
   "id": "89459104-2df2-419c-89dc-0d53b31bc5ea",
   "metadata": {},
   "source": [
    "### Complete Bayesian Optimization Algorithm\n",
    "We can tie all of this together into the Bayesian Optimization algorithm.\n",
    "\n",
    "The main algorithm involves cycles of selecting candidate samples, evaluating them with the objective function, then updating the GP model."
   ]
  },
  {
   "cell_type": "code",
   "execution_count": 36,
   "id": "e7a6719d-7ce0-4d8c-b192-e178e2a3ef18",
   "metadata": {},
   "outputs": [
    {
     "name": "stdout",
     "output_type": "stream",
     "text": [
      ">x=0.867, f()=0.409685, actual=0.324\n",
      ">x=0.537, f()=0.078321, actual=0.430\n",
      ">x=0.775, f()=0.213021, actual=-0.148\n",
      ">x=0.327, f()=0.042126, actual=0.116\n",
      ">x=0.159, f()=0.016356, actual=-0.087\n",
      ">x=0.551, f()=0.095848, actual=0.075\n",
      ">x=0.086, f()=0.009375, actual=0.150\n",
      ">x=0.436, f()=0.088535, actual=-0.087\n",
      ">x=0.570, f()=0.088965, actual=0.141\n",
      ">x=0.150, f()=0.019856, actual=0.008\n",
      ">x=0.932, f()=0.384418, actual=0.324\n",
      ">x=0.231, f()=0.019849, actual=0.028\n",
      ">x=0.598, f()=0.086385, actual=0.050\n",
      ">x=0.749, f()=0.149954, actual=0.025\n",
      ">x=0.118, f()=0.020449, actual=-0.093\n",
      ">x=0.979, f()=0.069796, actual=0.124\n",
      ">x=0.539, f()=0.092772, actual=-0.009\n",
      ">x=0.352, f()=0.048283, actual=0.066\n",
      ">x=0.492, f()=0.089502, actual=0.322\n",
      ">x=0.050, f()=0.032407, actual=0.018\n",
      ">x=0.406, f()=0.077116, actual=-0.035\n",
      ">x=0.198, f()=0.014165, actual=0.076\n",
      ">x=0.973, f()=0.140369, actual=0.049\n",
      ">x=0.982, f()=0.039765, actual=0.092\n",
      ">x=0.581, f()=0.088017, actual=-0.012\n",
      ">x=0.138, f()=0.013041, actual=-0.005\n",
      ">x=0.040, f()=0.037950, actual=-0.052\n",
      ">x=0.777, f()=0.189782, actual=-0.018\n",
      ">x=0.368, f()=0.056409, actual=-0.134\n",
      ">x=0.495, f()=0.089253, actual=0.137\n",
      ">x=0.172, f()=0.015182, actual=-0.115\n",
      ">x=0.988, f()=-0.033547, actual=-0.044\n",
      ">x=0.743, f()=0.124447, actual=0.176\n",
      ">x=0.635, f()=0.076032, actual=-0.010\n",
      ">x=0.799, f()=0.226668, actual=-0.092\n",
      ">x=0.794, f()=0.199669, actual=-0.238\n",
      ">x=0.511, f()=0.097130, actual=0.275\n",
      ">x=0.539, f()=0.101608, actual=0.017\n",
      ">x=0.528, f()=0.100245, actual=0.128\n",
      ">x=0.427, f()=0.078590, actual=0.096\n",
      ">x=0.270, f()=0.016850, actual=0.027\n",
      ">x=0.490, f()=0.099972, actual=0.262\n",
      ">x=0.521, f()=0.106614, actual=0.187\n",
      ">x=0.377, f()=0.059922, actual=0.053\n",
      ">x=0.688, f()=0.061595, actual=0.482\n",
      ">x=0.498, f()=0.107976, actual=0.326\n",
      ">x=0.349, f()=0.044569, actual=0.222\n",
      ">x=0.794, f()=0.187627, actual=0.061\n",
      ">x=0.067, f()=0.011520, actual=0.266\n",
      ">x=0.981, f()=0.050154, actual=0.027\n",
      ">x=0.656, f()=0.075542, actual=-0.093\n",
      ">x=0.821, f()=0.242151, actual=-0.203\n",
      ">x=0.422, f()=0.091759, actual=0.011\n",
      ">x=0.871, f()=0.343377, actual=0.273\n",
      ">x=0.297, f()=0.023581, actual=0.242\n",
      ">x=0.944, f()=0.326065, actual=0.210\n",
      ">x=0.528, f()=0.117335, actual=0.039\n",
      ">x=0.653, f()=0.069566, actual=0.065\n",
      ">x=0.164, f()=0.018278, actual=-0.020\n",
      ">x=0.319, f()=0.039425, actual=0.048\n",
      ">x=0.418, f()=0.089002, actual=0.104\n",
      ">x=0.333, f()=0.046252, actual=0.024\n",
      ">x=0.442, f()=0.100404, actual=0.043\n",
      ">x=0.697, f()=0.064206, actual=0.459\n",
      ">x=0.234, f()=0.021027, actual=-0.014\n",
      ">x=0.947, f()=0.297393, actual=0.124\n",
      ">x=0.127, f()=0.015392, actual=-0.072\n",
      ">x=0.307, f()=0.034383, actual=0.127\n",
      ">x=0.622, f()=0.092021, actual=0.004\n",
      ">x=0.270, f()=0.027285, actual=0.063\n",
      ">x=0.982, f()=0.036767, actual=-0.137\n",
      ">x=0.788, f()=0.160969, actual=-0.023\n",
      ">x=0.948, f()=0.282298, actual=0.007\n",
      ">x=0.878, f()=0.323949, actual=0.486\n",
      ">x=0.106, f()=0.010232, actual=0.029\n",
      ">x=0.914, f()=0.353314, actual=0.781\n",
      ">x=0.655, f()=0.073341, actual=0.123\n",
      ">x=0.652, f()=0.075732, actual=0.193\n",
      ">x=0.024, f()=0.064032, actual=0.007\n",
      ">x=0.148, f()=0.014598, actual=-0.039\n",
      ">x=0.674, f()=0.074250, actual=0.336\n",
      ">x=0.932, f()=0.347428, actual=0.507\n",
      ">x=0.100, f()=0.008553, actual=-0.109\n",
      ">x=0.297, f()=0.033513, actual=0.180\n",
      ">x=0.210, f()=0.021203, actual=-0.020\n",
      ">x=0.048, f()=0.020224, actual=0.041\n",
      ">x=0.428, f()=0.092833, actual=-0.248\n",
      ">x=0.228, f()=0.023808, actual=0.131\n",
      ">x=0.172, f()=0.018115, actual=0.052\n",
      ">x=0.065, f()=0.006129, actual=-0.023\n",
      ">x=0.795, f()=0.181663, actual=0.057\n",
      ">x=0.581, f()=0.108438, actual=-0.245\n",
      ">x=0.179, f()=0.020128, actual=-0.163\n",
      ">x=0.168, f()=0.011672, actual=-0.100\n",
      ">x=0.091, f()=-0.007243, actual=0.025\n",
      ">x=0.215, f()=0.019094, actual=-0.128\n",
      ">x=0.315, f()=0.036511, actual=0.065\n",
      ">x=0.962, f()=0.214953, actual=0.069\n",
      ">x=0.065, f()=0.003762, actual=0.075\n",
      ">x=0.971, f()=0.132458, actual=0.011\n"
     ]
    }
   ],
   "source": [
    "# perform the optimization process\n",
    "for i in range(100):\n",
    "    # select the next point to sample\n",
    "    x = opt_acquisition(X, y, model)\n",
    "    # sample the point\n",
    "    actual = objective(x)\n",
    "    # summarize the finding for our own reporting\n",
    "    est, _ = surrogate(model, [[x]])\n",
    "    print('>x=%.3f, f()=%3f, actual=%.3f' % (x, est, actual))\n",
    "    # add the data to the dataset\n",
    "    X = vstack((X, [[x]]))\n",
    "    y = vstack((y, [[actual]]))\n",
    "    # update the model\n",
    "    model.fit(X, y)"
   ]
  },
  {
   "cell_type": "code",
   "execution_count": 37,
   "id": "52e91608-8d7e-4331-8e02-d7990ed13990",
   "metadata": {},
   "outputs": [
    {
     "data": {
      "image/png": "[encoded data removed]",
      "text/plain": [
       "<Figure size 640x480 with 1 Axes>"
      ]
     },
     "metadata": {},
     "output_type": "display_data"
    },
    {
     "name": "stdout",
     "output_type": "stream",
     "text": [
      ">x=0.371, f()=0.048242, actual=0.118\n",
      ">x=0.692, f()=0.094449, actual=0.383\n",
      ">x=0.250, f()=0.044871, actual=-0.148\n",
      ">x=0.744, f()=0.127684, actual=0.188\n",
      ">x=0.563, f()=0.114644, actual=-0.024\n",
      ">x=0.314, f()=0.033376, actual=0.029\n",
      ">x=0.232, f()=0.037701, actual=0.129\n",
      ">x=0.787, f()=0.175522, actual=-0.108\n",
      ">x=0.395, f()=0.052938, actual=-0.102\n",
      ">x=0.214, f()=0.044185, actual=0.076\n",
      ">x=0.703, f()=0.102439, actual=0.385\n",
      ">x=0.958, f()=0.308438, actual=0.071\n",
      ">x=0.091, f()=0.013448, actual=-0.142\n",
      ">x=0.919, f()=0.344996, actual=0.845\n",
      ">x=0.598, f()=0.114033, actual=-0.059\n",
      ">x=0.435, f()=0.060990, actual=-0.060\n",
      ">x=0.181, f()=0.043449, actual=0.094\n",
      ">x=0.008, f()=-0.019307, actual=-0.140\n",
      ">x=0.193, f()=0.048859, actual=-0.025\n",
      ">x=0.834, f()=0.257072, actual=0.046\n",
      ">x=0.883, f()=0.342671, actual=0.558\n",
      ">x=0.953, f()=0.345582, actual=0.034\n",
      ">x=0.793, f()=0.183636, actual=0.048\n",
      ">x=0.033, f()=-0.046321, actual=-0.003\n",
      ">x=0.434, f()=0.057473, actual=-0.031\n",
      ">x=0.351, f()=0.027249, actual=0.074\n",
      ">x=0.275, f()=0.033243, actual=-0.156\n",
      ">x=0.988, f()=0.114384, actual=-0.136\n",
      ">x=0.449, f()=0.061781, actual=0.078\n",
      ">x=0.515, f()=0.092275, actual=0.321\n",
      ">x=0.790, f()=0.172145, actual=-0.071\n",
      ">x=0.796, f()=0.170397, actual=0.052\n",
      ">x=0.269, f()=0.022957, actual=0.027\n",
      ">x=0.066, f()=-0.014396, actual=0.100\n",
      ">x=0.356, f()=0.024310, actual=-0.187\n",
      ">x=0.548, f()=0.112753, actual=0.018\n",
      ">x=0.678, f()=0.093626, actual=0.214\n",
      ">x=0.751, f()=0.115687, actual=-0.116\n",
      ">x=0.142, f()=0.045163, actual=0.119\n",
      ">x=0.079, f()=0.014975, actual=0.061\n",
      ">x=0.677, f()=0.091486, actual=0.115\n",
      ">x=0.279, f()=0.012733, actual=0.068\n",
      ">x=0.154, f()=0.053595, actual=-0.039\n",
      ">x=0.463, f()=0.075156, actual=0.071\n",
      ">x=0.777, f()=0.133252, actual=0.080\n",
      ">x=0.986, f()=0.099448, actual=-0.055\n",
      ">x=0.317, f()=0.009317, actual=0.211\n",
      ">x=0.699, f()=0.087679, actual=0.591\n",
      ">x=0.237, f()=0.034285, actual=-0.265\n",
      ">x=0.040, f()=-0.024413, actual=-0.131\n",
      ">x=0.156, f()=0.041584, actual=0.036\n",
      ">x=0.603, f()=0.120617, actual=0.014\n",
      ">x=0.329, f()=0.010322, actual=-0.112\n",
      ">x=0.262, f()=0.013311, actual=-0.015\n",
      ">x=0.099, f()=0.021685, actual=0.070\n",
      ">x=0.766, f()=0.132002, actual=-0.051\n",
      ">x=0.860, f()=0.286505, actual=0.213\n",
      ">x=0.023, f()=-0.046084, actual=-0.081\n",
      ">x=0.454, f()=0.068771, actual=-0.050\n",
      ">x=0.628, f()=0.111741, actual=0.020\n",
      ">x=0.816, f()=0.195899, actual=0.003\n",
      ">x=0.479, f()=0.081695, actual=0.431\n",
      ">x=0.743, f()=0.100014, actual=0.072\n",
      ">x=0.683, f()=0.093849, actual=0.291\n",
      ">x=0.923, f()=0.356423, actual=0.479\n",
      ">x=0.220, f()=0.026736, actual=0.246\n",
      ">x=0.371, f()=0.019733, actual=0.058\n",
      ">x=0.032, f()=-0.041747, actual=-0.053\n",
      ">x=0.530, f()=0.119669, actual=0.141\n",
      ">x=0.271, f()=0.014754, actual=0.125\n",
      ">x=0.261, f()=0.021358, actual=0.082\n",
      ">x=0.612, f()=0.122146, actual=0.001\n",
      ">x=0.466, f()=0.083179, actual=-0.047\n",
      ">x=0.362, f()=0.018629, actual=-0.035\n",
      ">x=0.319, f()=0.010462, actual=-0.061\n",
      ">x=0.701, f()=0.094598, actual=0.467\n",
      ">x=0.156, f()=0.052336, actual=-0.115\n",
      ">x=0.871, f()=0.304767, actual=0.445\n",
      ">x=0.792, f()=0.160908, actual=-0.107\n",
      ">x=0.227, f()=0.032473, actual=-0.031\n",
      ">x=0.138, f()=0.040792, actual=0.143\n",
      ">x=0.464, f()=0.077215, actual=0.163\n",
      ">x=0.831, f()=0.220449, actual=0.121\n",
      ">x=0.860, f()=0.280142, actual=0.139\n",
      ">x=0.298, f()=0.007574, actual=0.010\n",
      ">x=0.944, f()=0.334066, actual=0.156\n",
      ">x=0.668, f()=0.108246, actual=0.220\n",
      ">x=0.271, f()=0.014973, actual=-0.072\n",
      ">x=0.963, f()=0.250515, actual=0.186\n",
      ">x=0.183, f()=0.045154, actual=-0.040\n",
      ">x=0.843, f()=0.234781, actual=-0.169\n",
      ">x=0.226, f()=0.028982, actual=-0.087\n",
      ">x=0.644, f()=0.120136, actual=0.048\n",
      ">x=0.601, f()=0.130545, actual=-0.102\n",
      ">x=0.549, f()=0.122398, actual=-0.064\n",
      ">x=0.657, f()=0.104923, actual=0.026\n",
      ">x=0.989, f()=0.050064, actual=-0.073\n",
      ">x=0.380, f()=0.019857, actual=-0.083\n",
      ">x=0.965, f()=0.227791, actual=-0.022\n",
      ">x=0.044, f()=-0.030103, actual=0.009\n"
     ]
    },
    {
     "data": {
      "image/png": "[encoded data removed]",
      "text/plain": [
       "<Figure size 640x480 with 1 Axes>"
      ]
     },
     "metadata": {},
     "output_type": "display_data"
    },
    {
     "name": "stdout",
     "output_type": "stream",
     "text": [
      "Best Result: x=0.909, y=0.964\n"
     ]
    }
   ],
   "source": [
    "# example of bayesian optimization for a 1d function from scratch\n",
    "from math import sin\n",
    "from math import pi\n",
    "from numpy import arange\n",
    "from numpy import vstack\n",
    "from numpy import argmax\n",
    "from numpy import asarray\n",
    "from numpy.random import normal\n",
    "from numpy.random import random\n",
    "from scipy.stats import norm\n",
    "from sklearn.gaussian_process import GaussianProcessRegressor\n",
    "from warnings import catch_warnings\n",
    "from warnings import simplefilter\n",
    "from matplotlib import pyplot\n",
    "\n",
    "# objective function\n",
    "def objective(x, noise=0.1):\n",
    "    noise = normal(loc=0, scale=noise)\n",
    "    return (x**2 * sin(5 * pi * x)**6.0) + noise\n",
    "\n",
    "# surrogate or approximation for the objective function\n",
    "def surrogate(model, X):\n",
    "    # catch any warning generated when making a prediction\n",
    "    with catch_warnings():\n",
    "        # ignore generated warnings\n",
    "        simplefilter(\"ignore\")\n",
    "        return model.predict(X, return_std=True)\n",
    "\n",
    "# probability of improvement acquisition function\n",
    "def acquisition(X, Xsamples, model):\n",
    "    # calculate the best surrogate score found so far\n",
    "    yhat, _ = surrogate(model, X)\n",
    "    best = max(yhat)\n",
    "    # calculate mean and stdev via surrogate function\n",
    "    mu, std = surrogate(model, Xsamples)\n",
    "    mu = mu[0]\n",
    "    # calculate the probability of improvement\n",
    "    probs = norm.cdf((mu - best) / (std+1E-9))\n",
    "    return probs\n",
    "\n",
    "# optimize the acquisition function\n",
    "def opt_acquisition(X, y, model):\n",
    "    # random search, generate random samples\n",
    "    Xsamples = random(100)\n",
    "    Xsamples = Xsamples.reshape(len(Xsamples), 1)\n",
    "    # calculate the acquisition function for each sample\n",
    "    scores = acquisition(X, Xsamples, model)\n",
    "    # locate the index of the largest scores\n",
    "    ix = argmax(scores)\n",
    "    return Xsamples[ix, 0]\n",
    "\n",
    "# plot real observations vs surrogate function\n",
    "def plot(X, y, model):\n",
    "    # scatter plot of inputs and real objective function\n",
    "    pyplot.scatter(X, y)\n",
    "    # line plot of surrogate function across domain\n",
    "    Xsamples = asarray(arange(0, 1, 0.001))\n",
    "    Xsamples = Xsamples.reshape(len(Xsamples), 1)\n",
    "    ysamples, _ = surrogate(model, Xsamples)\n",
    "    pyplot.plot(Xsamples, ysamples)\n",
    "    # show the plot\n",
    "    pyplot.show()\n",
    "\n",
    "# sample the domain sparsely with noise\n",
    "X = random(100)\n",
    "y = asarray([objective(x) for x in X])\n",
    "# reshape into rows and cols\n",
    "X = X.reshape(len(X), 1)\n",
    "y = y.reshape(len(y), 1)\n",
    "# define the model\n",
    "model = GaussianProcessRegressor()\n",
    "# fit the model\n",
    "model.fit(X, y)\n",
    "# plot before hand\n",
    "plot(X, y, model)\n",
    "# perform the optimization process\n",
    "for i in range(100):\n",
    "    # select the next point to sample\n",
    "    x = opt_acquisition(X, y, model)\n",
    "    # sample the point\n",
    "    actual = objective(x)\n",
    "    # summarize the finding\n",
    "    est, _ = surrogate(model, [[x]])\n",
    "    print('>x=%.3f, f()=%3f, actual=%.3f' % (x, est, actual))\n",
    "    # add the data to the dataset\n",
    "    X = vstack((X, [[x]]))\n",
    "    y = vstack((y, [[actual]]))\n",
    "    # update the model\n",
    "    model.fit(X, y)\n",
    "\n",
    "# plot all samples and the final surrogate function\n",
    "plot(X, y, model)\n",
    "# best result\n",
    "ix = argmax(y)\n",
    "print('Best Result: x=%.3f, y=%.3f' % (X[ix], y[ix]))"
   ]
  },
  {
   "cell_type": "markdown",
   "id": "8d75e1b7-1229-45c4-88a1-58e7ce2cfc37",
   "metadata": {},
   "source": [
    "## Hyperparameter Tuning With Bayesian Optimization\n",
    "\n",
    "It can be a useful exercise to implement Bayesian Optimization to learn how it works.\n",
    "\n",
    "In practice, when using Bayesian Optimization on a project, it is a good idea to use a standard implementation provided in an open-source library. This is to both avoid bugs and to leverage a wider range of configuration options and speed improvements.\n",
    "\n",
    "Two popular libraries for Bayesian Optimization include Scikit-Optimize and HyperOpt. In machine learning, these libraries are often used to tune the hyperparameters of algorithms.\n",
    "\n",
    "Hyperparameter tuning is a good fit for Bayesian Optimization because the evaluation function is computationally expensive (e.g. training models for each set of hyperparameters) and noisy (e.g. noise in training data and stochastic learning algorithms).\n",
    "\n",
    "In this section, we will take a brief look at how to use the Scikit-Optimize library to optimize the hyperparameters of a k-nearest neighbor classifier for a simple test classification problem. This will provide a useful template that you can use on your own projects.\n",
    "\n",
    "The Scikit-Optimize project is designed to provide access to Bayesian Optimization for applications that use SciPy and NumPy, or applications that use scikit-learn machine learning algorithms."
   ]
  },
  {
   "cell_type": "code",
   "execution_count": 39,
   "id": "9ababea0-a977-40fd-8ae2-dc4ee0833829",
   "metadata": {},
   "outputs": [
    {
     "name": "stdout",
     "output_type": "stream",
     "text": [
      "Looking in indexes: https://pypi.tuna.tsinghua.edu.cn/simple\n",
      "Collecting scikit-optimize\n",
      "  Downloading https://pypi.tuna.tsinghua.edu.cn/packages/55/f6/2d9efbd86126c40fe0f8a47611a9e2480b493b6f0ce9751bdf0240cfa091/scikit_optimize-0.9.0-py2.py3-none-any.whl (100 kB)\n",
      "\u001b[2K     \u001b[38;2;114;156;31m━━━━━━━━━━━━━━━━━━━━━━━━━━━━━━━━━━━━━━━\u001b[0m \u001b[32m100.3/100.3 kB\u001b[0m \u001b[31m3.2 MB/s\u001b[0m eta \u001b[36m0:00:00\u001b[0m\n",
      "\u001b[?25hRequirement already satisfied: scipy>=0.19.1 in /Users/junxiaoguo/opt/anaconda3/envs/ml/lib/python3.10/site-packages (from scikit-optimize) (1.10.0)\n",
      "Requirement already satisfied: joblib>=0.11 in /Users/junxiaoguo/opt/anaconda3/envs/ml/lib/python3.10/site-packages (from scikit-optimize) (1.1.1)\n",
      "Requirement already satisfied: numpy>=1.13.3 in /Users/junxiaoguo/opt/anaconda3/envs/ml/lib/python3.10/site-packages (from scikit-optimize) (1.23.5)\n",
      "Collecting pyaml>=16.9\n",
      "  Downloading https://pypi.tuna.tsinghua.edu.cn/packages/35/fd/78a3a11c7b9b11878ebbf4461a09cbc758bdfc1b45168972727f7334b09a/pyaml-21.10.1-py2.py3-none-any.whl (24 kB)\n",
      "Requirement already satisfied: scikit-learn>=0.20.0 in /Users/junxiaoguo/opt/anaconda3/envs/ml/lib/python3.10/site-packages (from scikit-optimize) (1.2.1)\n",
      "Requirement already satisfied: PyYAML in /Users/junxiaoguo/opt/anaconda3/envs/ml/lib/python3.10/site-packages (from pyaml>=16.9->scikit-optimize) (6.0)\n",
      "Requirement already satisfied: threadpoolctl>=2.0.0 in /Users/junxiaoguo/opt/anaconda3/envs/ml/lib/python3.10/site-packages (from scikit-learn>=0.20.0->scikit-optimize) (2.2.0)\n",
      "Installing collected packages: pyaml, scikit-optimize\n",
      "Successfully installed pyaml-21.10.1 scikit-optimize-0.9.0\n"
     ]
    }
   ],
   "source": [
    "!pip install scikit-optimize"
   ]
  },
  {
   "cell_type": "code",
   "execution_count": 40,
   "id": "5bd85ef2-86ae-4c9e-9c56-d943ec8d44b5",
   "metadata": {},
   "outputs": [
    {
     "name": "stderr",
     "output_type": "stream",
     "text": [
      "/Users/junxiaoguo/opt/anaconda3/envs/ml/lib/python3.10/site-packages/skopt/optimizer/optimizer.py:449: UserWarning: The objective has been evaluated at this point before.\n",
      "  warnings.warn(\"The objective has been evaluated \"\n",
      "/Users/junxiaoguo/opt/anaconda3/envs/ml/lib/python3.10/site-packages/skopt/optimizer/optimizer.py:449: UserWarning: The objective has been evaluated at this point before.\n",
      "  warnings.warn(\"The objective has been evaluated \"\n",
      "/Users/junxiaoguo/opt/anaconda3/envs/ml/lib/python3.10/site-packages/skopt/optimizer/optimizer.py:449: UserWarning: The objective has been evaluated at this point before.\n",
      "  warnings.warn(\"The objective has been evaluated \"\n",
      "/Users/junxiaoguo/opt/anaconda3/envs/ml/lib/python3.10/site-packages/skopt/optimizer/optimizer.py:449: UserWarning: The objective has been evaluated at this point before.\n",
      "  warnings.warn(\"The objective has been evaluated \"\n",
      "/Users/junxiaoguo/opt/anaconda3/envs/ml/lib/python3.10/site-packages/skopt/optimizer/optimizer.py:449: UserWarning: The objective has been evaluated at this point before.\n",
      "  warnings.warn(\"The objective has been evaluated \"\n",
      "/Users/junxiaoguo/opt/anaconda3/envs/ml/lib/python3.10/site-packages/skopt/optimizer/optimizer.py:449: UserWarning: The objective has been evaluated at this point before.\n",
      "  warnings.warn(\"The objective has been evaluated \"\n",
      "/Users/junxiaoguo/opt/anaconda3/envs/ml/lib/python3.10/site-packages/skopt/optimizer/optimizer.py:449: UserWarning: The objective has been evaluated at this point before.\n",
      "  warnings.warn(\"The objective has been evaluated \"\n",
      "/Users/junxiaoguo/opt/anaconda3/envs/ml/lib/python3.10/site-packages/skopt/optimizer/optimizer.py:449: UserWarning: The objective has been evaluated at this point before.\n",
      "  warnings.warn(\"The objective has been evaluated \"\n",
      "/Users/junxiaoguo/opt/anaconda3/envs/ml/lib/python3.10/site-packages/skopt/optimizer/optimizer.py:449: UserWarning: The objective has been evaluated at this point before.\n",
      "  warnings.warn(\"The objective has been evaluated \"\n",
      "/Users/junxiaoguo/opt/anaconda3/envs/ml/lib/python3.10/site-packages/skopt/optimizer/optimizer.py:449: UserWarning: The objective has been evaluated at this point before.\n",
      "  warnings.warn(\"The objective has been evaluated \"\n",
      "/Users/junxiaoguo/opt/anaconda3/envs/ml/lib/python3.10/site-packages/skopt/optimizer/optimizer.py:449: UserWarning: The objective has been evaluated at this point before.\n",
      "  warnings.warn(\"The objective has been evaluated \"\n",
      "/Users/junxiaoguo/opt/anaconda3/envs/ml/lib/python3.10/site-packages/skopt/optimizer/optimizer.py:449: UserWarning: The objective has been evaluated at this point before.\n",
      "  warnings.warn(\"The objective has been evaluated \"\n",
      "/Users/junxiaoguo/opt/anaconda3/envs/ml/lib/python3.10/site-packages/skopt/optimizer/optimizer.py:449: UserWarning: The objective has been evaluated at this point before.\n",
      "  warnings.warn(\"The objective has been evaluated \"\n",
      "/Users/junxiaoguo/opt/anaconda3/envs/ml/lib/python3.10/site-packages/skopt/optimizer/optimizer.py:449: UserWarning: The objective has been evaluated at this point before.\n",
      "  warnings.warn(\"The objective has been evaluated \"\n",
      "/Users/junxiaoguo/opt/anaconda3/envs/ml/lib/python3.10/site-packages/skopt/optimizer/optimizer.py:449: UserWarning: The objective has been evaluated at this point before.\n",
      "  warnings.warn(\"The objective has been evaluated \"\n",
      "/Users/junxiaoguo/opt/anaconda3/envs/ml/lib/python3.10/site-packages/skopt/optimizer/optimizer.py:449: UserWarning: The objective has been evaluated at this point before.\n",
      "  warnings.warn(\"The objective has been evaluated \"\n",
      "/Users/junxiaoguo/opt/anaconda3/envs/ml/lib/python3.10/site-packages/skopt/optimizer/optimizer.py:449: UserWarning: The objective has been evaluated at this point before.\n",
      "  warnings.warn(\"The objective has been evaluated \"\n",
      "/Users/junxiaoguo/opt/anaconda3/envs/ml/lib/python3.10/site-packages/skopt/optimizer/optimizer.py:449: UserWarning: The objective has been evaluated at this point before.\n",
      "  warnings.warn(\"The objective has been evaluated \"\n",
      "/Users/junxiaoguo/opt/anaconda3/envs/ml/lib/python3.10/site-packages/skopt/optimizer/optimizer.py:449: UserWarning: The objective has been evaluated at this point before.\n",
      "  warnings.warn(\"The objective has been evaluated \"\n",
      "/Users/junxiaoguo/opt/anaconda3/envs/ml/lib/python3.10/site-packages/skopt/optimizer/optimizer.py:449: UserWarning: The objective has been evaluated at this point before.\n",
      "  warnings.warn(\"The objective has been evaluated \"\n",
      "/Users/junxiaoguo/opt/anaconda3/envs/ml/lib/python3.10/site-packages/skopt/optimizer/optimizer.py:449: UserWarning: The objective has been evaluated at this point before.\n",
      "  warnings.warn(\"The objective has been evaluated \"\n",
      "/Users/junxiaoguo/opt/anaconda3/envs/ml/lib/python3.10/site-packages/skopt/optimizer/optimizer.py:449: UserWarning: The objective has been evaluated at this point before.\n",
      "  warnings.warn(\"The objective has been evaluated \"\n",
      "/Users/junxiaoguo/opt/anaconda3/envs/ml/lib/python3.10/site-packages/skopt/optimizer/optimizer.py:449: UserWarning: The objective has been evaluated at this point before.\n",
      "  warnings.warn(\"The objective has been evaluated \"\n",
      "/Users/junxiaoguo/opt/anaconda3/envs/ml/lib/python3.10/site-packages/skopt/optimizer/optimizer.py:449: UserWarning: The objective has been evaluated at this point before.\n",
      "  warnings.warn(\"The objective has been evaluated \"\n",
      "/Users/junxiaoguo/opt/anaconda3/envs/ml/lib/python3.10/site-packages/skopt/optimizer/optimizer.py:449: UserWarning: The objective has been evaluated at this point before.\n",
      "  warnings.warn(\"The objective has been evaluated \"\n",
      "/Users/junxiaoguo/opt/anaconda3/envs/ml/lib/python3.10/site-packages/skopt/optimizer/optimizer.py:449: UserWarning: The objective has been evaluated at this point before.\n",
      "  warnings.warn(\"The objective has been evaluated \"\n",
      "/Users/junxiaoguo/opt/anaconda3/envs/ml/lib/python3.10/site-packages/skopt/optimizer/optimizer.py:449: UserWarning: The objective has been evaluated at this point before.\n",
      "  warnings.warn(\"The objective has been evaluated \"\n",
      "/Users/junxiaoguo/opt/anaconda3/envs/ml/lib/python3.10/site-packages/skopt/optimizer/optimizer.py:449: UserWarning: The objective has been evaluated at this point before.\n",
      "  warnings.warn(\"The objective has been evaluated \"\n",
      "/Users/junxiaoguo/opt/anaconda3/envs/ml/lib/python3.10/site-packages/skopt/optimizer/optimizer.py:449: UserWarning: The objective has been evaluated at this point before.\n",
      "  warnings.warn(\"The objective has been evaluated \"\n",
      "/Users/junxiaoguo/opt/anaconda3/envs/ml/lib/python3.10/site-packages/skopt/optimizer/optimizer.py:449: UserWarning: The objective has been evaluated at this point before.\n",
      "  warnings.warn(\"The objective has been evaluated \"\n",
      "/Users/junxiaoguo/opt/anaconda3/envs/ml/lib/python3.10/site-packages/skopt/optimizer/optimizer.py:449: UserWarning: The objective has been evaluated at this point before.\n",
      "  warnings.warn(\"The objective has been evaluated \"\n",
      "/Users/junxiaoguo/opt/anaconda3/envs/ml/lib/python3.10/site-packages/skopt/optimizer/optimizer.py:449: UserWarning: The objective has been evaluated at this point before.\n",
      "  warnings.warn(\"The objective has been evaluated \"\n",
      "/Users/junxiaoguo/opt/anaconda3/envs/ml/lib/python3.10/site-packages/skopt/optimizer/optimizer.py:449: UserWarning: The objective has been evaluated at this point before.\n",
      "  warnings.warn(\"The objective has been evaluated \"\n",
      "/Users/junxiaoguo/opt/anaconda3/envs/ml/lib/python3.10/site-packages/skopt/optimizer/optimizer.py:449: UserWarning: The objective has been evaluated at this point before.\n",
      "  warnings.warn(\"The objective has been evaluated \"\n",
      "/Users/junxiaoguo/opt/anaconda3/envs/ml/lib/python3.10/site-packages/skopt/optimizer/optimizer.py:449: UserWarning: The objective has been evaluated at this point before.\n",
      "  warnings.warn(\"The objective has been evaluated \"\n",
      "/Users/junxiaoguo/opt/anaconda3/envs/ml/lib/python3.10/site-packages/skopt/optimizer/optimizer.py:449: UserWarning: The objective has been evaluated at this point before.\n",
      "  warnings.warn(\"The objective has been evaluated \"\n",
      "/Users/junxiaoguo/opt/anaconda3/envs/ml/lib/python3.10/site-packages/skopt/optimizer/optimizer.py:449: UserWarning: The objective has been evaluated at this point before.\n",
      "  warnings.warn(\"The objective has been evaluated \"\n",
      "/Users/junxiaoguo/opt/anaconda3/envs/ml/lib/python3.10/site-packages/skopt/optimizer/optimizer.py:449: UserWarning: The objective has been evaluated at this point before.\n",
      "  warnings.warn(\"The objective has been evaluated \"\n",
      "/Users/junxiaoguo/opt/anaconda3/envs/ml/lib/python3.10/site-packages/skopt/optimizer/optimizer.py:449: UserWarning: The objective has been evaluated at this point before.\n",
      "  warnings.warn(\"The objective has been evaluated \"\n",
      "/Users/junxiaoguo/opt/anaconda3/envs/ml/lib/python3.10/site-packages/skopt/optimizer/optimizer.py:449: UserWarning: The objective has been evaluated at this point before.\n",
      "  warnings.warn(\"The objective has been evaluated \"\n",
      "/Users/junxiaoguo/opt/anaconda3/envs/ml/lib/python3.10/site-packages/skopt/optimizer/optimizer.py:449: UserWarning: The objective has been evaluated at this point before.\n",
      "  warnings.warn(\"The objective has been evaluated \"\n",
      "/Users/junxiaoguo/opt/anaconda3/envs/ml/lib/python3.10/site-packages/skopt/optimizer/optimizer.py:449: UserWarning: The objective has been evaluated at this point before.\n",
      "  warnings.warn(\"The objective has been evaluated \"\n",
      "/Users/junxiaoguo/opt/anaconda3/envs/ml/lib/python3.10/site-packages/skopt/optimizer/optimizer.py:449: UserWarning: The objective has been evaluated at this point before.\n",
      "  warnings.warn(\"The objective has been evaluated \"\n",
      "/Users/junxiaoguo/opt/anaconda3/envs/ml/lib/python3.10/site-packages/skopt/optimizer/optimizer.py:449: UserWarning: The objective has been evaluated at this point before.\n",
      "  warnings.warn(\"The objective has been evaluated \"\n",
      "/Users/junxiaoguo/opt/anaconda3/envs/ml/lib/python3.10/site-packages/skopt/optimizer/optimizer.py:449: UserWarning: The objective has been evaluated at this point before.\n",
      "  warnings.warn(\"The objective has been evaluated \"\n",
      "/Users/junxiaoguo/opt/anaconda3/envs/ml/lib/python3.10/site-packages/skopt/optimizer/optimizer.py:449: UserWarning: The objective has been evaluated at this point before.\n",
      "  warnings.warn(\"The objective has been evaluated \"\n",
      "/Users/junxiaoguo/opt/anaconda3/envs/ml/lib/python3.10/site-packages/skopt/optimizer/optimizer.py:449: UserWarning: The objective has been evaluated at this point before.\n",
      "  warnings.warn(\"The objective has been evaluated \"\n",
      "/Users/junxiaoguo/opt/anaconda3/envs/ml/lib/python3.10/site-packages/skopt/optimizer/optimizer.py:449: UserWarning: The objective has been evaluated at this point before.\n",
      "  warnings.warn(\"The objective has been evaluated \"\n",
      "/Users/junxiaoguo/opt/anaconda3/envs/ml/lib/python3.10/site-packages/skopt/optimizer/optimizer.py:449: UserWarning: The objective has been evaluated at this point before.\n",
      "  warnings.warn(\"The objective has been evaluated \"\n",
      "/Users/junxiaoguo/opt/anaconda3/envs/ml/lib/python3.10/site-packages/skopt/optimizer/optimizer.py:449: UserWarning: The objective has been evaluated at this point before.\n",
      "  warnings.warn(\"The objective has been evaluated \"\n",
      "/Users/junxiaoguo/opt/anaconda3/envs/ml/lib/python3.10/site-packages/skopt/optimizer/optimizer.py:449: UserWarning: The objective has been evaluated at this point before.\n",
      "  warnings.warn(\"The objective has been evaluated \"\n",
      "/Users/junxiaoguo/opt/anaconda3/envs/ml/lib/python3.10/site-packages/skopt/optimizer/optimizer.py:449: UserWarning: The objective has been evaluated at this point before.\n",
      "  warnings.warn(\"The objective has been evaluated \"\n",
      "/Users/junxiaoguo/opt/anaconda3/envs/ml/lib/python3.10/site-packages/skopt/optimizer/optimizer.py:449: UserWarning: The objective has been evaluated at this point before.\n",
      "  warnings.warn(\"The objective has been evaluated \"\n",
      "/Users/junxiaoguo/opt/anaconda3/envs/ml/lib/python3.10/site-packages/skopt/optimizer/optimizer.py:449: UserWarning: The objective has been evaluated at this point before.\n",
      "  warnings.warn(\"The objective has been evaluated \"\n",
      "/Users/junxiaoguo/opt/anaconda3/envs/ml/lib/python3.10/site-packages/skopt/optimizer/optimizer.py:449: UserWarning: The objective has been evaluated at this point before.\n",
      "  warnings.warn(\"The objective has been evaluated \"\n",
      "/Users/junxiaoguo/opt/anaconda3/envs/ml/lib/python3.10/site-packages/skopt/optimizer/optimizer.py:449: UserWarning: The objective has been evaluated at this point before.\n",
      "  warnings.warn(\"The objective has been evaluated \"\n",
      "/Users/junxiaoguo/opt/anaconda3/envs/ml/lib/python3.10/site-packages/skopt/optimizer/optimizer.py:449: UserWarning: The objective has been evaluated at this point before.\n",
      "  warnings.warn(\"The objective has been evaluated \"\n",
      "/Users/junxiaoguo/opt/anaconda3/envs/ml/lib/python3.10/site-packages/skopt/optimizer/optimizer.py:449: UserWarning: The objective has been evaluated at this point before.\n",
      "  warnings.warn(\"The objective has been evaluated \"\n",
      "/Users/junxiaoguo/opt/anaconda3/envs/ml/lib/python3.10/site-packages/skopt/optimizer/optimizer.py:449: UserWarning: The objective has been evaluated at this point before.\n",
      "  warnings.warn(\"The objective has been evaluated \"\n",
      "/Users/junxiaoguo/opt/anaconda3/envs/ml/lib/python3.10/site-packages/skopt/optimizer/optimizer.py:449: UserWarning: The objective has been evaluated at this point before.\n",
      "  warnings.warn(\"The objective has been evaluated \"\n",
      "/Users/junxiaoguo/opt/anaconda3/envs/ml/lib/python3.10/site-packages/skopt/optimizer/optimizer.py:449: UserWarning: The objective has been evaluated at this point before.\n",
      "  warnings.warn(\"The objective has been evaluated \"\n",
      "/Users/junxiaoguo/opt/anaconda3/envs/ml/lib/python3.10/site-packages/skopt/optimizer/optimizer.py:449: UserWarning: The objective has been evaluated at this point before.\n",
      "  warnings.warn(\"The objective has been evaluated \"\n",
      "/Users/junxiaoguo/opt/anaconda3/envs/ml/lib/python3.10/site-packages/skopt/optimizer/optimizer.py:449: UserWarning: The objective has been evaluated at this point before.\n",
      "  warnings.warn(\"The objective has been evaluated \"\n",
      "/Users/junxiaoguo/opt/anaconda3/envs/ml/lib/python3.10/site-packages/skopt/optimizer/optimizer.py:449: UserWarning: The objective has been evaluated at this point before.\n",
      "  warnings.warn(\"The objective has been evaluated \"\n",
      "/Users/junxiaoguo/opt/anaconda3/envs/ml/lib/python3.10/site-packages/skopt/optimizer/optimizer.py:449: UserWarning: The objective has been evaluated at this point before.\n",
      "  warnings.warn(\"The objective has been evaluated \"\n",
      "/Users/junxiaoguo/opt/anaconda3/envs/ml/lib/python3.10/site-packages/skopt/optimizer/optimizer.py:449: UserWarning: The objective has been evaluated at this point before.\n",
      "  warnings.warn(\"The objective has been evaluated \"\n",
      "/Users/junxiaoguo/opt/anaconda3/envs/ml/lib/python3.10/site-packages/skopt/optimizer/optimizer.py:449: UserWarning: The objective has been evaluated at this point before.\n",
      "  warnings.warn(\"The objective has been evaluated \"\n",
      "/Users/junxiaoguo/opt/anaconda3/envs/ml/lib/python3.10/site-packages/skopt/optimizer/optimizer.py:449: UserWarning: The objective has been evaluated at this point before.\n",
      "  warnings.warn(\"The objective has been evaluated \"\n",
      "/Users/junxiaoguo/opt/anaconda3/envs/ml/lib/python3.10/site-packages/skopt/optimizer/optimizer.py:449: UserWarning: The objective has been evaluated at this point before.\n",
      "  warnings.warn(\"The objective has been evaluated \"\n",
      "/Users/junxiaoguo/opt/anaconda3/envs/ml/lib/python3.10/site-packages/skopt/optimizer/optimizer.py:449: UserWarning: The objective has been evaluated at this point before.\n",
      "  warnings.warn(\"The objective has been evaluated \"\n",
      "/Users/junxiaoguo/opt/anaconda3/envs/ml/lib/python3.10/site-packages/skopt/optimizer/optimizer.py:449: UserWarning: The objective has been evaluated at this point before.\n",
      "  warnings.warn(\"The objective has been evaluated \"\n",
      "/Users/junxiaoguo/opt/anaconda3/envs/ml/lib/python3.10/site-packages/skopt/optimizer/optimizer.py:449: UserWarning: The objective has been evaluated at this point before.\n",
      "  warnings.warn(\"The objective has been evaluated \"\n",
      "/Users/junxiaoguo/opt/anaconda3/envs/ml/lib/python3.10/site-packages/skopt/optimizer/optimizer.py:449: UserWarning: The objective has been evaluated at this point before.\n",
      "  warnings.warn(\"The objective has been evaluated \"\n",
      "/Users/junxiaoguo/opt/anaconda3/envs/ml/lib/python3.10/site-packages/skopt/optimizer/optimizer.py:449: UserWarning: The objective has been evaluated at this point before.\n",
      "  warnings.warn(\"The objective has been evaluated \"\n",
      "/Users/junxiaoguo/opt/anaconda3/envs/ml/lib/python3.10/site-packages/skopt/optimizer/optimizer.py:449: UserWarning: The objective has been evaluated at this point before.\n",
      "  warnings.warn(\"The objective has been evaluated \"\n",
      "/Users/junxiaoguo/opt/anaconda3/envs/ml/lib/python3.10/site-packages/skopt/optimizer/optimizer.py:449: UserWarning: The objective has been evaluated at this point before.\n",
      "  warnings.warn(\"The objective has been evaluated \"\n",
      "/Users/junxiaoguo/opt/anaconda3/envs/ml/lib/python3.10/site-packages/skopt/optimizer/optimizer.py:449: UserWarning: The objective has been evaluated at this point before.\n",
      "  warnings.warn(\"The objective has been evaluated \"\n",
      "/Users/junxiaoguo/opt/anaconda3/envs/ml/lib/python3.10/site-packages/skopt/optimizer/optimizer.py:449: UserWarning: The objective has been evaluated at this point before.\n",
      "  warnings.warn(\"The objective has been evaluated \"\n",
      "/Users/junxiaoguo/opt/anaconda3/envs/ml/lib/python3.10/site-packages/skopt/optimizer/optimizer.py:449: UserWarning: The objective has been evaluated at this point before.\n",
      "  warnings.warn(\"The objective has been evaluated \"\n",
      "/Users/junxiaoguo/opt/anaconda3/envs/ml/lib/python3.10/site-packages/skopt/optimizer/optimizer.py:449: UserWarning: The objective has been evaluated at this point before.\n",
      "  warnings.warn(\"The objective has been evaluated \"\n",
      "/Users/junxiaoguo/opt/anaconda3/envs/ml/lib/python3.10/site-packages/skopt/optimizer/optimizer.py:449: UserWarning: The objective has been evaluated at this point before.\n",
      "  warnings.warn(\"The objective has been evaluated \"\n",
      "/Users/junxiaoguo/opt/anaconda3/envs/ml/lib/python3.10/site-packages/skopt/optimizer/optimizer.py:449: UserWarning: The objective has been evaluated at this point before.\n",
      "  warnings.warn(\"The objective has been evaluated \"\n",
      "/Users/junxiaoguo/opt/anaconda3/envs/ml/lib/python3.10/site-packages/skopt/optimizer/optimizer.py:449: UserWarning: The objective has been evaluated at this point before.\n",
      "  warnings.warn(\"The objective has been evaluated \"\n",
      "/Users/junxiaoguo/opt/anaconda3/envs/ml/lib/python3.10/site-packages/skopt/optimizer/optimizer.py:449: UserWarning: The objective has been evaluated at this point before.\n",
      "  warnings.warn(\"The objective has been evaluated \"\n",
      "/Users/junxiaoguo/opt/anaconda3/envs/ml/lib/python3.10/site-packages/skopt/optimizer/optimizer.py:449: UserWarning: The objective has been evaluated at this point before.\n",
      "  warnings.warn(\"The objective has been evaluated \"\n",
      "/Users/junxiaoguo/opt/anaconda3/envs/ml/lib/python3.10/site-packages/skopt/optimizer/optimizer.py:449: UserWarning: The objective has been evaluated at this point before.\n",
      "  warnings.warn(\"The objective has been evaluated \"\n"
     ]
    },
    {
     "name": "stdout",
     "output_type": "stream",
     "text": [
      "Best Accuracy: 0.974\n",
      "Best Parameters: n_neighbors=5, p=1\n"
     ]
    }
   ],
   "source": [
    "# example of bayesian optimization with scikit-optimize\n",
    "from numpy import mean\n",
    "from sklearn.datasets import make_blobs\n",
    "from sklearn.model_selection import cross_val_score\n",
    "from sklearn.neighbors import KNeighborsClassifier\n",
    "from skopt.space import Integer\n",
    "from skopt.utils import use_named_args\n",
    "from skopt import gp_minimize\n",
    "\n",
    "# generate 2d classification dataset\n",
    "X, y = make_blobs(n_samples=500, centers=3, n_features=2)\n",
    "# define the model\n",
    "model = KNeighborsClassifier()\n",
    "# define the space of hyperparameters to search\n",
    "search_space = [Integer(1, 5, name='n_neighbors'), Integer(1, 2, name='p')]\n",
    "\n",
    "# define the function used to evaluate a given configuration\n",
    "@use_named_args(search_space)\n",
    "def evaluate_model(**params):\n",
    "\t# something\n",
    "\tmodel.set_params(**params)\n",
    "\t# calculate 5-fold cross validation\n",
    "\tresult = cross_val_score(model, X, y, cv=5, n_jobs=-1, scoring='accuracy')\n",
    "\t# calculate the mean of the scores\n",
    "\testimate = mean(result)\n",
    "\treturn 1.0 - estimate\n",
    "\n",
    "# perform optimization\n",
    "result = gp_minimize(evaluate_model, search_space)\n",
    "# summarizing finding:\n",
    "print('Best Accuracy: %.3f' % (1.0 - result.fun))\n",
    "print('Best Parameters: n_neighbors=%d, p=%d' % (result.x[0], result.x[1]))"
   ]
  },
  {
   "cell_type": "markdown",
   "id": "ace40a61-fc2f-442a-a322-a8c57fa11b1c",
   "metadata": {},
   "source": [
    "Running the example executes the hyperparameter tuning using Bayesian Optimization."
   ]
  },
  {
   "cell_type": "code",
   "execution_count": null,
   "id": "3821d519-5fa2-4f7f-bb8e-89c392ec84aa",
   "metadata": {},
   "outputs": [],
   "source": []
  }
 ],
 "metadata": {
  "kernelspec": {
   "display_name": "Python 3 (ipykernel)",
   "language": "python",
   "name": "python3"
  },
  "language_info": {
   "codemirror_mode": {
    "name": "ipython",
    "version": 3
   },
   "file_extension": ".py",
   "mimetype": "text/x-python",
   "name": "python",
   "nbconvert_exporter": "python",
   "pygments_lexer": "ipython3",
   "version": "3.10.9"
  }
 },
 "nbformat": 4,
 "nbformat_minor": 5
}
