{
 "cells": [
  {
   "cell_type": "markdown",
   "id": "5730b390-924b-4e0f-b127-f915fd748f20",
   "metadata": {},
   "source": [
    "## Metrics\n",
    "\n",
    "This section introduces the metris for QA model."
   ]
  },
  {
   "cell_type": "markdown",
   "id": "1944cf6e-46fb-456e-84d7-e5331180d3d4",
   "metadata": {},
   "source": [
    "## Metric1: Exact Match Metric\n",
    "\n",
    "The exact match (EM) metric does what you would expect it to. It returns a boolean value, yes or no, as to whether our predicted text matches to our true text. Let's take the following answers as our examples:"
   ]
  },
  {
   "cell_type": "code",
   "execution_count": 1,
   "id": "454c456b-64be-4c09-9e26-a719e96b1f3b",
   "metadata": {
    "tags": []
   },
   "outputs": [],
   "source": [
    "answers = [{'predicted': 'France', 'true': 'France.'},\n",
    "           {'predicted': 'in the 10th and 11th centuries',\n",
    "            'true': '10th and 11th centuries'},\n",
    "           {'predicted': '10th and 11th centuries', 'true': '10th and 11th centuries'},\n",
    "           {'predicted': 'Denmark, Iceland and Norway',\n",
    "            'true': 'Denmark, Iceland and Norway'},\n",
    "           {'predicted': 'Rollo', 'true': 'Rollo,'}]"
   ]
  },
  {
   "cell_type": "markdown",
   "id": "b93df391-3418-411b-9a8f-d41f1ee0a26a",
   "metadata": {},
   "source": [
    "To calculate the EM accuracy of our model using these five predictions, all we need to do is iterate through each prediction, and append a `1` where there is an exact match, or a `0` where there is not."
   ]
  },
  {
   "cell_type": "code",
   "execution_count": 2,
   "id": "2aaf54ca-9bc5-4c4b-b871-caf381d2e89e",
   "metadata": {
    "tags": []
   },
   "outputs": [
    {
     "data": {
      "text/plain": [
       "0.4"
      ]
     },
     "execution_count": 2,
     "metadata": {},
     "output_type": "execute_result"
    }
   ],
   "source": [
    "em = []\n",
    "\n",
    "for answer in answers:\n",
    "    if answer['predicted'] == answer['true']:\n",
    "        em.append(1)\n",
    "    else:\n",
    "        em.append(0)\n",
    "\n",
    "# then total up all values in em and divide by number of values\n",
    "sum(em)/len(em)"
   ]
  },
  {
   "cell_type": "markdown",
   "id": "7a5e2e48-3034-4073-b6fc-1faacd7204b3",
   "metadata": {
    "tags": []
   },
   "source": [
    "A 40% EM score, which doesn't look very good despite the fact that we got incredibly close on every single answer. This is one of the limitations of using the EM metric, but we can make it slightly more lenient. For example our first answer returns 'France' and 'France.', the only difference being the final punctuation which is included in the true answer (which is actually less correct that what our model predicted).\n",
    "\n",
    "We can clean each side of our text before comparison to remove these minor differences and return an exact match. For this, we can use regular expressions. We will remove any character which is not a space, letter, or number."
   ]
  },
  {
   "cell_type": "code",
   "execution_count": 4,
   "id": "08a0d36c-5544-4e6c-914c-ae64c9290996",
   "metadata": {
    "tags": []
   },
   "outputs": [
    {
     "data": {
      "text/plain": [
       "0.8"
      ]
     },
     "execution_count": 4,
     "metadata": {},
     "output_type": "execute_result"
    }
   ],
   "source": [
    "import re\n",
    "\n",
    "em = []\n",
    "\n",
    "for answer in answers:\n",
    "    pred = re.sub('[^0-9a-z ]', '', answer['predicted'].lower())\n",
    "    true = re.sub('[^0-9a-z ]', '', answer['true'].lower())\n",
    "    if pred == true:\n",
    "        em.append(1)\n",
    "    else:\n",
    "        em.append(0)\n",
    "\n",
    "# then total up all values in em and divide by number of values\n",
    "sum(em)/len(em)"
   ]
  },
  {
   "cell_type": "markdown",
   "id": "409edfae-1236-4c80-9575-004e71ea2a10",
   "metadata": {
    "tags": []
   },
   "source": [
    "Now we get a slightly better score of 80%, but this is still not representative of the models performance. Ideally, we want to be turning to more advanced metrics that can deal with more fuzzy logic. We will be covering one of those methods next."
   ]
  },
  {
   "cell_type": "markdown",
   "id": "dc16f58c-1558-4553-beed-85538171e8bc",
   "metadata": {},
   "source": [
    "## Metric2: ROUGE\n",
    "\n",
    "ROUGE stands for Recall-Oriented Understudy for Gisting Evaluation. The name is deceptively complicated, because this is not a difficult metric to understand, and it's incredibly easy to implement."
   ]
  },
  {
   "cell_type": "markdown",
   "id": "c8266059-01f8-4669-9c7e-a92f5ea6c868",
   "metadata": {},
   "source": [
    "### What is ROUGE\n",
    "\n",
    "ROUGE is actually a set of metrics, rather than just one. We will cover the main ones that are most likely to be used, starting with ROUGE-N.\n",
    "\n",
    "#### ROUGE-N\n",
    "\n",
    "ROUGE-N measures the number of matching 'n-grams' between our model predicted answer and a 'reference'.\n",
    "\n",
    "An n-gram is simply a grouping of tokens/words. A unigram (1-gram) would consist of a single word. A bigram (2-gram) consists of two consecutive words:\n",
    "\n",
    "Original: \"the quick brown fox jumps over\"\n",
    "\n",
    "Unigrams: ['the', 'quick', 'brown', 'fox', 'jumps', 'over']\n",
    "\n",
    "Bigrams: ['the quick', 'quick brown', 'brown fox', 'fox jumps', 'jumps over']\n",
    "\n",
    "Trigrams: ['the quick brown', 'quick brown fox', 'brown fox jumps', 'fox jumps over']\n",
    "\n",
    "The reference in our case is our true answer.\n",
    "\n",
    "With ROUGE-N, the N represents the n-gram that we are using. For ROUGE-1 we would be measuring the match-rate of unigrams between our model output and reference.\n",
    "\n",
    "ROUGE-2 and ROUGE-3 would use bigrams and trigrams respectively.\n",
    "\n",
    "Once we have decided which N to use — we now decide on whether we’d like to calculate the ROUGE recall, precision, or F1 score."
   ]
  },
  {
   "cell_type": "markdown",
   "id": "32f69665-4290-4f62-9ef8-623fde06c670",
   "metadata": {},
   "source": [
    "#### Recall\n",
    "The recall counts the number of overlapping n-grams found in both the model output and reference — then divides this number by the total number of n-grams in the reference. It looks like this:\n",
    "\n",
    "![recall](/assets/images/QA_metrics/recall.jpg)\n",
    "\n",
    "This is great for ensuring our model is **capturing all of the information contained in the reference** — but this isn’t so great at ensuring our model isn’t just pushing out a huge number of words to game the recall score:\n",
    "\n",
    "\n",
    "![rouge-gaming-recall](assets/images/QA_metrics/rouge_gaming_recall.png)\n",
    "\n",
    "#### Precision\n",
    "\n",
    "To avoid this we use the precision metric — which is calculated in almost the exact same way, but rather than dividing by the reference n-gram count, we divide by the model n-gram count.\n",
    "\n",
    "\n",
    "![precision-1](images/QA_metrics/rouge_precision_calc.png)\n",
    "![precision-1](images/QA_metrics/rouge_precision_fixes_recall.png)\n",
    "\n"
   ]
  },
  {
   "cell_type": "markdown",
   "id": "c3d08ea5-1bac-4d62-81c6-58a4af59a6c7",
   "metadata": {},
   "source": [
    "#### F1-Score\n",
    "Now that we both the recall and precision values, we can use them to calculate our ROUGE F1 score like so:\n",
    "\n",
    "$$2*\\frac{precision*recall}{precision+recall}$$\n",
    "![f1-1](images/QA_metrics/rouge_f1.png)\n",
    "\n",
    "That gives us a reliable measure of our model performance that relies not only on the model capturing as many words as possible (recall) but doing so without outputting irrelevant words (precision)."
   ]
  },
  {
   "cell_type": "markdown",
   "id": "02c5ce8e-eecd-463f-b098-6e94df90273e",
   "metadata": {},
   "source": [
    "#### ROUGE-L\n",
    "ROUGE-L measures the longest common subsequence (LCS) between our model output and reference. All this means is that we count the longest sequence of tokens that is shared between both:\n",
    "\n",
    "![rouge-l](images/QA_metrics/rouge_l.png)\n",
    "\n",
    "The idea here is that a longer shared sequence would indicate more similarity between the two sequences. We can apply our recall and precision calculations just like before — but this time we replace the match with LCS.\n",
    "\n",
    "First we calculate the LCS reacall & precision:\n",
    "\n",
    "\n",
    "![rouge-l](images/QA_metrics/rouge_l_recall.png)\n",
    "![rouge-l](images/QA_metrics/rouge_l_precision.png)\n",
    "\n",
    "And finally, we calculate the F1 score just like we did before:\n",
    "\n",
    "$$2*\\frac{0.29*0.66}{0.29+0.66} = 0.6$$"
   ]
  },
  {
   "cell_type": "markdown",
   "id": "117c9e7d-079a-4e9a-883e-72a5ba7c2227",
   "metadata": {},
   "source": [
    "#### ROUGE-S\n",
    "The final ROUGE metric we will look at is the ROUGE-S — or skip-gram concurrence metric.\n",
    "\n",
    "Now, this metric is much less popular than ROUGE-N and ROUGE-L covered already — but it’s worth being aware of what it does.\n",
    "\n",
    "Using the skip-gram metric allows us to search for consecutive words from the reference text, that appear in the model output but are separated by one-or-more other words.\n",
    "\n",
    "So, if we took the bigram “the fox”, our original ROUGE-2 metric would only match this if this exact sequence was found in the model output. If the model instead outputs “the brown fox” — no match would be found.\n",
    "\n",
    "ROUGE-S allows us to add a degree of leniency to our n-gram matching. For our bigram example we could match by using a skip-bigram measure:\n",
    "\n",
    "![rouge-s](images/QA_metrics/rouge_s_recall.png)\n",
    "![rouge-s](images/QA_metrics/rouge_s_precision.png)\n",
    "\n",
    "Then we calculate the F1 score as before"
   ]
  },
  {
   "cell_type": "markdown",
   "id": "11b336c5-6ff1-460c-92a7-34883bc789ae",
   "metadata": {},
   "source": [
    "#### Cons\n",
    "ROUGE is a great evaluation metric but comes with some drawbacks. In-particular, ROUGE does not cater for different words that have the same meaning — as it measures syntactical matches rather than semantics.\n",
    "\n",
    "So, if we had two sequences that had the same meaning — but used different words to express that meaning — they could be assigned a low ROUGE score.\n",
    "\n",
    "This can be offset slightly by using several references and taking the average score, but this will not solve the problem entirely.\n",
    "\n",
    "Nonetheless, it’s a good metric which is very popular for assessing the performance of several NLP tasks, including machine translation, automatic summarization, and for us, question-and-answering"
   ]
  },
  {
   "cell_type": "markdown",
   "id": "a1e3d2f6-774a-4eb9-be6f-689500be2a8a",
   "metadata": {},
   "source": [
    "### Apply Rouge In Python\n",
    "We've worked through the theory of the ROUGE metrics and how they work. Fortunately, implementing these metrics in Python is incredibly easy thanks to the Python rouge library.\n",
    "\n",
    "We can install the library through pip:\n",
    "\n",
    "```shell\n",
    "$ pip install rouge\n",
    "```\n",
    "\n",
    "And scoring our model output against a reference is as easy as this:"
   ]
  },
  {
   "cell_type": "code",
   "execution_count": 9,
   "id": "44987230-d305-4b13-842b-a9f591331889",
   "metadata": {
    "tags": []
   },
   "outputs": [
    {
     "data": {
      "text/plain": [
       "[{'rouge-1': {'r': 1.0, 'p': 0.5, 'f': 0.6666666622222223},\n",
       "  'rouge-2': {'r': 0.0, 'p': 0.0, 'f': 0.0},\n",
       "  'rouge-l': {'r': 1.0, 'p': 0.5, 'f': 0.6666666622222223}}]"
      ]
     },
     "execution_count": 9,
     "metadata": {},
     "output_type": "execute_result"
    }
   ],
   "source": [
    "from rouge import Rouge\n",
    "\n",
    "model_out = 'hello to the world'\n",
    "reference = 'hello world'\n",
    "\n",
    "# initialize the rouge object\n",
    "rouge = Rouge()\n",
    "\n",
    "# get the scores\n",
    "rouge.get_scores(model_out, reference)"
   ]
  },
  {
   "cell_type": "markdown",
   "id": "25e1569d-4154-4ca0-8d45-e8b20ca2fb89",
   "metadata": {},
   "source": [
    "The get_scores method returns three metrics, ROUGE-N using a unigram (ROUGE-1) and a bigram (ROUGE-2) — and ROUGE-L.\n",
    "\n",
    "For each of these, we receive the F1 score $f$, precision $p$, and recall $r$.\n",
    "\n",
    "Let's apply this to our set of five answers and see what we get. First, we need to define the answers list."
   ]
  },
  {
   "cell_type": "code",
   "execution_count": 10,
   "id": "860480f0-b1b3-4c87-89a0-74928690ff5a",
   "metadata": {
    "tags": []
   },
   "outputs": [],
   "source": [
    "answers = [{'predicted': 'France', 'true': 'France.'},\n",
    "           {'predicted': 'in the 10th and 11th centuries',\n",
    "            'true': '10th and 11th centuries'},\n",
    "           {'predicted': '10th and 11th centuries', 'true': '10th and 11th centuries'},\n",
    "           {'predicted': 'Denmark, Iceland and Norway',\n",
    "            'true': 'Denmark, Iceland and Norway'},\n",
    "           {'predicted': 'Rollo', 'true': 'Rollo,'}]"
   ]
  },
  {
   "cell_type": "markdown",
   "id": "771b6a71-2c6e-4dcb-9ba4-140eb68ac75c",
   "metadata": {},
   "source": [
    "Then we need to reformat this list into two lists, one for our predictions model_out and another for the true answers reference:"
   ]
  },
  {
   "cell_type": "code",
   "execution_count": 11,
   "id": "a5742b16-d37a-41c7-94af-4090a015ac9a",
   "metadata": {
    "tags": []
   },
   "outputs": [],
   "source": [
    "model_out = [ans['predicted'] for ans in answers]\n",
    "\n",
    "reference = [ans['true'] for ans in answers]"
   ]
  },
  {
   "cell_type": "code",
   "execution_count": 12,
   "id": "c09e1c2b-ba67-4df5-a00b-dfe06bcffaea",
   "metadata": {
    "tags": []
   },
   "outputs": [
    {
     "data": {
      "text/plain": [
       "['France',\n",
       " 'in the 10th and 11th centuries',\n",
       " '10th and 11th centuries',\n",
       " 'Denmark, Iceland and Norway',\n",
       " 'Rollo']"
      ]
     },
     "execution_count": 12,
     "metadata": {},
     "output_type": "execute_result"
    }
   ],
   "source": [
    "model_out"
   ]
  },
  {
   "cell_type": "markdown",
   "id": "7aeffe13-6355-499a-bc44-6c7a355193b5",
   "metadata": {},
   "source": [
    "Now we can pass both of these lists to the rouge.get_scores method to return a list of results:"
   ]
  },
  {
   "cell_type": "code",
   "execution_count": 13,
   "id": "bf0ee80b-8ed9-4a1a-bcab-2d5c0b75277e",
   "metadata": {
    "tags": []
   },
   "outputs": [
    {
     "data": {
      "text/plain": [
       "[{'rouge-1': {'r': 1.0, 'p': 1.0, 'f': 0.999999995},\n",
       "  'rouge-2': {'r': 0.0, 'p': 0.0, 'f': 0.0},\n",
       "  'rouge-l': {'r': 1.0, 'p': 1.0, 'f': 0.999999995}},\n",
       " {'rouge-1': {'r': 1.0, 'p': 0.6666666666666666, 'f': 0.7999999952000001},\n",
       "  'rouge-2': {'r': 1.0, 'p': 0.6, 'f': 0.7499999953125},\n",
       "  'rouge-l': {'r': 1.0, 'p': 0.6666666666666666, 'f': 0.7999999952000001}},\n",
       " {'rouge-1': {'r': 1.0, 'p': 1.0, 'f': 0.999999995},\n",
       "  'rouge-2': {'r': 1.0, 'p': 1.0, 'f': 0.999999995},\n",
       "  'rouge-l': {'r': 1.0, 'p': 1.0, 'f': 0.999999995}},\n",
       " {'rouge-1': {'r': 1.0, 'p': 1.0, 'f': 0.999999995},\n",
       "  'rouge-2': {'r': 1.0, 'p': 1.0, 'f': 0.999999995},\n",
       "  'rouge-l': {'r': 1.0, 'p': 1.0, 'f': 0.999999995}},\n",
       " {'rouge-1': {'r': 0.0, 'p': 0.0, 'f': 0.0},\n",
       "  'rouge-2': {'r': 0.0, 'p': 0.0, 'f': 0.0},\n",
       "  'rouge-l': {'r': 0.0, 'p': 0.0, 'f': 0.0}}]"
      ]
     },
     "execution_count": 13,
     "metadata": {},
     "output_type": "execute_result"
    }
   ],
   "source": [
    "rouge.get_scores(model_out, reference)"
   ]
  },
  {
   "cell_type": "markdown",
   "id": "a6f6f162-d392-44a7-891f-d05be9fa68fe",
   "metadata": {},
   "source": [
    "Ideally, we want to get average metrics for all answers, we can do this by adding avg=True to the get_scores method."
   ]
  },
  {
   "cell_type": "code",
   "execution_count": 14,
   "id": "18f65f8c-3c6b-4ace-bdf8-3e40ad089abe",
   "metadata": {
    "tags": []
   },
   "outputs": [
    {
     "data": {
      "text/plain": [
       "{'rouge-1': {'r': 0.8, 'p': 0.7333333333333333, 'f': 0.7599999960400001},\n",
       " 'rouge-2': {'r': 0.6, 'p': 0.52, 'f': 0.5499999970625},\n",
       " 'rouge-l': {'r': 0.8, 'p': 0.7333333333333333, 'f': 0.7599999960400001}}"
      ]
     },
     "execution_count": 14,
     "metadata": {},
     "output_type": "execute_result"
    }
   ],
   "source": [
    "rouge.get_scores(model_out, reference, avg=True)"
   ]
  },
  {
   "cell_type": "markdown",
   "id": "f45b73f9-7919-44c6-938a-8ba4ac07d47c",
   "metadata": {},
   "source": [
    "And that's it, we've explored a few more insightful metrics for measuring our Q&A model performance. Going forwards, we'll be using ROUGE a lot, so it's good to get familiar with.And that's it, we've explored a few more insightful metrics for measuring our Q&A model performance. Going forwards, we'll be using ROUGE a lot, so it's good to get familiar with."
   ]
  }
 ],
 "metadata": {
  "kernelspec": {
   "display_name": "Python 3 (ipykernel)",
   "language": "python",
   "name": "python3"
  },
  "language_info": {
   "codemirror_mode": {
    "name": "ipython",
    "version": 3
   },
   "file_extension": ".py",
   "mimetype": "text/x-python",
   "name": "python",
   "nbconvert_exporter": "python",
   "pygments_lexer": "ipython3",
   "version": "3.10.9"
  }
 },
 "nbformat": 4,
 "nbformat_minor": 5
}
